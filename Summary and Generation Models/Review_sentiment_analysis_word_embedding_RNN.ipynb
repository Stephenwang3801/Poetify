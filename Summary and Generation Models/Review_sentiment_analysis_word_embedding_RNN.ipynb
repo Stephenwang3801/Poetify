{
  "nbformat": 4,
  "nbformat_minor": 0,
  "metadata": {
    "colab": {
      "name": "Review_sentiment_analysis_word_embedding_RNN.ipynb",
      "provenance": [],
      "collapsed_sections": []
    },
    "kernelspec": {
      "name": "python3",
      "display_name": "Python 3"
    },
    "language_info": {
      "name": "python"
    }
  },
  "cells": [
    {
      "cell_type": "code",
      "metadata": {
        "id": "A8P6CCRdRIbA"
      },
      "source": [
        "import csv\n",
        "import torch\n",
        "import torch.nn as nn\n",
        "import torch.nn.functional as F\n",
        "import torch.optim as optim\n",
        "import torchtext\n",
        "import numpy as np\n",
        "import matplotlib.pyplot as plt"
      ],
      "execution_count": 222,
      "outputs": []
    },
    {
      "cell_type": "code",
      "metadata": {
        "id": "kzNjKguxsN_5"
      },
      "source": [
        "import torch\n",
        "import torchtext\n",
        "\n",
        "# The first time you run this will download a ~823MB file\n",
        "glove = torchtext.vocab.GloVe(name=\"6B\", # trained on Wikipedia 2014 corpus\n",
        "                              dim=50)   # embedding size = 50"
      ],
      "execution_count": 223,
      "outputs": []
    },
    {
      "cell_type": "code",
      "metadata": {
        "colab": {
          "base_uri": "https://localhost:8080/"
        },
        "id": "-UYybvTK8xUH",
        "outputId": "35ffc2c2-ae12-4541-f431-38c24e599f07"
      },
      "source": [
        "glove['car']"
      ],
      "execution_count": 224,
      "outputs": [
        {
          "output_type": "execute_result",
          "data": {
            "text/plain": [
              "tensor([ 0.4769, -0.0846,  1.4641,  0.0470,  0.1469,  0.5082, -1.2228, -0.2261,\n",
              "         0.1931, -0.2976,  0.2060, -0.7128, -1.6288,  0.1710,  0.7480, -0.0619,\n",
              "        -0.6577,  1.3786, -0.6804, -1.7551,  0.5832,  0.2516, -1.2114,  0.8134,\n",
              "         0.0948, -1.6819, -0.6450,  0.6322,  1.1211,  0.1611,  2.5379,  0.2485,\n",
              "        -0.2682,  0.3282,  1.2916,  0.2355,  0.6147, -0.1344, -0.1324,  0.2740,\n",
              "        -0.1182,  0.1354,  0.0743, -0.6195,  0.4547, -0.3032, -0.2188, -0.5605,\n",
              "         1.1177, -0.3659])"
            ]
          },
          "metadata": {
            "tags": []
          },
          "execution_count": 224
        }
      ]
    },
    {
      "cell_type": "code",
      "metadata": {
        "colab": {
          "base_uri": "https://localhost:8080/"
        },
        "id": "T_Gmyf5L85nE",
        "outputId": "e5e9a667-faef-413a-d9ed-8b813b8066de"
      },
      "source": [
        "#words that are more similar have a smaller distance between them\n",
        "print(torch.norm(glove['good'] - glove['well']))"
      ],
      "execution_count": 225,
      "outputs": [
        {
          "output_type": "stream",
          "text": [
            "tensor(2.7703)\n"
          ],
          "name": "stdout"
        }
      ]
    },
    {
      "cell_type": "code",
      "metadata": {
        "colab": {
          "base_uri": "https://localhost:8080/"
        },
        "id": "FIZKTD2v_cxh",
        "outputId": "b8a33cbe-f8e1-42be-86d3-06529265b9f6"
      },
      "source": [
        "print(torch.norm(glove['good'] - glove['evil']))"
      ],
      "execution_count": 226,
      "outputs": [
        {
          "output_type": "stream",
          "text": [
            "tensor(5.4205)\n"
          ],
          "name": "stdout"
        }
      ]
    },
    {
      "cell_type": "code",
      "metadata": {
        "colab": {
          "base_uri": "https://localhost:8080/"
        },
        "id": "PhQQtQip_l58",
        "outputId": "bcb6c87c-a937-429a-e323-857788c93047"
      },
      "source": [
        "x = torch.tensor([1., 1.]).unsqueeze(0)\n",
        "y = torch.tensor([2., 2.]).unsqueeze(0)\n",
        "torch.cosine_similarity(x, y)"
      ],
      "execution_count": 227,
      "outputs": [
        {
          "output_type": "execute_result",
          "data": {
            "text/plain": [
              "tensor([1.])"
            ]
          },
          "metadata": {
            "tags": []
          },
          "execution_count": 227
        }
      ]
    },
    {
      "cell_type": "code",
      "metadata": {
        "colab": {
          "base_uri": "https://localhost:8080/"
        },
        "id": "2n-gLtaY_1Yq",
        "outputId": "22aebe0f-98c9-4f4c-89f7-961bf4f7532e"
      },
      "source": [
        "x = torch.tensor([1., 1.]).unsqueeze(0)\n",
        "y = torch.tensor([-2., -2.]).unsqueeze(0)\n",
        "torch.cosine_similarity(x, y)"
      ],
      "execution_count": 228,
      "outputs": [
        {
          "output_type": "execute_result",
          "data": {
            "text/plain": [
              "tensor([-1.])"
            ]
          },
          "metadata": {
            "tags": []
          },
          "execution_count": 228
        }
      ]
    },
    {
      "cell_type": "code",
      "metadata": {
        "colab": {
          "base_uri": "https://localhost:8080/"
        },
        "id": "P2sQOebi9qyK",
        "outputId": "8bdec835-8e97-47fa-87b3-5d3b81823090"
      },
      "source": [
        "#words that are more similar have a larger cosine_similarity\n",
        "x = glove['cat']\n",
        "y = glove['dog']\n",
        "print(torch.cosine_similarity(x.unsqueeze(0), y.unsqueeze(0)))"
      ],
      "execution_count": 229,
      "outputs": [
        {
          "output_type": "stream",
          "text": [
            "tensor([0.9218])\n"
          ],
          "name": "stdout"
        }
      ]
    },
    {
      "cell_type": "code",
      "metadata": {
        "colab": {
          "base_uri": "https://localhost:8080/"
        },
        "id": "0xUiwZr69_5S",
        "outputId": "b2146049-953c-4e6b-8863-7b9bccd4b48a"
      },
      "source": [
        "print(torch.cosine_similarity(glove['good'].unsqueeze(0), \n",
        "                        glove['bad'].unsqueeze(0)))"
      ],
      "execution_count": 230,
      "outputs": [
        {
          "output_type": "stream",
          "text": [
            "tensor([0.7965])\n"
          ],
          "name": "stdout"
        }
      ]
    },
    {
      "cell_type": "code",
      "metadata": {
        "colab": {
          "base_uri": "https://localhost:8080/"
        },
        "id": "RJrA8JTa-Ufa",
        "outputId": "5e4647c4-963e-4acd-c277-1214f4b4576f"
      },
      "source": [
        "print(torch.cosine_similarity(glove['good'].unsqueeze(0), \n",
        "                        glove['well'].unsqueeze(0)))"
      ],
      "execution_count": 231,
      "outputs": [
        {
          "output_type": "stream",
          "text": [
            "tensor([0.8511])\n"
          ],
          "name": "stdout"
        }
      ]
    },
    {
      "cell_type": "code",
      "metadata": {
        "colab": {
          "base_uri": "https://localhost:8080/"
        },
        "id": "Uixf6YbA-WZU",
        "outputId": "b036ccb7-8602-4a26-ab59-2b0f2767248d"
      },
      "source": [
        "print(torch.cosine_similarity(glove['evil'].unsqueeze(0), \n",
        "                        glove['good'].unsqueeze(0)))"
      ],
      "execution_count": 232,
      "outputs": [
        {
          "output_type": "stream",
          "text": [
            "tensor([0.4594])\n"
          ],
          "name": "stdout"
        }
      ]
    },
    {
      "cell_type": "code",
      "metadata": {
        "colab": {
          "base_uri": "https://localhost:8080/"
        },
        "id": "CY9yM1zS-kHj",
        "outputId": "fd6d7fa6-a933-427a-d50b-d1c96ae46722"
      },
      "source": [
        "print(torch.cosine_similarity(glove['window'].unsqueeze(0), \n",
        "                        glove['keyboard'].unsqueeze(0)))"
      ],
      "execution_count": 233,
      "outputs": [
        {
          "output_type": "stream",
          "text": [
            "tensor([0.4933])\n"
          ],
          "name": "stdout"
        }
      ]
    },
    {
      "cell_type": "code",
      "metadata": {
        "colab": {
          "base_uri": "https://localhost:8080/"
        },
        "id": "Lr-ZLrlB-ynN",
        "outputId": "ae5075a1-81eb-46d2-9885-dc60bb26caaf"
      },
      "source": [
        "print(torch.cosine_similarity(glove['window'].unsqueeze(0), \n",
        "                        glove['frame'].unsqueeze(0)))"
      ],
      "execution_count": 234,
      "outputs": [
        {
          "output_type": "stream",
          "text": [
            "tensor([0.7465])\n"
          ],
          "name": "stdout"
        }
      ]
    },
    {
      "cell_type": "code",
      "metadata": {
        "colab": {
          "base_uri": "https://localhost:8080/"
        },
        "id": "AxolrANDAeUX",
        "outputId": "ee3d7f35-1a4c-4484-af3f-6979fbd57302"
      },
      "source": [
        "word = 'cat'\n",
        "other = ['pet', 'dog', 'bike', 'kitten', 'puppy', 'kite', 'computer', 'neuron']\n",
        "for w in other:\n",
        "    dist = torch.norm(glove[word] - glove[w]) # euclidean distance\n",
        "    print(w, float(dist))"
      ],
      "execution_count": 235,
      "outputs": [
        {
          "output_type": "stream",
          "text": [
            "pet 3.039675712585449\n",
            "dog 1.8846031427383423\n",
            "bike 5.048375129699707\n",
            "kitten 3.5068609714508057\n",
            "puppy 3.0644655227661133\n",
            "kite 4.210376262664795\n",
            "computer 6.030652046203613\n",
            "neuron 6.228669166564941\n"
          ],
          "name": "stdout"
        }
      ]
    },
    {
      "cell_type": "code",
      "metadata": {
        "colab": {
          "base_uri": "https://localhost:8080/"
        },
        "id": "KdXPBjnDAvOU",
        "outputId": "7496f8db-f756-49f9-a3ca-92acbdd84521"
      },
      "source": [
        "def print_closest_words(vec, n=5):\n",
        "    dists = torch.norm(glove.vectors - vec, dim=1)     # compute distances to all words\n",
        "    lst = sorted(enumerate(dists.numpy()), key=lambda x: x[1]) # sort by distance\n",
        "    for idx, difference in lst[1:n+1]:                         # take the top n\n",
        "        print(glove.itos[idx], difference)\n",
        "\n",
        "print_closest_words(glove[\"cat\"], n=10)"
      ],
      "execution_count": 236,
      "outputs": [
        {
          "output_type": "stream",
          "text": [
            "dog 1.8846031\n",
            "rabbit 2.4572797\n",
            "monkey 2.8102052\n",
            "cats 2.8972251\n",
            "rat 2.9455352\n",
            "beast 2.9878407\n",
            "monster 3.0022194\n",
            "pet 3.0396757\n",
            "snake 3.0617998\n",
            "puppy 3.0644655\n"
          ],
          "name": "stdout"
        }
      ]
    },
    {
      "cell_type": "code",
      "metadata": {
        "colab": {
          "base_uri": "https://localhost:8080/"
        },
        "id": "3ESlZSrvBGgW",
        "outputId": "430d4b6d-7b9f-4c51-de64-5d101c680e1c"
      },
      "source": [
        "print_closest_words(glove['michael'])"
      ],
      "execution_count": 237,
      "outputs": [
        {
          "output_type": "stream",
          "text": [
            "peter 2.922138\n",
            "moore 2.9317658\n",
            "david 2.9446106\n",
            "steven 2.9881783\n",
            "murphy 3.018417\n"
          ],
          "name": "stdout"
        }
      ]
    },
    {
      "cell_type": "code",
      "metadata": {
        "colab": {
          "base_uri": "https://localhost:8080/"
        },
        "id": "p3T4_FrgBMla",
        "outputId": "9fffa893-2938-4b9d-bbb1-10b7e1e3f2f1"
      },
      "source": [
        "print_closest_words(glove['bravo'])"
      ],
      "execution_count": 238,
      "outputs": [
        {
          "output_type": "stream",
          "text": [
            "marlon 3.796622\n",
            "dwayne 3.8805976\n",
            "coco 3.908012\n",
            "hooper 3.9350464\n",
            "lara 4.029812\n"
          ],
          "name": "stdout"
        }
      ]
    },
    {
      "cell_type": "code",
      "metadata": {
        "colab": {
          "base_uri": "https://localhost:8080/"
        },
        "id": "wtrLYDAWBU8M",
        "outputId": "20c60fce-7468-4e7f-89d4-870b7da6ebc2"
      },
      "source": [
        "print_closest_words((glove['happy'] + glove['sad']) / 2)"
      ],
      "execution_count": 239,
      "outputs": [
        {
          "output_type": "stream",
          "text": [
            "happy 1.9199749\n",
            "feels 2.360464\n",
            "sorry 2.4984782\n",
            "hardly 2.52593\n",
            "imagine 2.5652788\n"
          ],
          "name": "stdout"
        }
      ]
    },
    {
      "cell_type": "code",
      "metadata": {
        "colab": {
          "base_uri": "https://localhost:8080/"
        },
        "id": "MH7TB6ObBcDe",
        "outputId": "26c790b5-b17b-4a18-d3fb-f20898cfbde0"
      },
      "source": [
        "print_closest_words((glove['lake'] + glove['building']) / 2)"
      ],
      "execution_count": 240,
      "outputs": [
        {
          "output_type": "stream",
          "text": [
            "surrounding 3.0698411\n",
            "nearby 3.1112065\n",
            "bridge 3.1585503\n",
            "along 3.1610188\n",
            "shore 3.1618817\n"
          ],
          "name": "stdout"
        }
      ]
    },
    {
      "cell_type": "code",
      "metadata": {
        "colab": {
          "base_uri": "https://localhost:8080/"
        },
        "id": "oGUT-WSHBiG9",
        "outputId": "88d2654d-e1b4-4cd3-cdde-5bec91a884a1"
      },
      "source": [
        "print_closest_words(glove['king'] - glove['man'] + glove['woman'])"
      ],
      "execution_count": 241,
      "outputs": [
        {
          "output_type": "stream",
          "text": [
            "queen 2.8391206\n",
            "prince 3.6610038\n",
            "elizabeth 3.7152522\n",
            "daughter 3.8317878\n",
            "widow 3.8493774\n"
          ],
          "name": "stdout"
        }
      ]
    },
    {
      "cell_type": "code",
      "metadata": {
        "colab": {
          "base_uri": "https://localhost:8080/"
        },
        "id": "rx8z-VR5BkNM",
        "outputId": "a8c86479-e7fe-47a9-e4f2-0fb58fdd3f3a"
      },
      "source": [
        "print_closest_words((glove['good'] + glove['bad']) / 2)"
      ],
      "execution_count": 242,
      "outputs": [
        {
          "output_type": "stream",
          "text": [
            "bad 1.6594452\n",
            "really 2.0014532\n",
            "little 2.0081773\n",
            "too 2.169402\n",
            "sure 2.171685\n"
          ],
          "name": "stdout"
        }
      ]
    },
    {
      "cell_type": "code",
      "metadata": {
        "colab": {
          "base_uri": "https://localhost:8080/"
        },
        "id": "E7Usjjh6Bv5y",
        "outputId": "f8e85cfc-1263-4bd4-cc06-92951247d1da"
      },
      "source": [
        "print_closest_words(glove['doctor'] - glove['man'] + glove['woman'])"
      ],
      "execution_count": 243,
      "outputs": [
        {
          "output_type": "stream",
          "text": [
            "nurse 3.1355345\n",
            "pregnant 3.7805371\n",
            "child 3.78347\n",
            "woman 3.8643107\n",
            "mother 3.922231\n"
          ],
          "name": "stdout"
        }
      ]
    },
    {
      "cell_type": "code",
      "metadata": {
        "colab": {
          "base_uri": "https://localhost:8080/"
        },
        "id": "cpYp_8NKB13W",
        "outputId": "e1b28bad-aa8a-48a0-b39b-60de914cd612"
      },
      "source": [
        "print_closest_words(glove['doctor'] - glove['woman'] + glove['man'])"
      ],
      "execution_count": 244,
      "outputs": [
        {
          "output_type": "stream",
          "text": [
            "man 3.9335632\n",
            "colleague 3.975502\n",
            "himself 3.9847784\n",
            "brother 3.9997008\n",
            "another 4.029071\n"
          ],
          "name": "stdout"
        }
      ]
    },
    {
      "cell_type": "code",
      "metadata": {
        "colab": {
          "base_uri": "https://localhost:8080/"
        },
        "id": "aopd-YkjFNzf",
        "outputId": "1f035005-1675-4d05-a46a-2ab1e20b0e78"
      },
      "source": [
        "#setup Google Drive\n",
        "from google.colab import drive\n",
        "drive.mount('/content/drive')"
      ],
      "execution_count": 245,
      "outputs": [
        {
          "output_type": "stream",
          "text": [
            "Drive already mounted at /content/drive; to attempt to forcibly remount, call drive.mount(\"/content/drive\", force_remount=True).\n"
          ],
          "name": "stdout"
        }
      ]
    },
    {
      "cell_type": "code",
      "metadata": {
        "colab": {
          "base_uri": "https://localhost:8080/"
        },
        "id": "kGr2MDqfN5kb",
        "outputId": "c2f2397c-e450-4d20-bbc8-191b7fe143e5"
      },
      "source": [
        "import csv\n",
        "\n",
        "# file location (make sure to use your file location)\n",
        "file_dir = '/content/drive/MyDrive/Aps360 Project/Datasets/'\n",
        "\n",
        "# load csv file\n",
        "def get_data():\n",
        "    return csv.reader(open(file_dir + \"train_sentiment.csv\",\"rt\", encoding=\"utf-8\"))\n",
        "\n",
        "# print only the first review\n",
        "for i, line in enumerate(get_data()):\n",
        "    if line[0] != '1':\n",
        "        print(line[0], line[-1])\n",
        "        break\n"
      ],
      "execution_count": 246,
      "outputs": [
        {
          "output_type": "stream",
          "text": [
            "2 Been going to Dr. Goldberg for over 10 years. I think I was one of his 1st patients when he started at MHMG. He's been great over the years and is really all about the big picture. It is because of him, not my now former gyn Dr. Markoff, that I found out I have fibroids. He explores all options with you and is very patient and understanding. He doesn't judge and asks all the right questions. Very thorough and wants to be kept in the loop on every aspect of your medical health and your life.\n"
          ],
          "name": "stdout"
        }
      ]
    },
    {
      "cell_type": "code",
      "metadata": {
        "colab": {
          "base_uri": "https://localhost:8080/"
        },
        "id": "LGeA1eaSQlBo",
        "outputId": "44e8275d-3c52-4ab8-dc07-a375beaf2a86"
      },
      "source": [
        "import torchtext\n",
        "glove = torchtext.vocab.GloVe(name=\"6B\", dim=50)\n",
        "\n",
        "def split_review(review):\n",
        "    # separate punctuations\n",
        "    review = review.replace(\".\", \" . \") \\\n",
        "                 .replace(\",\", \" , \") \\\n",
        "                 .replace(\";\", \" ; \") \\\n",
        "                 .replace(\"?\", \" ? \") \\\n",
        "                 .replace(\"!\", \" ! \") \\\n",
        "                 .replace(\"-\",\" - \") \\\n",
        "                 .replace(\"/\",\" / \") \\\n",
        "                 .replace(\":\",\" :\") \\\n",
        "                 .replace(\"%\",\" % \") \\\n",
        "                 .replace(\"I'm\", \"I am\") \\\n",
        "                 .replace(\"n't\",\" not\") \\\n",
        "                 .replace(\"'ve\",\" have\") \\\n",
        "                 .replace(\"'ll\",\" will\") \\\n",
        "                 .replace(\"'re\", \" are\") \\\n",
        "                 .replace(\"'d\",\" would\") \\\n",
        "                 .replace(\"it's\",\"it is\") \\\n",
        "                 .replace(\"It's\",\"It is\") \\\n",
        "                 .replace(\"there's\",\"there is\") \\\n",
        "                 .replace(\"what's\",\"what is\") \\\n",
        "                 .replace(\"\\\\n\",\" \") \\\n",
        "                 .replace(\"$\", \"$ \") \\\n",
        "                 .replace(\"\\\\\\\"\", \" \\\" \") \\\n",
        "                 .replace(\"(\",\"( \") \\\n",
        "                 .replace(\")\",\" )\") \\\n",
        "                 .replace(\"'\",\" ' \")\n",
        "\n",
        "    return review.lower().split()\n",
        "\n",
        "split_review(\"hello; don't you know?\")"
      ],
      "execution_count": 247,
      "outputs": [
        {
          "output_type": "execute_result",
          "data": {
            "text/plain": [
              "['hello', ';', 'do', 'not', 'you', 'know', '?']"
            ]
          },
          "metadata": {
            "tags": []
          },
          "execution_count": 247
        }
      ]
    },
    {
      "cell_type": "code",
      "metadata": {
        "colab": {
          "base_uri": "https://localhost:8080/"
        },
        "id": "RE8wXD6OQo65",
        "outputId": "e57f7063-f454-4204-92d8-b290f6c9f42f"
      },
      "source": [
        "# verify that each review has a reasonable number of words\n",
        "# that have GloVe embeddings\n",
        "for i, line in enumerate(get_data()):\n",
        "    if i > 30:\n",
        "        break\n",
        "    print(sum(int(w in glove.stoi) for w in split_review(line[-1])), \"out of\", \n",
        "          len(split_review(line[-1])),\"review: \", line[-1])\n",
        "    \n",
        "for i, line in enumerate(get_data()):\n",
        "    if i > 30:\n",
        "        break\n",
        "    for j, w in enumerate(split_review(line[-1])):\n",
        "      if w not in glove.stoi:\n",
        "        print(w, \"at position: \", j)"
      ],
      "execution_count": 248,
      "outputs": [
        {
          "output_type": "stream",
          "text": [
            "137 out of 137 review:  Unfortunately, the frustration of being Dr. Goldberg's patient is a repeat of the experience I've had with so many other doctors in NYC -- good doctor, terrible staff.  It seems that his staff simply never answers the phone.  It usually takes 2 hours of repeated calling to get an answer.  Who has time for that or wants to deal with it?  I have run into this problem with many other doctors and I just don't get it.  You have office workers, you have patients with medical needs, why isn't anyone answering the phone?  It's incomprehensible and not work the aggravation.  It's with regret that I feel that I have to give Dr. Goldberg 2 stars.\n",
            "110 out of 111 review:  Been going to Dr. Goldberg for over 10 years. I think I was one of his 1st patients when he started at MHMG. He's been great over the years and is really all about the big picture. It is because of him, not my now former gyn Dr. Markoff, that I found out I have fibroids. He explores all options with you and is very patient and understanding. He doesn't judge and asks all the right questions. Very thorough and wants to be kept in the loop on every aspect of your medical health and your life.\n",
            "239 out of 239 review:  I don't know what Dr. Goldberg was like before  moving to Arizona, but let me tell you, STAY AWAY from this doctor and this office. I was going to Dr. Johnson before he left and Goldberg took over when Johnson left. He is not a caring doctor. He is only interested in the co-pay and having you come in for medication refills every month. He will not give refills and could less about patients's financial situations. Trying to get your 90 days mail away pharmacy prescriptions through this guy is a joke. And to make matters even worse, his office staff is incompetent. 90% of the time when you call the office, they'll put you through to a voice mail, that NO ONE ever answers or returns your call. Both my adult children and husband have decided to leave this practice after experiencing such frustration. The entire office has an attitude like they are doing you a favor. Give me a break! Stay away from this doc and the practice. You deserve better and they will not be there when you really need them. I have never felt compelled to write a bad review about anyone until I met this pathetic excuse for a doctor who is all about the money.\n",
            "228 out of 228 review:  I'm writing this review to give you a heads up before you see this Doctor. The office staff and administration are very unprofessional. I left a message with multiple people regarding my bill, and no one ever called me back. I had to hound them to get an answer about my bill. \\n\\nSecond, and most important, make sure your insurance is going to cover Dr. Goldberg's visits and blood work. He recommended to me that I get a physical, and he knew I was a student because I told him. I got the physical done. Later, I found out my health insurance doesn't pay for preventative visits. I received an $800.00 bill for the blood work. I can't pay for my bill because I'm a student and don't have any cash flow at this current time. I can't believe the Doctor wouldn't give me a heads up to make sure my insurance would cover work that wasn't necessary and was strictly preventative. The office can't do anything to help me cover the bill. In addition, the office staff said the onus is on me to make sure my insurance covers visits. Frustrating situation!\n",
            "101 out of 102 review:  All the food is great here. But the best thing they have is their wings. Their wings are simply fantastic!!  The \\\"Wet Cajun\\\" are by the best & most popular.  I also like the seasoned salt wings.  Wing Night is Monday & Wednesday night, $0.75 whole wings!\\n\\nThe dining area is nice. Very family friendly! The bar is very nice is well.  This place is truly a Yinzer's dream!!  \\\"Pittsburgh Dad\\\" would love this place n'at!!\n",
            "72 out of 72 review:  Wing sauce is like water. Pretty much a lot of butter and some hot sauce (franks red hot maybe).  The whole wings are good size and crispy, but for $1 a wing the sauce could be better. The hot and extra hot are about the same flavor/heat.  The fish sandwich is good and is a large portion, sides are decent.\n",
            "247 out of 247 review:  Owning a driving range inside the city limits is like a license to print money.  I don't think I ask much out of a driving range.  Decent mats, clean balls and accessible hours.  Hell you need even less people now with the advent of the machine that doles out the balls.  This place has none of them.  It is april and there are no grass tees yet.  BTW they opened for the season this week although it has been golfing weather for a month.  The mats look like the carpet at my 107 year old aunt Irene's house.  Worn and thread bare.  Let's talk about the hours.  This place is equipped with lights yet they only sell buckets of balls until 730.  It is still light out.  Finally lets you have the pit to hit into.  When I arrived I wasn't sure if this was a driving range or an excavation site for a mastodon or a strip mining operation.  There is no grass on the range. Just mud.  Makes it a good tool to figure out how far you actually are hitting the ball.  Oh, they are cash only also.\\n\\nBottom line, this place sucks.  The best hope is that the owner sells it to someone that actually wants to make money and service golfers in Pittsburgh.\n",
            "127 out of 127 review:  This place is absolute garbage...  Half of the tees are not available, including all the grass tees.  It is cash only, and they sell the last bucket at 8, despite having lights.  And if you finish even a minute after 8, don't plan on getting a drink.  The vending machines are sold out (of course) and they sell drinks inside, but close the drawers at 8 on the dot.  There are weeds grown all over the place.  I noticed some sort of batting cage, but it looks like those are out of order as well.  Someone should buy this place and turn it into what it should be.\n",
            "216 out of 216 review:  Before I finally made it over to this range I heard the same thing from most people - it's just fine to go work on your swing. I had such a low expectation I was pleasantly surprised. \\n\\nIt's a fairly big range - if you are familiar with Scally's in Moon, it seems like it has almost as many tees, though its not nearly as nice a facility. \\n\\nThe guys in the pro shop were two of the friendlier guys I've come across at ranges or at courses. Yards were indeed marked and there are some targets to aim for, and even some hazards to aim away from. \\n\\nA big red flag to me was the extra charge ($3) to hit off the grass. I am no range expert, but this is the 4th one I've been to and the first I've seen of that sort of nickel and diming....\\n\\nPrice for the golf balls was reasonable and I do plan to be back every week until they close up in October for the season. Hopefully, since its for sale, it will reopen as a golf facility again.\n",
            "86 out of 86 review:  I drove by yesterday to get a sneak peak.  It re-opens on July 14th and I can't wait to take my kids.  The new range looks amazing.  The entire range appears to be turf, which may or many not help your game, but it looks really nice.  The tee boxes look state of the art and the club house looks like something you'll see on a newer course.  Can't wait to experience it!\n",
            "55 out of 55 review:  After waiting for almost 30 minutes to trade in an old phone part of the buy back program, our customer service rep incorrectly processed the transaction. This led to us waiting another 30 minutes for him to correct it. Don't visit this store if you want pleasant or good service.\n",
            "30 out of 31 review:  Wonderful reuben.  Map shown on Yelp page is incorrect. It is actually a different Hawkins.  I'd recommend a call for directions 412-271-9911.\n",
            "900 out of 903 review:  After a morning of Thrift Store hunting, a friend and I were thinking of lunch, and he suggested Emil's after he'd seen Chris Sebak do a bit on it and had tried it a time or two before, and I had not. He said they had a decent Reuben, but to be prepared to step back in time.\\n\\nWell, seeing as how I'm kind of addicted to late 40's and early 50's, and the whole Rat Pack scene, stepping back in time is a welcomed change in da burgh...as long as it doesn't involve 1979, which I can see all around me every day.\\n\\nAnd yet another shot at finding a decent Reuben in da burgh...well, that's like hunting the Holy Grail. So looking under one more bush certainly wouldn't hurt.\\n\\nSo off we go right at lunchtime in the middle of...where exactly were we? At first I thought we were lost, driving around a handful of very rather dismal looking blocks in what looked like a neighborhood that had been blighted by the building of a highway. And then...AHA! Here it is! And yep, there it was. This little unassuming building with an add-on entrance with what looked like a very old hand painted sign stating quite simply 'Emil's. \\n\\nWe walked in the front door, and entered another world. Another time, and another place. Oh, and any Big Burrito/Sousa foodies might as well stop reading now. I wouldn't want to see you walk in, roll your eyes and say 'Reaaaaaalllly?'\\n\\nThis is about as old world bar/lounge/restaurant as it gets. Plain, with a dark wood bar on one side, plain white walls with no yinzer pics, good sturdy chairs and actual white linens on the tables. This is the kind of neighborhood dive that I could see Frank and Dino pulling a few tables together for some poker, a fish sammich, and some cheap scotch. And THAT is exactly what I love.\\n\\nOh...but good food counts too. \\n\\nWe each had a Reuben, and my friend had a side of fries. The Reubens were decent, but not NY awesome. A little too thick on the bread, but overall, tasty and definitely filling. Not too skimpy on the meat. I seriously CRAVE a true, good NY Reuben, but since I can't afford to travel right now, what I find in da burgh will have to do. But as we sat and ate, burgers came out to an adjoining table. Those were some big thick burgers. A steak went past for the table behind us. That was HUGE! And when we asked about it, the waitress said 'Yeah, it's huge and really good, and he only charges $12.99 for it, ain't that nuts?' Another table of five came in, and wham. Fish sandwiches PILED with breaded fish that looked amazing. Yeah, I want that, that, that and THAT!\\n\\nMy friend also mentioned that they have a Chicken Parm special one day of the week that is only served UNTIL 4 pm, and that it is fantastic. If only I could GET there on that week day before 4...\\n\\nThe waitress did a good job, especially since there was quite a growing crowd at lunchtime on a Saturday, and only one of her. She kept up and was very friendly. \\n\\nThey only have Pepsi products, so I had a brewed iced tea, which was very fresh, and she did pop by to ask about refills as often as she could. As the lunch hour went on, they were getting busy.\\n\\nEmil's is no frills, good portions, very reasonable prices, VERY comfortable neighborhood hole in the wall...kind of like Cheers, but in a blue collar neighborhood in the 1950's. Fan-freakin-tastic! I could feel at home here.\\n\\nYou definitely want to hit Mapquest or plug in your GPS though. I am not sure that I could find it again on my own...it really is a hidden gem. I will be making my friend take me back until I can memorize where the heck it is.\\n\\nAddendum: 2nd visit for the fish sandwich. Excellent. Truly. A pound of fish on a fish-shaped bun (as opposed to da burgh's seemingly popular hamburger bun). The fish was flavorful, the batter excellent, and for just $8. This may have been the best fish sandwich I've yet to have in da burgh.\n",
            "97 out of 97 review:  This is a hidden gem, no really. It took us forever to find but well worth it. It is right across the street from the Rankin Police Station. The menu has a wide selection, I really couldn't decide what I wanted but I went with the ribeye sandwich. I'm glad i did too. Huge sandwich! I added mushrooms, it was very flavorful. My boyfriend got the fish sandwich, he enjoyed it as well. Fast and friendly service. Will definitely be back.\n",
            "22 out of 22 review:  Awesome drink specials during happy hour. Fantastic wings that are crispy and delicious, wing night on Tuesday and Thursday!\n",
            "44 out of 44 review:  Very disappointed in the customer service. We ordered Reuben's  and wanted coleslaw instead of kraut. They charged us $3.00 for the coleslaw. We will not be back . The iced tea is also terrible tasting.\n",
            "83 out of 84 review:  Used to go there for tires, brakes, etc.  Their prices have gone way up-$400 for 4 mid-level tires for a Toyota.  Plus, 1 of the new tires went flat within 3 weeks.  Since they don\\\"t make appointments,  the wait to get the tire looked at was ~2 hours.  Sorry--can't wait that long to get a warranted repair,  They lost my business for good.\n",
            "174 out of 174 review:  I got 'new' tires from them and within two weeks got a flat. I took my car to a local mechanic to see if i could get the hole patched, but they said the reason I had a flat was because the previous patch had blown - WAIT, WHAT? I just got the tire and never needed to have it patched? This was supposed to be a new tire. \\nI took the tire over to Flynn's and they told me that someone punctured my tire, then tried to patch it. So there are resentful tire slashers? I find that very unlikely. After arguing with the guy and telling him that his logic was far fetched he said he'd give me a new tire \\\"this time\\\". \\nI will never go back to Flynn's b/c of the way this guy treated me and the simple fact that they gave me a used tire!\n",
            "59 out of 59 review:  Terrible. Preordered my tires and when I arrived they couldn't find the order anywhere. Once we got through that process I waited over 2 hours for them to be put on... I was originally told it would take 30 mins. Slow, over priced, I'll go elsewhere next time.\n",
            "73 out of 74 review:  I've been informed by a fellow Yelper that they are just closed for the season, I hope they're right! I find it strange they don't keep their phone number in service with a recording and that they didn't cover the course up to protect it from weather, vandalism, etc. Either way, I can't wait to get my game on in the spring!\n",
            "49 out of 49 review:  Don't waste your time.  We had two different people come to our house to give us estimates for a deck (one of them the OWNER).  Both times, we never heard from them.  Not a call, not the estimate, nothing.\n",
            "837 out of 838 review:  I will start by saying we have a nice new deck. That is where the good part ends.\\n\\nWhy two stars if we have a nice deck now? Well, it all started in May when we had a man named Al come out and talk to us about the process. He was a true salesman, I'll tell you that. Not a straight shooter, but an excited salesman that wanted to sell... And we bought into it.\\n\\nHe told us they were backed up with the harsh winter and a lot of jobs, but they could probably start by June 24th. Mind you, this was the end of May we met with him. He said they would have to do a survey of our land and get a permit from Dormont before they started. We felt confident in going with them, and booked it.\\n\\nHere's where things fell apart. Weeks went by with no word from them on the process. Finally I called and left messages. Al finally got in touch with me and the conversation was utterly confusing. He must have not understood me because he just kept talking in circles. So I hung up not knowing what was going on. Finally I called back and the admin told me that the survey could take a couple weeks to come back. I wish Al would have told us that.\\n\\nSo our June 24th date came and went. We finally got our survey. And they were quick to bill us for it, but no word on where we were in the process. I called back a couple times with no real answers from the admin. Apparently they were now waiting for the permit from Dormont.\\n\\nA month later, I was frustrated and asked to speak with someone at the company. I spoke with someone who told me that Dormont usually takes a week to process the permit, but we were now going on a month. He told me he would bug the guy about it and we finally got it. \\n\\nI completely understand that waiting on the permit is not their fault, but why no communication about it? Just call me and tell me they're waiting for the permit, but they'll work towards asking Dormont what the hold up is. Seems simple.\\n\\nFinally we get the permit and work is supposed to start. Tuesday comes and they have to wait for approval from Dormont on holes they're digging. So holes are dug and equipment is put in my backyard and then nothing happens for two days. Where did everyone go? Who knows, because I wasn't informed! \\n\\nI was upset and contacted the company owner, Dave, by email. I told him how frustrated I was about the lack of communication. He wrote me two sentences that  said \\\"there will be acres there tomorrow morning to finish and most will be done tomorrow.\\\" Well, that didn't happen.\\n\\nThen two other dudes show up two days later and did work for about three hours and left. The main guy comes back the next day and says they did it wrong. So apparently the part about how they wouldn't need access to my house changes to they're drilling bolts into my house to secure he deck. \\n\\nFinally, the second week into construction, my tiny 10x11 foot deck is done. It was upsetting that they left the deck dirty, and all the dirt and cement they moved around wasn't cleaned up. I even asked them to fill all the holes they dug up and didn't use, and they only filled up one. When you create a construction project, isn't it just good business to clean it up and make it look nice? Didn't happen here.\\n\\nMy main point is, contractors have a reputation for not being the most trustworthy. Why be that company? Why not be an upstanding company that consumers can trust? My main issues with them were that things were not communicated to me properly up front, nor was the ongoing process communicated to me. Then they left everything unfinished in my eyes, leaving the site dirty. I understand things happen and things get delayed, but just email or call me. It's not that hard to keep me updated, it is 2014 with a million ways to be contacted.\\n\\nEven though I have a nice deck (after I clean things up myself!), I would not recommend them to anyone.\n",
            "1 out of 2 review:  Hoofah.\n",
            "40 out of 40 review:  Average run of the mill store.  Associates are young teens and they really don't know where anything is.  Luckily I am able to get around to find everything.  Found my puppy treats and moved on.\n",
            "781 out of 784 review:  Two meals, on the recommendation of a friend who lives near the place, and after the second trip, I was compelled to write. 'Rocky' would definitely describe the experiences.\\n\\nOn the first trip, I went to try their (at that time)raved about Reuben. And YET to find a true good Reuben in da burgh, I tried it.\\n\\nWell, they were out of the proper bread, and the guy had to run to the store to buy the closest thing he could find, which was not the proper bread, and instead of one of their 'raved about' Reubens, I received two mini-Reubens, which basically took the guts from one Reuben, and spread it out onto two sandwiches on regular sized bread. I ate it. It wasn't great, but they swore it was because they'd run out of the bread. Bread or not, it still wasn't great. The atmosphere was pleasant in that 'blue collar bar' kind of way, and the staff was very nice, but not a winning pitch on the Reuben.\\n\\nThe second trip was after a long day of moving furniture with the same friend. Sat in the back room, instead of the bar, which felt more like a restaurant, of course, with the big screen TV covering the sports of the moment.\\n\\nI was in the mood for dinner this time, and after a scan, decided on fried chicken and mashed potatoes with the salad bar. My friend ordered one of her faves, the breaded pork chops.\\n\\nWe hit the salad bar, which was uber-basic. Three soups (mostly vegetable loaded, which left me out), basic iceberg lettuce mix (very probably out of a bag), a few veggie toppings, and three or four dressings. It was a basic salad, no big deal. More or less an appetizer filler before the meal.\\n\\nThe mind-blower in this trip was the ordering of the fried chicken dinner. Our waiter looked like a 19 year old gas station attendant, skinny little blonde guy with a sweet but incredibly naive face, and an air of vapidity, which was confirmed when I placed my order. I asked what chicken pieces came in the dinner, and asked if it was possible to only get dark meat. I never imagined how confusing a question that could possibly be. It literally took him two trips back to the kitchen to 'ask', and the child honestly had no clue what 'white meat' and 'dark meat' meant. The first answer he came back with was that the chicken came in a pre-portioned prepared bag, kind of Kentucky Fried Chicken style...which didn't answer my question, thus prompting the second trip. \\n\\nAfter the second trip back I heard the cook holler 'Tell him I'll fix him up'. \\n\\nWell, the chicken was prepackaged dreck like you'd find in the freezer case of Walmart, tiny and not good, and the potatoes had that slight tinge of chem-spuds flavor, laden with some kind of chopped up green (parsley?), and a side of that basic brown gravy served up in 5 gallon buckets.\\n\\nThank goodness for the basic salad bar.\\n\\nEven my friend admitted that her pork chops were different and not what she'd expected. They also appeared to be from a freezer bag.\\n\\nThe irony was that the boy who didn't know white meat from dark meat, was chatting with some other customers...about baseball...and he was a genius about the mindless sport of baseball. Ahhhh da burgh.\\n\\nThird base? Nah...why bother when there are so many other options around. Go on in a grab a beer and chat black and gold if you happen to be in Carnegie...they can help you out all types of ways in that area. Just don't go hungry if you actually have tastebuds.\\n\\nFrom what I understand it 'used to be' really good homecooked food. But apparently, mama has left the kitchen.\n",
            "60 out of 60 review:  If you are searching for a go to fish place for Lent....look no further.  This place will give you the best fish sandwich in Pittsburgh.  The sandwich has enough fish to make four sandwiches.  You will not be able to finish this sandwich in one seating.\\nEnjoy....\n",
            "54 out of 54 review:  Italian dinners, American, endless soup and salad bar is great. Most food for your dollar. I highly recommend. Great bar. Good place to watch a game. The bar can get quite noisy in the evenings, but it adds to the great atmosphere at Rocky's\n",
            "69 out of 69 review:  Good Luck getting a seat, that's all I have to say. The Gab and Eat is famous and infamous. Diner food is what's up and I like it. When I was a roofing mechanic, we'd meet there before work. Although I'm not sure I would recommend it if you're working were there's no bathrooms. hehe\n",
            "131 out of 131 review:  The biggest breakfast in Pittsburgh, as far as I can tell - and delicious and cheap too. I ordered some mix of eggs, bacon and pancakes - and got 2 dinner-sized plates, one loaded with pancakes and the other stuffed with eggs, bacon, and home fries. Oh, and a side of toast. For under $5, if I recall.\\n\\nHUGE portions, all well-executed; as good as DeLuca's.\\n\\nI've not had anything besides breakfast, so can't comment on the burger or anything else.\\n\\nCramped quarters, and you'll have to wait, but when nothing but monster morning food will do, this is the destination.\n",
            "58 out of 58 review:  Cheap, unpretentious, and, for this, one of my favorite breakfast joints in the country.  Simply put I LOVE it here.  The mixed grill, the sausage and egg on a biscuit, the home fries.  This it the very definition of diner.  Thank you Gab 'n' Eat!\n",
            "189 out of 192 review:  I've lived in Pittsburgh for 6 years, and in Carnegie for over 2 years, and by far, this is the best greasy spoon joint I've found. If you can stomach the wait (no reservations, naturally), you'll enjoy overflowing plates of goodness, thanks to the well-seasoned griddle where all of the food is made. \\n\\nHere are the highlights:\\n\\n-Cheap: Breakfast for two can be well under $10, with lunch around the same.\\n-Crowded: Get there early and expect to wait. They close pretty early on the weekends too (oddly, at 12:45pm)\\n-Cash only\\n-Huge portions: When ordering fries or homefries, always get the half order, unless you're a lumberjack\\n-About those homefries: They're often undercooked. I've had better, believe me. My favorite things to eat in life are potato products.\\n-My favorite item: hot sausage sandwich on thick Italian toast, with cheese, lettuce, tomato and mayo\n",
            "mhmg at position:  24\n",
            "yinzer at position:  83\n",
            "9911 at position:  29\n",
            "reaaaaaalllly at position:  316\n",
            "yinzer at position:  350\n",
            "sammich at position:  389\n",
            "~2 at position:  60\n",
            "yelper at position:  7\n",
            "10x11 at position:  622\n",
            "hoofah at position:  0\n",
            ")raved at position:  50\n",
            "wouldark at position:  484\n",
            "homecooked at position:  772\n",
            ":45pm at position:  116\n",
            "homefries at position:  129\n",
            "homefries at position:  145\n"
          ],
          "name": "stdout"
        }
      ]
    },
    {
      "cell_type": "code",
      "metadata": {
        "id": "OYSJBFS4M2y7"
      },
      "source": [
        "def get_review_words(glove_vector):\n",
        "    train, valid, test = [], [], []\n",
        "    for i, line in enumerate(get_data()):\n",
        "        if i % 29 == 0:\n",
        "            review = line[-1]\n",
        "            idxs = [glove_vector.stoi[w]        # lookup the index of word\n",
        "                    for w in split_review(review)\n",
        "                    if w in glove_vector.stoi] # keep words that has an embedding\n",
        "            if not idxs: # ignore reviews without any word with an embedding\n",
        "                continue\n",
        "            idxs = torch.tensor(idxs) # convert list to pytorch tensor\n",
        "            label = torch.tensor(int(line[0] == '2')).long()\n",
        "            if i % 5 < 3:\n",
        "                train.append((idxs, label))\n",
        "            elif i % 5 == 4:\n",
        "                valid.append((idxs, label))\n",
        "            else:\n",
        "                test.append((idxs, label))\n",
        "    return train, valid, test\n",
        "\n",
        "train, valid, test = get_review_words(glove)"
      ],
      "execution_count": 249,
      "outputs": []
    },
    {
      "cell_type": "code",
      "metadata": {
        "colab": {
          "base_uri": "https://localhost:8080/"
        },
        "id": "cDxlIBM5P7Fy",
        "outputId": "25a9b6fe-12ec-4553-f435-e2566b006f8f"
      },
      "source": [
        "review, label = train[4]\n",
        "print(review)\n",
        "print(label)"
      ],
      "execution_count": 250,
      "outputs": [
        {
          "output_type": "stream",
          "text": [
            "tensor([ 14630,    270,     64,    204,      2,    192,   1327,     15,    781,\n",
            "             6,     13,      7, 115890,   1248,     25,    614,   2769,    204,\n",
            "         71472,     13,    277,    766,      1,      5,    120,    106,   4643,\n",
            "            13,    185,      1,     41,   4601,     41,     15,     36,    222,\n",
            "             4,     30,    667,      4,   2065,    103,     60,      2,     41,\n",
            "           175,     58,    905,  18634,    270,    204,    421,      5,     15,\n",
            "         29567,   3553,     12,   1318,   2529,     60,      2,     41,    843,\n",
            "            60,   1354,      4,   4010,      1,      0,   1778,      1,      5,\n",
            "            18,     15,    667,      4,   6854,    192,     76,     11,   1214,\n",
            "          1850,      2,    192,   1327,   1844,    388,      4,      0,   1797,\n",
            "           286,    241,     23,     13,   1530,      3,     26,   4294,  20779,\n",
            "            45,     24,    100,      0,    128,    175,    285,  61314,     61,\n",
            "            18,    119,     36,    273,     60,    248,    420,     11,     11,\n",
            "            41,   8278,  71778,     59,      0,   3952,    286,   1845,      5,\n",
            "            64,    388,    143,     49,     12,      2,     18,     15,    191,\n",
            "          1751,     17,      0,    270,      5,      0,    626,      2,     41,\n",
            "            54,   3936,    234,     37,    128,    378,     10,   9371,      4,\n",
            "             5,     25,      0,    922,    805,   3124,   1402,    805])\n",
            "tensor(1)\n"
          ],
          "name": "stdout"
        }
      ]
    },
    {
      "cell_type": "code",
      "metadata": {
        "colab": {
          "base_uri": "https://localhost:8080/"
        },
        "id": "_wK3bYvHQLMX",
        "outputId": "d0d81dc4-508a-438e-9a69-61194d2d2670"
      },
      "source": [
        "for i in range(10):\n",
        "    review, label = train[i]\n",
        "    print(review.shape)\n",
        "    print(label)\n",
        "    print()"
      ],
      "execution_count": 251,
      "outputs": [
        {
          "output_type": "stream",
          "text": [
            "torch.Size([137])\n",
            "tensor(0)\n",
            "\n",
            "torch.Size([56])\n",
            "tensor(0)\n",
            "\n",
            "torch.Size([106])\n",
            "tensor(0)\n",
            "\n",
            "torch.Size([635])\n",
            "tensor(0)\n",
            "\n",
            "torch.Size([161])\n",
            "tensor(1)\n",
            "\n",
            "torch.Size([197])\n",
            "tensor(1)\n",
            "\n",
            "torch.Size([891])\n",
            "tensor(0)\n",
            "\n",
            "torch.Size([58])\n",
            "tensor(0)\n",
            "\n",
            "torch.Size([104])\n",
            "tensor(1)\n",
            "\n",
            "torch.Size([258])\n",
            "tensor(0)\n",
            "\n"
          ],
          "name": "stdout"
        }
      ]
    },
    {
      "cell_type": "code",
      "metadata": {
        "colab": {
          "base_uri": "https://localhost:8080/"
        },
        "id": "27DEPsztQdhi",
        "outputId": "7175cd0e-e94e-45d1-861b-66fbb59f8b9b"
      },
      "source": [
        "glove_emb = nn.Embedding.from_pretrained(glove.vectors)\n",
        "review_emb = glove_emb(review)\n",
        "print(review.shape) #review has 258 words\n",
        "print(review_emb.shape) #each word is represented by a glove vector with 50 dimensions"
      ],
      "execution_count": 252,
      "outputs": [
        {
          "output_type": "stream",
          "text": [
            "torch.Size([258])\n",
            "torch.Size([258, 50])\n"
          ],
          "name": "stdout"
        }
      ]
    },
    {
      "cell_type": "code",
      "metadata": {
        "id": "6_ucevbkSoS8"
      },
      "source": [
        "rnn_layer = nn.RNN(input_size=50,    # dimension of the input repr\n",
        "                   hidden_size=50,   # dimension of the hidden units\n",
        "                   batch_first=True) # input format is [batch_size, seq_len, repr_dim]"
      ],
      "execution_count": 253,
      "outputs": []
    },
    {
      "cell_type": "code",
      "metadata": {
        "colab": {
          "base_uri": "https://localhost:8080/"
        },
        "id": "eF2Bor5iTibz",
        "outputId": "ebc1da2d-9ed0-4ce6-f6af-0c2e002634d5"
      },
      "source": [
        "review_input = review_emb.unsqueeze(0) # add the batch_size dimension\n",
        "h0 = torch.zeros(1, 1, 50)           # initial hidden state\n",
        "out, last_hidden = rnn_layer(review_input, h0)\n",
        "\n",
        "print(out.shape)\n",
        "print(last_hidden.shape)"
      ],
      "execution_count": 254,
      "outputs": [
        {
          "output_type": "stream",
          "text": [
            "torch.Size([1, 258, 50])\n",
            "torch.Size([1, 1, 50])\n"
          ],
          "name": "stdout"
        }
      ]
    },
    {
      "cell_type": "code",
      "metadata": {
        "colab": {
          "base_uri": "https://localhost:8080/"
        },
        "id": "YTWHHZKvT7yj",
        "outputId": "cf3bf9e6-c656-437c-c1e5-135ada261de9"
      },
      "source": [
        "out[:,-1,:].shape"
      ],
      "execution_count": 255,
      "outputs": [
        {
          "output_type": "execute_result",
          "data": {
            "text/plain": [
              "torch.Size([1, 50])"
            ]
          },
          "metadata": {
            "tags": []
          },
          "execution_count": 255
        }
      ]
    },
    {
      "cell_type": "code",
      "metadata": {
        "id": "Fuo0vxsPUJK7"
      },
      "source": [
        "class ReviewRNN(nn.Module):\n",
        "    def __init__(self, input_size, hidden_size, num_classes):\n",
        "        super(ReviewRNN, self).__init__()\n",
        "        self.emb = nn.Embedding.from_pretrained(glove.vectors)\n",
        "        self.hidden_size = hidden_size\n",
        "        self.rnn = nn.RNN(input_size, hidden_size, batch_first=True)\n",
        "        self.fc = nn.Linear(hidden_size, num_classes)\n",
        "        self.name = \"RNN_word\"\n",
        "    def forward(self, x):\n",
        "        # Look up the embedding\n",
        "        x = self.emb(x)\n",
        "        # Set an initial hidden state\n",
        "        h0 = torch.zeros(1, x.size(0), self.hidden_size)\n",
        "        # Forward propagate the RNN\n",
        "        out, _ = self.rnn(x, h0)\n",
        "        # Pass the output of the last time step to the classifier\n",
        "        out = self.fc(out[:, -1, :])\n",
        "        return out\n",
        "\n",
        "model = ReviewRNN(50, 50, 2)"
      ],
      "execution_count": 256,
      "outputs": []
    },
    {
      "cell_type": "code",
      "metadata": {
        "colab": {
          "base_uri": "https://localhost:8080/"
        },
        "id": "mUHvMigLWYM4",
        "outputId": "7aa1db60-a638-40c4-c17c-bea64214171d"
      },
      "source": [
        "from torch.nn.utils.rnn import pad_sequence\n",
        "\n",
        "review_padded = pad_sequence([review for review, label in train[:10]],\n",
        "                            batch_first=True)\n",
        "print(review_padded.shape)\n",
        "print(review_padded[0:2])"
      ],
      "execution_count": 257,
      "outputs": [
        {
          "output_type": "stream",
          "text": [
            "torch.Size([10, 891])\n",
            "tensor([[4716,    1,    0,  ...,    0,    0,    0],\n",
            "        [  83,   63,   15,  ...,    0,    0,    0]])\n"
          ],
          "name": "stdout"
        }
      ]
    },
    {
      "cell_type": "code",
      "metadata": {
        "colab": {
          "base_uri": "https://localhost:8080/"
        },
        "id": "hmbVZdc_Wv_h",
        "outputId": "e8777890-9ba8-470e-8f5f-0cf26d1c2fba"
      },
      "source": [
        "out = model(review_padded)\n",
        "print(type(out))\n",
        "print(out.shape)"
      ],
      "execution_count": 258,
      "outputs": [
        {
          "output_type": "stream",
          "text": [
            "<class 'torch.Tensor'>\n",
            "torch.Size([10, 2])\n"
          ],
          "name": "stdout"
        }
      ]
    },
    {
      "cell_type": "code",
      "metadata": {
        "id": "3Nk1xoWYW4nv"
      },
      "source": [
        "import random\n",
        "\n",
        "class ReviewBatcher:\n",
        "    def __init__(self, reviews, batch_size=32, drop_last=False):\n",
        "        # store reviews by length\n",
        "        self.reviews_by_length = {}\n",
        "        for review, label in reviews:\n",
        "            # compute the length of the review\n",
        "            wlen = review.shape[0]\n",
        "            # put the review in the correct key inside self.review_by_length\n",
        "            if wlen not in self.reviews_by_length:\n",
        "                self.reviews_by_length[wlen] = []\n",
        "            self.reviews_by_length[wlen].append((review, label),)\n",
        "         \n",
        "        #  create a DataLoader for each set of reviews of the same length\n",
        "        self.loaders = {wlen : torch.utils.data.DataLoader(\n",
        "                                    reviews,\n",
        "                                    batch_size=batch_size,\n",
        "                                    shuffle=True,\n",
        "                                    drop_last=drop_last) # omit last batch if smaller than batch_size\n",
        "            for wlen, reviews in self.reviews_by_length.items()}\n",
        "        \n",
        "    def __iter__(self): # called by Python to create an iterator\n",
        "        # make an iterator for every review length\n",
        "        iters = [iter(loader) for loader in self.loaders.values()]\n",
        "        while iters:\n",
        "            # pick an iterator (a length)\n",
        "            im = random.choice(iters)\n",
        "            try:\n",
        "                yield next(im)\n",
        "            except StopIteration:\n",
        "                # no more elements in the iterator, remove it\n",
        "                iters.remove(im)"
      ],
      "execution_count": 259,
      "outputs": []
    },
    {
      "cell_type": "code",
      "metadata": {
        "colab": {
          "base_uri": "https://localhost:8080/"
        },
        "id": "4e4ttP3NZH1H",
        "outputId": "9d3f4594-433d-4bba-85fb-599b0eea0357"
      },
      "source": [
        "for i, (reviews, labels) in enumerate(ReviewBatcher(train, drop_last=True)):\n",
        "    if i > 20: break\n",
        "    print(reviews.shape, labels.shape)"
      ],
      "execution_count": 260,
      "outputs": [
        {
          "output_type": "stream",
          "text": [
            "torch.Size([32, 76]) torch.Size([32])\n",
            "torch.Size([32, 42]) torch.Size([32])\n",
            "torch.Size([32, 56]) torch.Size([32])\n",
            "torch.Size([32, 29]) torch.Size([32])\n",
            "torch.Size([32, 67]) torch.Size([32])\n",
            "torch.Size([32, 156]) torch.Size([32])\n",
            "torch.Size([32, 58]) torch.Size([32])\n",
            "torch.Size([32, 55]) torch.Size([32])\n",
            "torch.Size([32, 115]) torch.Size([32])\n",
            "torch.Size([32, 24]) torch.Size([32])\n",
            "torch.Size([32, 104]) torch.Size([32])\n",
            "torch.Size([32, 34]) torch.Size([32])\n",
            "torch.Size([32, 33]) torch.Size([32])\n",
            "torch.Size([32, 68]) torch.Size([32])\n",
            "torch.Size([32, 154]) torch.Size([32])\n",
            "torch.Size([32, 98]) torch.Size([32])\n",
            "torch.Size([32, 63]) torch.Size([32])\n",
            "torch.Size([32, 216]) torch.Size([32])\n",
            "torch.Size([32, 120]) torch.Size([32])\n",
            "torch.Size([32, 119]) torch.Size([32])\n",
            "torch.Size([32, 62]) torch.Size([32])\n"
          ],
          "name": "stdout"
        }
      ]
    },
    {
      "cell_type": "code",
      "metadata": {
        "colab": {
          "base_uri": "https://localhost:8080/"
        },
        "id": "qyddn3rkZutG",
        "outputId": "281ac0f7-e570-4497-ddbf-ff686b16da8f"
      },
      "source": [
        "def get_accuracy(model, data_loader):\n",
        "    correct, total = 0, 0\n",
        "    for reviews, labels in data_loader:\n",
        "        output = model(reviews)\n",
        "        pred = output.max(1, keepdim=True)[1]\n",
        "        correct += pred.eq(labels.view_as(pred)).sum().item()\n",
        "        total += labels.shape[0]\n",
        "    return correct / total\n",
        "\n",
        "test_loader = ReviewBatcher(test, batch_size=64, drop_last=False)\n",
        "get_accuracy(model, test_loader)"
      ],
      "execution_count": 261,
      "outputs": [
        {
          "output_type": "execute_result",
          "data": {
            "text/plain": [
              "0.4971517348524081"
            ]
          },
          "metadata": {
            "tags": []
          },
          "execution_count": 261
        }
      ]
    },
    {
      "cell_type": "code",
      "metadata": {
        "id": "xisGcFEeanuC"
      },
      "source": [
        "def get_model_name(name, hidden_size, batch_size, learning_rate, epoch):\n",
        "    \"\"\" Generate a name for the model consisting of all the hyperparameter values\n",
        "\n",
        "    Args:\n",
        "        config: Configuration object containing the hyperparameters\n",
        "    Returns:\n",
        "        path: A string with the hyperparameter name and value concatenated\n",
        "    \"\"\"\n",
        "    path = \"model_{0}_{1}_bs{2}_lr{3}_epoch{4}\".format(name,hidden_size,\n",
        "                                                   batch_size,\n",
        "                                                   learning_rate,\n",
        "                                                   epoch)\n",
        "    return path"
      ],
      "execution_count": 262,
      "outputs": []
    },
    {
      "cell_type": "code",
      "metadata": {
        "id": "DwxgaLmmappX"
      },
      "source": [
        "def plot_training_curve(path):\n",
        "    \"\"\" Plots the training curve for a model run, given the csv files\n",
        "    containing the train/validation error/loss.\n",
        "\n",
        "    Args:\n",
        "        path: The base path of the csv files produced during training\n",
        "    \"\"\"\n",
        "    import matplotlib.pyplot as plt\n",
        "    train_accuracy = np.loadtxt(\"{}_train_accuracy.csv\".format(path))\n",
        "    val_accuracy = np.loadtxt(\"{}_val_accuracy.csv\".format(path))\n",
        "    train_loss = np.loadtxt(\"{}_train_loss.csv\".format(path))\n",
        "\n",
        "    plt.title(\"Train vs Validation Accuracy\")\n",
        "    n = len(train_accuracy) # number of epochs\n",
        "    plt.plot(range(1,n+1), train_accuracy, label=\"Train\")\n",
        "    plt.plot(range(1,n+1), val_accuracy, label=\"Validation\")\n",
        "    plt.xlabel(\"Epoch\")\n",
        "    plt.ylabel(\"Accuracy\")\n",
        "    plt.legend(loc='best')\n",
        "    plt.show()\n",
        "    plt.title(\"Train Loss\")\n",
        "    plt.plot(range(1,n+1), train_loss, label=\"Train\")\n",
        "    plt.xlabel(\"Epoch\")\n",
        "    plt.ylabel(\"Loss\")\n",
        "    plt.legend(loc='best')\n",
        "    plt.show()"
      ],
      "execution_count": 263,
      "outputs": []
    },
    {
      "cell_type": "code",
      "metadata": {
        "id": "a1WP49xdc2Ae"
      },
      "source": [
        "basePath = \"/content/drive/MyDrive/Aps360 Project/Datasets/SentimentAnalysis\"\n",
        "def train_rnn_network(model, train, valid, batch_size, num_epochs=5, learning_rate=1e-5):\n",
        "    criterion = nn.CrossEntropyLoss()\n",
        "    optimizer = torch.optim.Adam(model.parameters(), lr=learning_rate)\n",
        "    losses, train_acc, valid_acc = [], [], []\n",
        "    epochs = []\n",
        "    for epoch in range(num_epochs):\n",
        "        for reviews, labels in train:\n",
        "            optimizer.zero_grad()\n",
        "            pred = model(reviews)\n",
        "            loss = criterion(pred, labels)\n",
        "            loss.backward()\n",
        "            optimizer.step()\n",
        "        losses.append(float(loss))\n",
        "\n",
        "        epochs.append(epoch)\n",
        "        train_acc.append(get_accuracy(model, train))\n",
        "        valid_acc.append(get_accuracy(model, valid))\n",
        "        print(\"Epoch %d; Loss %f; Train Acc %f; Val Acc %f\" % (\n",
        "              epoch+1, loss, train_acc[-1], valid_acc[-1]))\n",
        "        \n",
        "        model_name = get_model_name(model.name,model.hidden_size,batch_size,\n",
        "                                    learning_rate,epoch)\n",
        "        torch.save(model.state_dict(), \"{}/{}\".format(basePath,model_name))\n",
        "        \n",
        "    model_name = get_model_name(model.name,model.hidden_size,batch_size,\n",
        "                                    learning_rate,epoch)\n",
        "    np.savetxt(\"{}/{}_train_loss.csv\".format(basePath, model_name), losses)\n",
        "    np.savetxt(\"{}/{}_train_accuracy.csv\".format(basePath, model_name), train_acc)\n",
        "    np.savetxt(\"{}/{}_val_accuracy.csv\".format(basePath, model_name), valid_acc)"
      ],
      "execution_count": 264,
      "outputs": []
    },
    {
      "cell_type": "code",
      "metadata": {
        "colab": {
          "base_uri": "https://localhost:8080/"
        },
        "id": "0t0zol1RbzzX",
        "outputId": "a1cdfd4f-7915-4d77-a0a7-86acacc7cf13"
      },
      "source": [
        "model = ReviewRNN(50, 50, 2)\n",
        "train_loader = ReviewBatcher(train, batch_size=64, drop_last=True)\n",
        "valid_loader = ReviewBatcher(valid, batch_size=64, drop_last=False)\n",
        "train_rnn_network(model, train_loader, valid_loader,batch_size=64, num_epochs=20, learning_rate=2e-4)\n",
        "get_accuracy(model, test_loader)"
      ],
      "execution_count": 265,
      "outputs": [
        {
          "output_type": "stream",
          "text": [
            "Epoch 1; Loss 0.690530; Train Acc 0.541016; Val Acc 0.513982\n",
            "Epoch 2; Loss 0.674897; Train Acc 0.552734; Val Acc 0.517090\n",
            "Epoch 3; Loss 0.681786; Train Acc 0.562500; Val Acc 0.522268\n",
            "Epoch 4; Loss 0.657061; Train Acc 0.582031; Val Acc 0.543501\n",
            "Epoch 5; Loss 0.663332; Train Acc 0.594727; Val Acc 0.553858\n",
            "Epoch 6; Loss 0.654053; Train Acc 0.597656; Val Acc 0.552822\n",
            "Epoch 7; Loss 0.695084; Train Acc 0.605469; Val Acc 0.571207\n",
            "Epoch 8; Loss 0.681278; Train Acc 0.622070; Val Acc 0.567323\n",
            "Epoch 9; Loss 0.650118; Train Acc 0.611328; Val Acc 0.577680\n",
            "Epoch 10; Loss 0.611962; Train Acc 0.596680; Val Acc 0.582600\n",
            "Epoch 11; Loss 0.655978; Train Acc 0.621094; Val Acc 0.580528\n",
            "Epoch 12; Loss 0.653259; Train Acc 0.607422; Val Acc 0.584671\n",
            "Epoch 13; Loss 0.664865; Train Acc 0.642578; Val Acc 0.574832\n",
            "Epoch 14; Loss 0.603407; Train Acc 0.605469; Val Acc 0.582859\n",
            "Epoch 15; Loss 0.596437; Train Acc 0.618164; Val Acc 0.582600\n",
            "Epoch 16; Loss 0.657612; Train Acc 0.655273; Val Acc 0.581046\n",
            "Epoch 17; Loss 0.630906; Train Acc 0.625977; Val Acc 0.583376\n",
            "Epoch 18; Loss 0.634324; Train Acc 0.615234; Val Acc 0.582859\n",
            "Epoch 19; Loss 0.635950; Train Acc 0.654297; Val Acc 0.586225\n",
            "Epoch 20; Loss 0.633138; Train Acc 0.665039; Val Acc 0.589591\n"
          ],
          "name": "stdout"
        },
        {
          "output_type": "execute_result",
          "data": {
            "text/plain": [
              "0.5890730191610565"
            ]
          },
          "metadata": {
            "tags": []
          },
          "execution_count": 265
        }
      ]
    },
    {
      "cell_type": "code",
      "metadata": {
        "colab": {
          "base_uri": "https://localhost:8080/",
          "height": 573
        },
        "id": "p7bbZhLpgJYi",
        "outputId": "7dd3498e-1e3a-40ac-cb22-5ab52dadbc2d"
      },
      "source": [
        "basePath = \"/content/drive/MyDrive/Aps360 Project/Datasets/SentimentAnalysis\"\n",
        "epochs=20\n",
        "modelPath = get_model_name(model.name, hidden_size=50, batch_size=64, learning_rate=2e-4, epoch=epochs-1)\n",
        "plot_training_curve(\"{}/{}\".format(basePath,modelPath))"
      ],
      "execution_count": 266,
      "outputs": [
        {
          "output_type": "display_data",
          "data": {
            "image/png": "[encoded data removed]",
            "text/plain": [
              "<Figure size 432x288 with 1 Axes>"
            ]
          },
          "metadata": {
            "tags": [],
            "needs_background": "light"
          }
        },
        {
          "output_type": "display_data",
          "data": {
            "image/png": "[encoded data removed]",
            "text/plain": [
              "<Figure size 432x288 with 1 Axes>"
            ]
          },
          "metadata": {
            "tags": [],
            "needs_background": "light"
          }
        }
      ]
    },
    {
      "cell_type": "code",
      "metadata": {
        "colab": {
          "base_uri": "https://localhost:8080/"
        },
        "id": "jzHUrR8Bgnqc",
        "outputId": "b3bdd18d-165f-42e2-ab68-2796944c9971"
      },
      "source": [
        "model = ReviewRNN(50, 100, 2)\n",
        "train_rnn_network(model, train_loader, valid_loader, batch_size=64, num_epochs=20, learning_rate=2e-4)\n",
        "get_accuracy(model, test_loader)"
      ],
      "execution_count": 267,
      "outputs": [
        {
          "output_type": "stream",
          "text": [
            "Epoch 1; Loss 0.702079; Train Acc 0.563477; Val Acc 0.508027\n",
            "Epoch 2; Loss 0.681657; Train Acc 0.561523; Val Acc 0.509322\n",
            "Epoch 3; Loss 0.639792; Train Acc 0.591797; Val Acc 0.568617\n",
            "Epoch 4; Loss 0.709805; Train Acc 0.612305; Val Acc 0.580269\n",
            "Epoch 5; Loss 0.641650; Train Acc 0.621094; Val Acc 0.585448\n",
            "Epoch 6; Loss 0.637557; Train Acc 0.631836; Val Acc 0.593734\n",
            "Epoch 7; Loss 0.649541; Train Acc 0.621094; Val Acc 0.592439\n",
            "Epoch 8; Loss 0.618242; Train Acc 0.640625; Val Acc 0.595028\n",
            "Epoch 9; Loss 0.649996; Train Acc 0.650391; Val Acc 0.610306\n",
            "Epoch 10; Loss 0.559919; Train Acc 0.665039; Val Acc 0.634386\n",
            "Epoch 11; Loss 0.443991; Train Acc 0.741211; Val Acc 0.725013\n",
            "Epoch 12; Loss 0.875002; Train Acc 0.540039; Val Acc 0.497152\n",
            "Epoch 13; Loss 0.642475; Train Acc 0.573242; Val Acc 0.505179\n",
            "Epoch 14; Loss 0.661341; Train Acc 0.597656; Val Acc 0.583894\n",
            "Epoch 15; Loss 0.634420; Train Acc 0.637695; Val Acc 0.574055\n",
            "Epoch 16; Loss 0.659550; Train Acc 0.640625; Val Acc 0.545054\n",
            "Epoch 17; Loss 0.620095; Train Acc 0.638672; Val Acc 0.579492\n",
            "Epoch 18; Loss 0.641989; Train Acc 0.646484; Val Acc 0.566287\n",
            "Epoch 19; Loss 0.632523; Train Acc 0.651367; Val Acc 0.582082\n",
            "Epoch 20; Loss 0.643171; Train Acc 0.650391; Val Acc 0.583376\n"
          ],
          "name": "stdout"
        },
        {
          "output_type": "execute_result",
          "data": {
            "text/plain": [
              "0.5805282237182807"
            ]
          },
          "metadata": {
            "tags": []
          },
          "execution_count": 267
        }
      ]
    },
    {
      "cell_type": "code",
      "metadata": {
        "colab": {
          "base_uri": "https://localhost:8080/",
          "height": 573
        },
        "id": "E3Z_TY6WheA0",
        "outputId": "e86de808-3bdb-4a8e-9792-42d1d0376543"
      },
      "source": [
        "basePath = \"/content/drive/MyDrive/Aps360 Project/Datasets/SentimentAnalysis\"\n",
        "epochs=20\n",
        "modelPath = get_model_name(\"RNN_word\", hidden_size=100, batch_size=64, learning_rate=2e-4, epoch=epochs-1)\n",
        "plot_training_curve(\"{}/{}\".format(basePath,modelPath))"
      ],
      "execution_count": 268,
      "outputs": [
        {
          "output_type": "display_data",
          "data": {
            "image/png": "[encoded data removed]",
            "text/plain": [
              "<Figure size 432x288 with 1 Axes>"
            ]
          },
          "metadata": {
            "tags": [],
            "needs_background": "light"
          }
        },
        {
          "output_type": "display_data",
          "data": {
            "image/png": "[encoded data removed]",
            "text/plain": [
              "<Figure size 432x288 with 1 Axes>"
            ]
          },
          "metadata": {
            "tags": [],
            "needs_background": "light"
          }
        }
      ]
    },
    {
      "cell_type": "code",
      "metadata": {
        "id": "A34bGpY8h4BD"
      },
      "source": [
        "def get_new_review(glove_vector, sample_review):\n",
        "    review = sample_review\n",
        "    idxs = [glove_vector.stoi[w]        # lookup the index of word\n",
        "            for w in split_review(review)\n",
        "            if w in glove_vector.stoi] # keep words that has an embedding\n",
        "    idxs = torch.tensor(idxs) # convert list to pytorch tensor\n",
        "    return idxs"
      ],
      "execution_count": 269,
      "outputs": []
    },
    {
      "cell_type": "code",
      "metadata": {
        "colab": {
          "base_uri": "https://localhost:8080/"
        },
        "id": "upJzr9ljiBul",
        "outputId": "aca54577-2acd-4f62-efd1-65c57321ca2e"
      },
      "source": [
        "new_review = get_new_review(glove, \"Terrible food. Don't come here.\")\n",
        "print(new_review.shape)\n",
        "\n",
        "out = torch.sigmoid(model(new_review.unsqueeze(0)))\n",
        "pred = out.max(1, keepdim=True)[1]\n",
        "print(pred)"
      ],
      "execution_count": 270,
      "outputs": [
        {
          "output_type": "stream",
          "text": [
            "torch.Size([8])\n",
            "tensor([[0]])\n"
          ],
          "name": "stdout"
        }
      ]
    },
    {
      "cell_type": "code",
      "metadata": {
        "colab": {
          "base_uri": "https://localhost:8080/"
        },
        "id": "xKl0HZRoiRRA",
        "outputId": "79edaa46-d13d-45eb-9972-c5dc8200f3d7"
      },
      "source": [
        "new_review = get_new_review(glove, \"Great food. Will come again!\")\n",
        "print(new_review.shape)\n",
        "\n",
        "out = torch.sigmoid(model(new_review.unsqueeze(0)))\n",
        "pred = out.max(1, keepdim=True)[1]\n",
        "print(pred)"
      ],
      "execution_count": 271,
      "outputs": [
        {
          "output_type": "stream",
          "text": [
            "torch.Size([7])\n",
            "tensor([[1]])\n"
          ],
          "name": "stdout"
        }
      ]
    },
    {
      "cell_type": "code",
      "metadata": {
        "colab": {
          "base_uri": "https://localhost:8080/"
        },
        "id": "wBod_hD7idcn",
        "outputId": "d46cfb15-307d-4bc9-9578-15eeb24ccb8c"
      },
      "source": [
        "class ReviewLSTM(nn.Module):\n",
        "    def __init__(self, input_size, hidden_size, num_classes):\n",
        "        super(ReviewLSTM, self).__init__()\n",
        "        self.emb = nn.Embedding.from_pretrained(glove.vectors)\n",
        "        self.hidden_size = hidden_size\n",
        "        self.rnn = nn.LSTM(input_size, hidden_size, batch_first=True)\n",
        "        self.fc = nn.Linear(hidden_size, num_classes)\n",
        "        self.name = \"LSTM_word\"\n",
        "    \n",
        "    def forward(self, x):\n",
        "        # Look up the embedding\n",
        "        x = self.emb(x)\n",
        "        # Set an initial hidden state and cell state\n",
        "        h0 = torch.zeros(1, x.size(0), self.hidden_size)\n",
        "        c0 = torch.zeros(1, x.size(0), self.hidden_size)\n",
        "        # Forward propagate the LSTM\n",
        "        out, _ = self.rnn(x, (h0, c0))\n",
        "        # Pass the output of the last time step to the classifier\n",
        "        out = self.fc(out[:, -1, :])\n",
        "        return out\n",
        "\n",
        "model = ReviewLSTM(50, 50, 2)\n",
        "train_rnn_network(model, train_loader, valid_loader, batch_size=64, num_epochs=20, learning_rate=2e-4)\n",
        "get_accuracy(model, test_loader)"
      ],
      "execution_count": 272,
      "outputs": [
        {
          "output_type": "stream",
          "text": [
            "Epoch 1; Loss 0.706899; Train Acc 0.553711; Val Acc 0.497411\n",
            "Epoch 2; Loss 0.693453; Train Acc 0.555664; Val Acc 0.497929\n",
            "Epoch 3; Loss 0.684646; Train Acc 0.551758; Val Acc 0.498705\n",
            "Epoch 4; Loss 0.687440; Train Acc 0.556641; Val Acc 0.499741\n",
            "Epoch 5; Loss 0.671922; Train Acc 0.562500; Val Acc 0.506732\n",
            "Epoch 6; Loss 0.641670; Train Acc 0.579102; Val Acc 0.521233\n",
            "Epoch 7; Loss 0.676383; Train Acc 0.604492; Val Acc 0.559555\n",
            "Epoch 8; Loss 0.626294; Train Acc 0.618164; Val Acc 0.578716\n",
            "Epoch 9; Loss 0.632374; Train Acc 0.616211; Val Acc 0.601243\n",
            "Epoch 10; Loss 0.666725; Train Acc 0.624023; Val Acc 0.607457\n",
            "Epoch 11; Loss 0.629062; Train Acc 0.620117; Val Acc 0.613413\n",
            "Epoch 12; Loss 0.634305; Train Acc 0.635742; Val Acc 0.615225\n",
            "Epoch 13; Loss 0.602481; Train Acc 0.622070; Val Acc 0.614966\n",
            "Epoch 14; Loss 0.641761; Train Acc 0.638672; Val Acc 0.627136\n",
            "Epoch 15; Loss 0.591910; Train Acc 0.675781; Val Acc 0.646815\n",
            "Epoch 16; Loss 0.547714; Train Acc 0.722656; Val Acc 0.703263\n",
            "Epoch 17; Loss 0.597916; Train Acc 0.734375; Val Acc 0.737701\n",
            "Epoch 18; Loss 0.445841; Train Acc 0.732422; Val Acc 0.715173\n",
            "Epoch 19; Loss 0.406288; Train Acc 0.779297; Val Acc 0.744951\n",
            "Epoch 20; Loss 0.590762; Train Acc 0.765625; Val Acc 0.755567\n"
          ],
          "name": "stdout"
        },
        {
          "output_type": "execute_result",
          "data": {
            "text/plain": [
              "0.7553081305023304"
            ]
          },
          "metadata": {
            "tags": []
          },
          "execution_count": 272
        }
      ]
    },
    {
      "cell_type": "code",
      "metadata": {
        "colab": {
          "base_uri": "https://localhost:8080/",
          "height": 573
        },
        "id": "5QYdp0mhkRzC",
        "outputId": "c25b178b-11aa-453f-fcd4-a094478e3d70"
      },
      "source": [
        "basePath = \"/content/drive/MyDrive/Aps360 Project/Datasets/SentimentAnalysis\"\n",
        "epochs=20\n",
        "modelPath = get_model_name(model.name, hidden_size=50, batch_size=64, learning_rate=2e-4, epoch=epochs-1)\n",
        "plot_training_curve(\"{}/{}\".format(basePath,modelPath))"
      ],
      "execution_count": 273,
      "outputs": [
        {
          "output_type": "display_data",
          "data": {
            "image/png": "[encoded data removed]",
            "text/plain": [
              "<Figure size 432x288 with 1 Axes>"
            ]
          },
          "metadata": {
            "tags": [],
            "needs_background": "light"
          }
        },
        {
          "output_type": "display_data",
          "data": {
            "image/png": "[encoded data removed]",
            "text/plain": [
              "<Figure size 432x288 with 1 Axes>"
            ]
          },
          "metadata": {
            "tags": [],
            "needs_background": "light"
          }
        }
      ]
    }
  ]
}