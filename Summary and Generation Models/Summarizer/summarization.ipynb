{
  "nbformat": 4,
  "nbformat_minor": 0,
  "metadata": {
    "kernelspec": {
      "display_name": "Python 3",
      "language": "python",
      "name": "python3"
    },
    "language_info": {
      "codemirror_mode": {
        "name": "ipython",
        "version": 3
      },
      "file_extension": ".py",
      "mimetype": "text/x-python",
      "name": "python",
      "nbconvert_exporter": "python",
      "pygments_lexer": "ipython3",
      "version": "3.6.6"
    },
    "colab": {
      "name": "summarization.ipynb",
      "provenance": [],
      "include_colab_link": true
    }
  },
  "cells": [
    {
      "cell_type": "markdown",
      "metadata": {
        "id": "view-in-github",
        "colab_type": "text"
      },
      "source": [
        "<a href=\"https://colab.research.google.com/github/Stephenwang3801/APS360-Project/blob/main/summarization.ipynb\" target=\"_parent\"><img src=\"https://colab.research.google.com/assets/colab-badge.svg\" alt=\"Open In Colab\"/></a>"
      ]
    },
    {
      "cell_type": "markdown",
      "metadata": {
        "id": "QJscSfAhv7cf"
      },
      "source": [
        "## Import Library"
      ]
    },
    {
      "cell_type": "markdown",
      "metadata": {
        "id": "OzbniwH3E0RD"
      },
      "source": [
        "Ref: https://towardsdatascience.com/abstractive-summarization-using-pytorch-f5063e67510\n"
      ]
    },
    {
      "cell_type": "code",
      "metadata": {
        "colab": {
          "base_uri": "https://localhost:8080/"
        },
        "id": "wBjg_wi6wFq4",
        "outputId": "de20d354-9c02-47d4-e56b-ee2c4f177cf6"
      },
      "source": [
        "pip install transformers"
      ],
      "execution_count": 21,
      "outputs": [
        {
          "output_type": "stream",
          "text": [
            "Requirement already satisfied: transformers in /usr/local/lib/python3.7/dist-packages (4.8.1)\n",
            "Requirement already satisfied: requests in /usr/local/lib/python3.7/dist-packages (from transformers) (2.23.0)\n",
            "Requirement already satisfied: numpy>=1.17 in /usr/local/lib/python3.7/dist-packages (from transformers) (1.19.5)\n",
            "Requirement already satisfied: tqdm>=4.27 in /usr/local/lib/python3.7/dist-packages (from transformers) (4.41.1)\n",
            "Requirement already satisfied: filelock in /usr/local/lib/python3.7/dist-packages (from transformers) (3.0.12)\n",
            "Requirement already satisfied: pyyaml in /usr/local/lib/python3.7/dist-packages (from transformers) (3.13)\n",
            "Requirement already satisfied: huggingface-hub==0.0.12 in /usr/local/lib/python3.7/dist-packages (from transformers) (0.0.12)\n",
            "Requirement already satisfied: regex!=2019.12.17 in /usr/local/lib/python3.7/dist-packages (from transformers) (2019.12.20)\n",
            "Requirement already satisfied: packaging in /usr/local/lib/python3.7/dist-packages (from transformers) (20.9)\n",
            "Requirement already satisfied: tokenizers<0.11,>=0.10.1 in /usr/local/lib/python3.7/dist-packages (from transformers) (0.10.3)\n",
            "Requirement already satisfied: sacremoses in /usr/local/lib/python3.7/dist-packages (from transformers) (0.0.45)\n",
            "Requirement already satisfied: importlib-metadata; python_version < \"3.8\" in /usr/local/lib/python3.7/dist-packages (from transformers) (4.5.0)\n",
            "Requirement already satisfied: idna<3,>=2.5 in /usr/local/lib/python3.7/dist-packages (from requests->transformers) (2.10)\n",
            "Requirement already satisfied: certifi>=2017.4.17 in /usr/local/lib/python3.7/dist-packages (from requests->transformers) (2021.5.30)\n",
            "Requirement already satisfied: urllib3!=1.25.0,!=1.25.1,<1.26,>=1.21.1 in /usr/local/lib/python3.7/dist-packages (from requests->transformers) (1.24.3)\n",
            "Requirement already satisfied: chardet<4,>=3.0.2 in /usr/local/lib/python3.7/dist-packages (from requests->transformers) (3.0.4)\n",
            "Requirement already satisfied: typing-extensions in /usr/local/lib/python3.7/dist-packages (from huggingface-hub==0.0.12->transformers) (3.7.4.3)\n",
            "Requirement already satisfied: pyparsing>=2.0.2 in /usr/local/lib/python3.7/dist-packages (from packaging->transformers) (2.4.7)\n",
            "Requirement already satisfied: six in /usr/local/lib/python3.7/dist-packages (from sacremoses->transformers) (1.15.0)\n",
            "Requirement already satisfied: joblib in /usr/local/lib/python3.7/dist-packages (from sacremoses->transformers) (1.0.1)\n",
            "Requirement already satisfied: click in /usr/local/lib/python3.7/dist-packages (from sacremoses->transformers) (7.1.2)\n",
            "Requirement already satisfied: zipp>=0.5 in /usr/local/lib/python3.7/dist-packages (from importlib-metadata; python_version < \"3.8\"->transformers) (3.4.1)\n"
          ],
          "name": "stdout"
        }
      ]
    },
    {
      "cell_type": "code",
      "metadata": {
        "id": "sM47lPeQv7cg"
      },
      "source": [
        "from transformers import pipeline\n",
        "import os"
      ],
      "execution_count": 22,
      "outputs": []
    },
    {
      "cell_type": "markdown",
      "metadata": {
        "id": "eRNEZ4Muv7ch"
      },
      "source": [
        "## Setting GPU and Model to Use"
      ]
    },
    {
      "cell_type": "code",
      "metadata": {
        "id": "Go-mXg_bv7ch"
      },
      "source": [
        "## Setting to use the 0th GPU\n",
        "os.environ[\"CUDA_VISIBLE_DEVICES\"] = \"0\"\n",
        "\n",
        "## Setting to use the bart-large-cnn model for summarization\n",
        "summarizer = pipeline(\"summarization\")\n",
        "\n",
        "## To use the t5-base model for summarization:\n",
        "## summarizer = pipeline(\"summarization\", model=\"t5-base\", tokenizer=\"t5-base\", framework=\"tf\")"
      ],
      "execution_count": 23,
      "outputs": []
    },
    {
      "cell_type": "markdown",
      "metadata": {
        "id": "ViizXKn8v7ci"
      },
      "source": [
        "## Input the Text to Summarize"
      ]
    },
    {
      "cell_type": "code",
      "metadata": {
        "id": "B5_2wTczv7ci"
      },
      "source": [
        "text = \"\"\"One month after the United States began what has become a troubled rollout of a national COVID vaccination campaign, the effort is finally gathering real steam.\n",
        "Close to a million doses -- over 951,000, to be more exact -- made their way into the arms of Americans in the past 24 hours, the U.S. Centers for Disease Control and Prevention reported Wednesday. That's the largest number of shots given in one day since the rollout began and a big jump from the previous day, when just under 340,000 doses were given, CBS News reported.\n",
        "That number is likely to jump quickly after the federal government on Tuesday gave states the OK to vaccinate anyone over 65 and said it would release all the doses of vaccine it has available for distribution. Meanwhile, a number of states have now opened mass vaccination sites in an effort to get larger numbers of people inoculated, CBS News reported.\"\"\""
      ],
      "execution_count": 26,
      "outputs": []
    },
    {
      "cell_type": "markdown",
      "metadata": {
        "id": "CuVXyPvJv7ci"
      },
      "source": [
        "## Summarize"
      ]
    },
    {
      "cell_type": "markdown",
      "metadata": {
        "id": "cgJanIHTESYI"
      },
      "source": [
        "How to use the summarizer. The only argument that needs to be changed is the one called \"text\". This should be changed into the variable that holds the text that needs to be summarized."
      ]
    },
    {
      "cell_type": "code",
      "metadata": {
        "colab": {
          "base_uri": "https://localhost:8080/"
        },
        "id": "HTSMaBFVv7cj",
        "outputId": "4dc11fc4-df7e-4d46-e86b-79a2f95a16c5"
      },
      "source": [
        "summary_text = summarizer(text, max_length=100, min_length=5, do_sample=False)[0]['summary_text']\n",
        "print(summary_text)"
      ],
      "execution_count": 32,
      "outputs": [
        {
          "output_type": "stream",
          "text": [
            " Tiger Sugar's brown sugar boba milk with cream mousse is one of their signature drinks . It had some of the softest tapioca pearls I ever had, in addition to the coldness of fresh milk .\n"
          ],
          "name": "stdout"
        }
      ]
    },
    {
      "cell_type": "code",
      "metadata": {
        "id": "tXccbHWEwYxL"
      },
      "source": [
        "testText = \"\"\"So I originally wasn't expecting to walk by this place but stumbled upon it by chance walking down Yonge St, and having heard so many great things about Tiger Sugar came my first try.\n",
        "Surprisingly there was no line (this was back in September), and I ordered the brown sugar boba milk with cream mousse, one of their signature drinks. IT WAS SO GOOD!!! It had some of the softest tapioca pearls I ever had, in addition to the coldness of the refreshing fresh milk. MMHMM. Amazing, a must try.\n",
        "I must say, being someone not from Canada but from NYC, where we also have Tiger Sugar, I never ventured out to go buy one to try at home but I'm glad I did.\n",
        "One thing was that it cost C$6.50, after tax it was C$7.35 which is quite pricey (but I think worth it) and it would cost about the same in NY. ($6)\n",
        "They are all one size, but the bad thing is you can't adjust the ice level (and there can be quite a lot of ice.)\"\"\""
      ],
      "execution_count": 24,
      "outputs": []
    },
    {
      "cell_type": "code",
      "metadata": {
        "colab": {
          "base_uri": "https://localhost:8080/"
        },
        "id": "yYwY4JcKyjoa",
        "outputId": "69eef295-5dea-48c1-95ff-d4df8df4719a"
      },
      "source": [
        "sumTest = summarizer(testText, max_length=100, min_length=5, do_sample=False)[0]['summary_text']\n",
        "print(sumTest)"
      ],
      "execution_count": 37,
      "outputs": [
        {
          "output_type": "stream",
          "text": [
            " Tiger Sugar's brown sugar boba milk with cream mousse is one of their signature drinks . It had some of the softest tapioca pearls I ever had, in addition to the coldness of fresh milk .\n"
          ],
          "name": "stdout"
        }
      ]
    },
    {
      "cell_type": "code",
      "metadata": {
        "id": "EstFLS_QyzSK"
      },
      "source": [
        "rev1= \"\"\"Bubble tea. Over the past years, we've been so lucky with so many new shops popping all over the city each bringing new flavours, textures and unique tastes to the table. Despite this, brown sugar bubble tea really has become my go to and on my search for best brown sugar bubble tea in the city, Tiger Sugar would easily be in my top three.\n",
        "Attention to detail is an understatement here. With a warm base, the boba are soaked in brown sugar and the base is warm when served to you. Stripes of brown sugar surround the cup such that you feel bad flipping the cup back and forth when you get it as it really looks so perfectly symmetrical when served to you. Alas, it's oozing with brown sugar taste and really is one of the best of its kind; my only complaint being that the portion is rather small so you'll be finished before you know it.\n",
        "I'd easily recommend anyone who enjoys brown sugar bubble tea to give Tiger Sugar a try.\"\"\""
      ],
      "execution_count": 39,
      "outputs": []
    },
    {
      "cell_type": "code",
      "metadata": {
        "colab": {
          "base_uri": "https://localhost:8080/"
        },
        "id": "IwoAQBuW7lWT",
        "outputId": "6b54c7d2-3b36-469a-f19c-da01833033da"
      },
      "source": [
        "rev1output = summarizer(rev1, max_length=100, min_length=5, do_sample=False)[0]['summary_text']\n",
        "print(rev1output)"
      ],
      "execution_count": 40,
      "outputs": [
        {
          "output_type": "stream",
          "text": [
            " Tiger Sugar would easily be in my top three for the best brown sugar bubble tea . Stripes of brown sugar surround the cup such that you feel bad flipping the cup back and forth .\n"
          ],
          "name": "stdout"
        }
      ]
    },
    {
      "cell_type": "code",
      "metadata": {
        "id": "JX25JW1o7tey"
      },
      "source": [
        ""
      ],
      "execution_count": null,
      "outputs": []
    }
  ]
}