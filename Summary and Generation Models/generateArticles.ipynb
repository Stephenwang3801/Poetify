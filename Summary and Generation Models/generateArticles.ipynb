{
  "nbformat": 4,
  "nbformat_minor": 0,
  "metadata": {
    "accelerator": "GPU",
    "colab": {
      "name": "generatePoems.ipynb",
      "provenance": [],
      "collapsed_sections": [],
      "machine_shape": "hm"
    },
    "kernelspec": {
      "display_name": "Python 3",
      "name": "python3"
    },
    "language_info": {
      "name": "python"
    },
    "widgets": {
      "application/vnd.jupyter.widget-state+json": {
        "6bfc754898354720a1b6591343d385f2": {
          "model_module": "@jupyter-widgets/controls",
          "model_name": "HBoxModel",
          "state": {
            "_view_name": "HBoxView",
            "_dom_classes": [],
            "_model_name": "HBoxModel",
            "_view_module": "@jupyter-widgets/controls",
            "_model_module_version": "1.5.0",
            "_view_count": null,
            "_view_module_version": "1.5.0",
            "box_style": "",
            "layout": "IPY_MODEL_54cd0e1691684a8eabacda958d555019",
            "_model_module": "@jupyter-widgets/controls",
            "children": [
              "IPY_MODEL_f8fcb2476dce4409a5ae5c48874461cf",
              "IPY_MODEL_bd02bbfdb90a4effaba5ee45d839eb96"
            ]
          }
        },
        "54cd0e1691684a8eabacda958d555019": {
          "model_module": "@jupyter-widgets/base",
          "model_name": "LayoutModel",
          "state": {
            "_view_name": "LayoutView",
            "grid_template_rows": null,
            "right": null,
            "justify_content": null,
            "_view_module": "@jupyter-widgets/base",
            "overflow": null,
            "_model_module_version": "1.2.0",
            "_view_count": null,
            "flex_flow": null,
            "width": null,
            "min_width": null,
            "border": null,
            "align_items": null,
            "bottom": null,
            "_model_module": "@jupyter-widgets/base",
            "top": null,
            "grid_column": null,
            "overflow_y": null,
            "overflow_x": null,
            "grid_auto_flow": null,
            "grid_area": null,
            "grid_template_columns": null,
            "flex": null,
            "_model_name": "LayoutModel",
            "justify_items": null,
            "grid_row": null,
            "max_height": null,
            "align_content": null,
            "visibility": null,
            "align_self": null,
            "height": null,
            "min_height": null,
            "padding": null,
            "grid_auto_rows": null,
            "grid_gap": null,
            "max_width": null,
            "order": null,
            "_view_module_version": "1.2.0",
            "grid_template_areas": null,
            "object_position": null,
            "object_fit": null,
            "grid_auto_columns": null,
            "margin": null,
            "display": null,
            "left": null
          }
        },
        "f8fcb2476dce4409a5ae5c48874461cf": {
          "model_module": "@jupyter-widgets/controls",
          "model_name": "FloatProgressModel",
          "state": {
            "_view_name": "ProgressView",
            "style": "IPY_MODEL_30de033ebd894aff8dac39261c468023",
            "_dom_classes": [],
            "description": "Downloading: 100%",
            "_model_name": "FloatProgressModel",
            "bar_style": "success",
            "max": 1042301,
            "_view_module": "@jupyter-widgets/controls",
            "_model_module_version": "1.5.0",
            "value": 1042301,
            "_view_count": null,
            "_view_module_version": "1.5.0",
            "orientation": "horizontal",
            "min": 0,
            "description_tooltip": null,
            "_model_module": "@jupyter-widgets/controls",
            "layout": "IPY_MODEL_1275f10241d94d4fa493b38914db3db2"
          }
        },
        "bd02bbfdb90a4effaba5ee45d839eb96": {
          "model_module": "@jupyter-widgets/controls",
          "model_name": "HTMLModel",
          "state": {
            "_view_name": "HTMLView",
            "style": "IPY_MODEL_b6ce60d315b24fe9be9b175219c6a985",
            "_dom_classes": [],
            "description": "",
            "_model_name": "HTMLModel",
            "placeholder": "​",
            "_view_module": "@jupyter-widgets/controls",
            "_model_module_version": "1.5.0",
            "value": " 1.04M/1.04M [00:08&lt;00:00, 125kB/s]",
            "_view_count": null,
            "_view_module_version": "1.5.0",
            "description_tooltip": null,
            "_model_module": "@jupyter-widgets/controls",
            "layout": "IPY_MODEL_b80f1be79ee34c94bd30b5f2142809e6"
          }
        },
        "30de033ebd894aff8dac39261c468023": {
          "model_module": "@jupyter-widgets/controls",
          "model_name": "ProgressStyleModel",
          "state": {
            "_view_name": "StyleView",
            "_model_name": "ProgressStyleModel",
            "description_width": "initial",
            "_view_module": "@jupyter-widgets/base",
            "_model_module_version": "1.5.0",
            "_view_count": null,
            "_view_module_version": "1.2.0",
            "bar_color": null,
            "_model_module": "@jupyter-widgets/controls"
          }
        },
        "1275f10241d94d4fa493b38914db3db2": {
          "model_module": "@jupyter-widgets/base",
          "model_name": "LayoutModel",
          "state": {
            "_view_name": "LayoutView",
            "grid_template_rows": null,
            "right": null,
            "justify_content": null,
            "_view_module": "@jupyter-widgets/base",
            "overflow": null,
            "_model_module_version": "1.2.0",
            "_view_count": null,
            "flex_flow": null,
            "width": null,
            "min_width": null,
            "border": null,
            "align_items": null,
            "bottom": null,
            "_model_module": "@jupyter-widgets/base",
            "top": null,
            "grid_column": null,
            "overflow_y": null,
            "overflow_x": null,
            "grid_auto_flow": null,
            "grid_area": null,
            "grid_template_columns": null,
            "flex": null,
            "_model_name": "LayoutModel",
            "justify_items": null,
            "grid_row": null,
            "max_height": null,
            "align_content": null,
            "visibility": null,
            "align_self": null,
            "height": null,
            "min_height": null,
            "padding": null,
            "grid_auto_rows": null,
            "grid_gap": null,
            "max_width": null,
            "order": null,
            "_view_module_version": "1.2.0",
            "grid_template_areas": null,
            "object_position": null,
            "object_fit": null,
            "grid_auto_columns": null,
            "margin": null,
            "display": null,
            "left": null
          }
        },
        "b6ce60d315b24fe9be9b175219c6a985": {
          "model_module": "@jupyter-widgets/controls",
          "model_name": "DescriptionStyleModel",
          "state": {
            "_view_name": "StyleView",
            "_model_name": "DescriptionStyleModel",
            "description_width": "",
            "_view_module": "@jupyter-widgets/base",
            "_model_module_version": "1.5.0",
            "_view_count": null,
            "_view_module_version": "1.2.0",
            "_model_module": "@jupyter-widgets/controls"
          }
        },
        "b80f1be79ee34c94bd30b5f2142809e6": {
          "model_module": "@jupyter-widgets/base",
          "model_name": "LayoutModel",
          "state": {
            "_view_name": "LayoutView",
            "grid_template_rows": null,
            "right": null,
            "justify_content": null,
            "_view_module": "@jupyter-widgets/base",
            "overflow": null,
            "_model_module_version": "1.2.0",
            "_view_count": null,
            "flex_flow": null,
            "width": null,
            "min_width": null,
            "border": null,
            "align_items": null,
            "bottom": null,
            "_model_module": "@jupyter-widgets/base",
            "top": null,
            "grid_column": null,
            "overflow_y": null,
            "overflow_x": null,
            "grid_auto_flow": null,
            "grid_area": null,
            "grid_template_columns": null,
            "flex": null,
            "_model_name": "LayoutModel",
            "justify_items": null,
            "grid_row": null,
            "max_height": null,
            "align_content": null,
            "visibility": null,
            "align_self": null,
            "height": null,
            "min_height": null,
            "padding": null,
            "grid_auto_rows": null,
            "grid_gap": null,
            "max_width": null,
            "order": null,
            "_view_module_version": "1.2.0",
            "grid_template_areas": null,
            "object_position": null,
            "object_fit": null,
            "grid_auto_columns": null,
            "margin": null,
            "display": null,
            "left": null
          }
        },
        "e87f5544d1084b12a2f182029faad42c": {
          "model_module": "@jupyter-widgets/controls",
          "model_name": "HBoxModel",
          "state": {
            "_view_name": "HBoxView",
            "_dom_classes": [],
            "_model_name": "HBoxModel",
            "_view_module": "@jupyter-widgets/controls",
            "_model_module_version": "1.5.0",
            "_view_count": null,
            "_view_module_version": "1.5.0",
            "box_style": "",
            "layout": "IPY_MODEL_65572c0c96fe47f4877859f8addcebe1",
            "_model_module": "@jupyter-widgets/controls",
            "children": [
              "IPY_MODEL_297abe91b9bd47e1be3f7aca86f8ca7a",
              "IPY_MODEL_9ed0ada2916f45498e43a99cde7f5101"
            ]
          }
        },
        "65572c0c96fe47f4877859f8addcebe1": {
          "model_module": "@jupyter-widgets/base",
          "model_name": "LayoutModel",
          "state": {
            "_view_name": "LayoutView",
            "grid_template_rows": null,
            "right": null,
            "justify_content": null,
            "_view_module": "@jupyter-widgets/base",
            "overflow": null,
            "_model_module_version": "1.2.0",
            "_view_count": null,
            "flex_flow": null,
            "width": null,
            "min_width": null,
            "border": null,
            "align_items": null,
            "bottom": null,
            "_model_module": "@jupyter-widgets/base",
            "top": null,
            "grid_column": null,
            "overflow_y": null,
            "overflow_x": null,
            "grid_auto_flow": null,
            "grid_area": null,
            "grid_template_columns": null,
            "flex": null,
            "_model_name": "LayoutModel",
            "justify_items": null,
            "grid_row": null,
            "max_height": null,
            "align_content": null,
            "visibility": null,
            "align_self": null,
            "height": null,
            "min_height": null,
            "padding": null,
            "grid_auto_rows": null,
            "grid_gap": null,
            "max_width": null,
            "order": null,
            "_view_module_version": "1.2.0",
            "grid_template_areas": null,
            "object_position": null,
            "object_fit": null,
            "grid_auto_columns": null,
            "margin": null,
            "display": null,
            "left": null
          }
        },
        "297abe91b9bd47e1be3f7aca86f8ca7a": {
          "model_module": "@jupyter-widgets/controls",
          "model_name": "FloatProgressModel",
          "state": {
            "_view_name": "ProgressView",
            "style": "IPY_MODEL_93502e36c7de4fe6ad2cf6fb206449fb",
            "_dom_classes": [],
            "description": "Downloading: 100%",
            "_model_name": "FloatProgressModel",
            "bar_style": "success",
            "max": 456318,
            "_view_module": "@jupyter-widgets/controls",
            "_model_module_version": "1.5.0",
            "value": 456318,
            "_view_count": null,
            "_view_module_version": "1.5.0",
            "orientation": "horizontal",
            "min": 0,
            "description_tooltip": null,
            "_model_module": "@jupyter-widgets/controls",
            "layout": "IPY_MODEL_46686f1bc90347f5a8454729dfcd0516"
          }
        },
        "9ed0ada2916f45498e43a99cde7f5101": {
          "model_module": "@jupyter-widgets/controls",
          "model_name": "HTMLModel",
          "state": {
            "_view_name": "HTMLView",
            "style": "IPY_MODEL_02aa903b988c4585bbcffbc3464d1bac",
            "_dom_classes": [],
            "description": "",
            "_model_name": "HTMLModel",
            "placeholder": "​",
            "_view_module": "@jupyter-widgets/controls",
            "_model_module_version": "1.5.0",
            "value": " 456k/456k [00:03&lt;00:00, 129kB/s]",
            "_view_count": null,
            "_view_module_version": "1.5.0",
            "description_tooltip": null,
            "_model_module": "@jupyter-widgets/controls",
            "layout": "IPY_MODEL_693209ee7df944d5925e671d0288330b"
          }
        },
        "93502e36c7de4fe6ad2cf6fb206449fb": {
          "model_module": "@jupyter-widgets/controls",
          "model_name": "ProgressStyleModel",
          "state": {
            "_view_name": "StyleView",
            "_model_name": "ProgressStyleModel",
            "description_width": "initial",
            "_view_module": "@jupyter-widgets/base",
            "_model_module_version": "1.5.0",
            "_view_count": null,
            "_view_module_version": "1.2.0",
            "bar_color": null,
            "_model_module": "@jupyter-widgets/controls"
          }
        },
        "46686f1bc90347f5a8454729dfcd0516": {
          "model_module": "@jupyter-widgets/base",
          "model_name": "LayoutModel",
          "state": {
            "_view_name": "LayoutView",
            "grid_template_rows": null,
            "right": null,
            "justify_content": null,
            "_view_module": "@jupyter-widgets/base",
            "overflow": null,
            "_model_module_version": "1.2.0",
            "_view_count": null,
            "flex_flow": null,
            "width": null,
            "min_width": null,
            "border": null,
            "align_items": null,
            "bottom": null,
            "_model_module": "@jupyter-widgets/base",
            "top": null,
            "grid_column": null,
            "overflow_y": null,
            "overflow_x": null,
            "grid_auto_flow": null,
            "grid_area": null,
            "grid_template_columns": null,
            "flex": null,
            "_model_name": "LayoutModel",
            "justify_items": null,
            "grid_row": null,
            "max_height": null,
            "align_content": null,
            "visibility": null,
            "align_self": null,
            "height": null,
            "min_height": null,
            "padding": null,
            "grid_auto_rows": null,
            "grid_gap": null,
            "max_width": null,
            "order": null,
            "_view_module_version": "1.2.0",
            "grid_template_areas": null,
            "object_position": null,
            "object_fit": null,
            "grid_auto_columns": null,
            "margin": null,
            "display": null,
            "left": null
          }
        },
        "02aa903b988c4585bbcffbc3464d1bac": {
          "model_module": "@jupyter-widgets/controls",
          "model_name": "DescriptionStyleModel",
          "state": {
            "_view_name": "StyleView",
            "_model_name": "DescriptionStyleModel",
            "description_width": "",
            "_view_module": "@jupyter-widgets/base",
            "_model_module_version": "1.5.0",
            "_view_count": null,
            "_view_module_version": "1.2.0",
            "_model_module": "@jupyter-widgets/controls"
          }
        },
        "693209ee7df944d5925e671d0288330b": {
          "model_module": "@jupyter-widgets/base",
          "model_name": "LayoutModel",
          "state": {
            "_view_name": "LayoutView",
            "grid_template_rows": null,
            "right": null,
            "justify_content": null,
            "_view_module": "@jupyter-widgets/base",
            "overflow": null,
            "_model_module_version": "1.2.0",
            "_view_count": null,
            "flex_flow": null,
            "width": null,
            "min_width": null,
            "border": null,
            "align_items": null,
            "bottom": null,
            "_model_module": "@jupyter-widgets/base",
            "top": null,
            "grid_column": null,
            "overflow_y": null,
            "overflow_x": null,
            "grid_auto_flow": null,
            "grid_area": null,
            "grid_template_columns": null,
            "flex": null,
            "_model_name": "LayoutModel",
            "justify_items": null,
            "grid_row": null,
            "max_height": null,
            "align_content": null,
            "visibility": null,
            "align_self": null,
            "height": null,
            "min_height": null,
            "padding": null,
            "grid_auto_rows": null,
            "grid_gap": null,
            "max_width": null,
            "order": null,
            "_view_module_version": "1.2.0",
            "grid_template_areas": null,
            "object_position": null,
            "object_fit": null,
            "grid_auto_columns": null,
            "margin": null,
            "display": null,
            "left": null
          }
        },
        "2aa5287707a842b0a0f74eed2539036f": {
          "model_module": "@jupyter-widgets/controls",
          "model_name": "HBoxModel",
          "state": {
            "_view_name": "HBoxView",
            "_dom_classes": [],
            "_model_name": "HBoxModel",
            "_view_module": "@jupyter-widgets/controls",
            "_model_module_version": "1.5.0",
            "_view_count": null,
            "_view_module_version": "1.5.0",
            "box_style": "",
            "layout": "IPY_MODEL_d910db845d1a49a9960e92794ee563c6",
            "_model_module": "@jupyter-widgets/controls",
            "children": [
              "IPY_MODEL_aa95c237632c438aafb0029587c361c5",
              "IPY_MODEL_164883cd0f7241a6a79e923909c5b30e"
            ]
          }
        },
        "d910db845d1a49a9960e92794ee563c6": {
          "model_module": "@jupyter-widgets/base",
          "model_name": "LayoutModel",
          "state": {
            "_view_name": "LayoutView",
            "grid_template_rows": null,
            "right": null,
            "justify_content": null,
            "_view_module": "@jupyter-widgets/base",
            "overflow": null,
            "_model_module_version": "1.2.0",
            "_view_count": null,
            "flex_flow": null,
            "width": null,
            "min_width": null,
            "border": null,
            "align_items": null,
            "bottom": null,
            "_model_module": "@jupyter-widgets/base",
            "top": null,
            "grid_column": null,
            "overflow_y": null,
            "overflow_x": null,
            "grid_auto_flow": null,
            "grid_area": null,
            "grid_template_columns": null,
            "flex": null,
            "_model_name": "LayoutModel",
            "justify_items": null,
            "grid_row": null,
            "max_height": null,
            "align_content": null,
            "visibility": null,
            "align_self": null,
            "height": null,
            "min_height": null,
            "padding": null,
            "grid_auto_rows": null,
            "grid_gap": null,
            "max_width": null,
            "order": null,
            "_view_module_version": "1.2.0",
            "grid_template_areas": null,
            "object_position": null,
            "object_fit": null,
            "grid_auto_columns": null,
            "margin": null,
            "display": null,
            "left": null
          }
        },
        "aa95c237632c438aafb0029587c361c5": {
          "model_module": "@jupyter-widgets/controls",
          "model_name": "FloatProgressModel",
          "state": {
            "_view_name": "ProgressView",
            "style": "IPY_MODEL_97217dcfd3664155be2984c3f4deddf0",
            "_dom_classes": [],
            "description": "Downloading: 100%",
            "_model_name": "FloatProgressModel",
            "bar_style": "success",
            "max": 1355256,
            "_view_module": "@jupyter-widgets/controls",
            "_model_module_version": "1.5.0",
            "value": 1355256,
            "_view_count": null,
            "_view_module_version": "1.5.0",
            "orientation": "horizontal",
            "min": 0,
            "description_tooltip": null,
            "_model_module": "@jupyter-widgets/controls",
            "layout": "IPY_MODEL_3cda0577a1694d6ca41b4cbff6ee8ad1"
          }
        },
        "164883cd0f7241a6a79e923909c5b30e": {
          "model_module": "@jupyter-widgets/controls",
          "model_name": "HTMLModel",
          "state": {
            "_view_name": "HTMLView",
            "style": "IPY_MODEL_67dad8bd23c14fadbde5f494bcd62107",
            "_dom_classes": [],
            "description": "",
            "_model_name": "HTMLModel",
            "placeholder": "​",
            "_view_module": "@jupyter-widgets/controls",
            "_model_module_version": "1.5.0",
            "value": " 1.36M/1.36M [00:00&lt;00:00, 1.89MB/s]",
            "_view_count": null,
            "_view_module_version": "1.5.0",
            "description_tooltip": null,
            "_model_module": "@jupyter-widgets/controls",
            "layout": "IPY_MODEL_7e4319f95b9841ab8c7ff301068451b4"
          }
        },
        "97217dcfd3664155be2984c3f4deddf0": {
          "model_module": "@jupyter-widgets/controls",
          "model_name": "ProgressStyleModel",
          "state": {
            "_view_name": "StyleView",
            "_model_name": "ProgressStyleModel",
            "description_width": "initial",
            "_view_module": "@jupyter-widgets/base",
            "_model_module_version": "1.5.0",
            "_view_count": null,
            "_view_module_version": "1.2.0",
            "bar_color": null,
            "_model_module": "@jupyter-widgets/controls"
          }
        },
        "3cda0577a1694d6ca41b4cbff6ee8ad1": {
          "model_module": "@jupyter-widgets/base",
          "model_name": "LayoutModel",
          "state": {
            "_view_name": "LayoutView",
            "grid_template_rows": null,
            "right": null,
            "justify_content": null,
            "_view_module": "@jupyter-widgets/base",
            "overflow": null,
            "_model_module_version": "1.2.0",
            "_view_count": null,
            "flex_flow": null,
            "width": null,
            "min_width": null,
            "border": null,
            "align_items": null,
            "bottom": null,
            "_model_module": "@jupyter-widgets/base",
            "top": null,
            "grid_column": null,
            "overflow_y": null,
            "overflow_x": null,
            "grid_auto_flow": null,
            "grid_area": null,
            "grid_template_columns": null,
            "flex": null,
            "_model_name": "LayoutModel",
            "justify_items": null,
            "grid_row": null,
            "max_height": null,
            "align_content": null,
            "visibility": null,
            "align_self": null,
            "height": null,
            "min_height": null,
            "padding": null,
            "grid_auto_rows": null,
            "grid_gap": null,
            "max_width": null,
            "order": null,
            "_view_module_version": "1.2.0",
            "grid_template_areas": null,
            "object_position": null,
            "object_fit": null,
            "grid_auto_columns": null,
            "margin": null,
            "display": null,
            "left": null
          }
        },
        "67dad8bd23c14fadbde5f494bcd62107": {
          "model_module": "@jupyter-widgets/controls",
          "model_name": "DescriptionStyleModel",
          "state": {
            "_view_name": "StyleView",
            "_model_name": "DescriptionStyleModel",
            "description_width": "",
            "_view_module": "@jupyter-widgets/base",
            "_model_module_version": "1.5.0",
            "_view_count": null,
            "_view_module_version": "1.2.0",
            "_model_module": "@jupyter-widgets/controls"
          }
        },
        "7e4319f95b9841ab8c7ff301068451b4": {
          "model_module": "@jupyter-widgets/base",
          "model_name": "LayoutModel",
          "state": {
            "_view_name": "LayoutView",
            "grid_template_rows": null,
            "right": null,
            "justify_content": null,
            "_view_module": "@jupyter-widgets/base",
            "overflow": null,
            "_model_module_version": "1.2.0",
            "_view_count": null,
            "flex_flow": null,
            "width": null,
            "min_width": null,
            "border": null,
            "align_items": null,
            "bottom": null,
            "_model_module": "@jupyter-widgets/base",
            "top": null,
            "grid_column": null,
            "overflow_y": null,
            "overflow_x": null,
            "grid_auto_flow": null,
            "grid_area": null,
            "grid_template_columns": null,
            "flex": null,
            "_model_name": "LayoutModel",
            "justify_items": null,
            "grid_row": null,
            "max_height": null,
            "align_content": null,
            "visibility": null,
            "align_self": null,
            "height": null,
            "min_height": null,
            "padding": null,
            "grid_auto_rows": null,
            "grid_gap": null,
            "max_width": null,
            "order": null,
            "_view_module_version": "1.2.0",
            "grid_template_areas": null,
            "object_position": null,
            "object_fit": null,
            "grid_auto_columns": null,
            "margin": null,
            "display": null,
            "left": null
          }
        },
        "d22c06adb52c4fe484a8fa9cb87b78ca": {
          "model_module": "@jupyter-widgets/controls",
          "model_name": "HBoxModel",
          "state": {
            "_view_name": "HBoxView",
            "_dom_classes": [],
            "_model_name": "HBoxModel",
            "_view_module": "@jupyter-widgets/controls",
            "_model_module_version": "1.5.0",
            "_view_count": null,
            "_view_module_version": "1.5.0",
            "box_style": "",
            "layout": "IPY_MODEL_e74515abbf63458e8e6757e052c8d20a",
            "_model_module": "@jupyter-widgets/controls",
            "children": [
              "IPY_MODEL_0fa5590870e54bd78f0cd785bd4c77e3",
              "IPY_MODEL_78ccd135e5074682a928e7c705f57fd8"
            ]
          }
        },
        "e74515abbf63458e8e6757e052c8d20a": {
          "model_module": "@jupyter-widgets/base",
          "model_name": "LayoutModel",
          "state": {
            "_view_name": "LayoutView",
            "grid_template_rows": null,
            "right": null,
            "justify_content": null,
            "_view_module": "@jupyter-widgets/base",
            "overflow": null,
            "_model_module_version": "1.2.0",
            "_view_count": null,
            "flex_flow": null,
            "width": null,
            "min_width": null,
            "border": null,
            "align_items": null,
            "bottom": null,
            "_model_module": "@jupyter-widgets/base",
            "top": null,
            "grid_column": null,
            "overflow_y": null,
            "overflow_x": null,
            "grid_auto_flow": null,
            "grid_area": null,
            "grid_template_columns": null,
            "flex": null,
            "_model_name": "LayoutModel",
            "justify_items": null,
            "grid_row": null,
            "max_height": null,
            "align_content": null,
            "visibility": null,
            "align_self": null,
            "height": null,
            "min_height": null,
            "padding": null,
            "grid_auto_rows": null,
            "grid_gap": null,
            "max_width": null,
            "order": null,
            "_view_module_version": "1.2.0",
            "grid_template_areas": null,
            "object_position": null,
            "object_fit": null,
            "grid_auto_columns": null,
            "margin": null,
            "display": null,
            "left": null
          }
        },
        "0fa5590870e54bd78f0cd785bd4c77e3": {
          "model_module": "@jupyter-widgets/controls",
          "model_name": "FloatProgressModel",
          "state": {
            "_view_name": "ProgressView",
            "style": "IPY_MODEL_82f0d628cef04e95bccb771e8d11b270",
            "_dom_classes": [],
            "description": "Downloading: 100%",
            "_model_name": "FloatProgressModel",
            "bar_style": "success",
            "max": 665,
            "_view_module": "@jupyter-widgets/controls",
            "_model_module_version": "1.5.0",
            "value": 665,
            "_view_count": null,
            "_view_module_version": "1.5.0",
            "orientation": "horizontal",
            "min": 0,
            "description_tooltip": null,
            "_model_module": "@jupyter-widgets/controls",
            "layout": "IPY_MODEL_2aefe3a83f71485ca3b309ee27e23047"
          }
        },
        "78ccd135e5074682a928e7c705f57fd8": {
          "model_module": "@jupyter-widgets/controls",
          "model_name": "HTMLModel",
          "state": {
            "_view_name": "HTMLView",
            "style": "IPY_MODEL_6cb292435ff5461380a2e6435b98026c",
            "_dom_classes": [],
            "description": "",
            "_model_name": "HTMLModel",
            "placeholder": "​",
            "_view_module": "@jupyter-widgets/controls",
            "_model_module_version": "1.5.0",
            "value": " 665/665 [00:00&lt;00:00, 17.7kB/s]",
            "_view_count": null,
            "_view_module_version": "1.5.0",
            "description_tooltip": null,
            "_model_module": "@jupyter-widgets/controls",
            "layout": "IPY_MODEL_9a262161e4f446bc8a6fe15a8ef78c2b"
          }
        },
        "82f0d628cef04e95bccb771e8d11b270": {
          "model_module": "@jupyter-widgets/controls",
          "model_name": "ProgressStyleModel",
          "state": {
            "_view_name": "StyleView",
            "_model_name": "ProgressStyleModel",
            "description_width": "initial",
            "_view_module": "@jupyter-widgets/base",
            "_model_module_version": "1.5.0",
            "_view_count": null,
            "_view_module_version": "1.2.0",
            "bar_color": null,
            "_model_module": "@jupyter-widgets/controls"
          }
        },
        "2aefe3a83f71485ca3b309ee27e23047": {
          "model_module": "@jupyter-widgets/base",
          "model_name": "LayoutModel",
          "state": {
            "_view_name": "LayoutView",
            "grid_template_rows": null,
            "right": null,
            "justify_content": null,
            "_view_module": "@jupyter-widgets/base",
            "overflow": null,
            "_model_module_version": "1.2.0",
            "_view_count": null,
            "flex_flow": null,
            "width": null,
            "min_width": null,
            "border": null,
            "align_items": null,
            "bottom": null,
            "_model_module": "@jupyter-widgets/base",
            "top": null,
            "grid_column": null,
            "overflow_y": null,
            "overflow_x": null,
            "grid_auto_flow": null,
            "grid_area": null,
            "grid_template_columns": null,
            "flex": null,
            "_model_name": "LayoutModel",
            "justify_items": null,
            "grid_row": null,
            "max_height": null,
            "align_content": null,
            "visibility": null,
            "align_self": null,
            "height": null,
            "min_height": null,
            "padding": null,
            "grid_auto_rows": null,
            "grid_gap": null,
            "max_width": null,
            "order": null,
            "_view_module_version": "1.2.0",
            "grid_template_areas": null,
            "object_position": null,
            "object_fit": null,
            "grid_auto_columns": null,
            "margin": null,
            "display": null,
            "left": null
          }
        },
        "6cb292435ff5461380a2e6435b98026c": {
          "model_module": "@jupyter-widgets/controls",
          "model_name": "DescriptionStyleModel",
          "state": {
            "_view_name": "StyleView",
            "_model_name": "DescriptionStyleModel",
            "description_width": "",
            "_view_module": "@jupyter-widgets/base",
            "_model_module_version": "1.5.0",
            "_view_count": null,
            "_view_module_version": "1.2.0",
            "_model_module": "@jupyter-widgets/controls"
          }
        },
        "9a262161e4f446bc8a6fe15a8ef78c2b": {
          "model_module": "@jupyter-widgets/base",
          "model_name": "LayoutModel",
          "state": {
            "_view_name": "LayoutView",
            "grid_template_rows": null,
            "right": null,
            "justify_content": null,
            "_view_module": "@jupyter-widgets/base",
            "overflow": null,
            "_model_module_version": "1.2.0",
            "_view_count": null,
            "flex_flow": null,
            "width": null,
            "min_width": null,
            "border": null,
            "align_items": null,
            "bottom": null,
            "_model_module": "@jupyter-widgets/base",
            "top": null,
            "grid_column": null,
            "overflow_y": null,
            "overflow_x": null,
            "grid_auto_flow": null,
            "grid_area": null,
            "grid_template_columns": null,
            "flex": null,
            "_model_name": "LayoutModel",
            "justify_items": null,
            "grid_row": null,
            "max_height": null,
            "align_content": null,
            "visibility": null,
            "align_self": null,
            "height": null,
            "min_height": null,
            "padding": null,
            "grid_auto_rows": null,
            "grid_gap": null,
            "max_width": null,
            "order": null,
            "_view_module_version": "1.2.0",
            "grid_template_areas": null,
            "object_position": null,
            "object_fit": null,
            "grid_auto_columns": null,
            "margin": null,
            "display": null,
            "left": null
          }
        },
        "9fe0becb2dcc4ebb820c0668eebda8c0": {
          "model_module": "@jupyter-widgets/controls",
          "model_name": "HBoxModel",
          "state": {
            "_view_name": "HBoxView",
            "_dom_classes": [],
            "_model_name": "HBoxModel",
            "_view_module": "@jupyter-widgets/controls",
            "_model_module_version": "1.5.0",
            "_view_count": null,
            "_view_module_version": "1.5.0",
            "box_style": "",
            "layout": "IPY_MODEL_376a4854f21d48feb61f6cf5ad7b91d4",
            "_model_module": "@jupyter-widgets/controls",
            "children": [
              "IPY_MODEL_17de0f4814a04b57885f9c40e6697beb",
              "IPY_MODEL_47412c1631974a2a808233cb3eac20bd"
            ]
          }
        },
        "376a4854f21d48feb61f6cf5ad7b91d4": {
          "model_module": "@jupyter-widgets/base",
          "model_name": "LayoutModel",
          "state": {
            "_view_name": "LayoutView",
            "grid_template_rows": null,
            "right": null,
            "justify_content": null,
            "_view_module": "@jupyter-widgets/base",
            "overflow": null,
            "_model_module_version": "1.2.0",
            "_view_count": null,
            "flex_flow": null,
            "width": null,
            "min_width": null,
            "border": null,
            "align_items": null,
            "bottom": null,
            "_model_module": "@jupyter-widgets/base",
            "top": null,
            "grid_column": null,
            "overflow_y": null,
            "overflow_x": null,
            "grid_auto_flow": null,
            "grid_area": null,
            "grid_template_columns": null,
            "flex": null,
            "_model_name": "LayoutModel",
            "justify_items": null,
            "grid_row": null,
            "max_height": null,
            "align_content": null,
            "visibility": null,
            "align_self": null,
            "height": null,
            "min_height": null,
            "padding": null,
            "grid_auto_rows": null,
            "grid_gap": null,
            "max_width": null,
            "order": null,
            "_view_module_version": "1.2.0",
            "grid_template_areas": null,
            "object_position": null,
            "object_fit": null,
            "grid_auto_columns": null,
            "margin": null,
            "display": null,
            "left": null
          }
        },
        "17de0f4814a04b57885f9c40e6697beb": {
          "model_module": "@jupyter-widgets/controls",
          "model_name": "FloatProgressModel",
          "state": {
            "_view_name": "ProgressView",
            "style": "IPY_MODEL_c779dc2dcebd4d0b9ccbeca1aadcfd8a",
            "_dom_classes": [],
            "description": "Downloading: 100%",
            "_model_name": "FloatProgressModel",
            "bar_style": "success",
            "max": 548118077,
            "_view_module": "@jupyter-widgets/controls",
            "_model_module_version": "1.5.0",
            "value": 548118077,
            "_view_count": null,
            "_view_module_version": "1.5.0",
            "orientation": "horizontal",
            "min": 0,
            "description_tooltip": null,
            "_model_module": "@jupyter-widgets/controls",
            "layout": "IPY_MODEL_18e8420c17a6407c9875f5d0fc3ff7c4"
          }
        },
        "47412c1631974a2a808233cb3eac20bd": {
          "model_module": "@jupyter-widgets/controls",
          "model_name": "HTMLModel",
          "state": {
            "_view_name": "HTMLView",
            "style": "IPY_MODEL_1398d39efcc24c26b27e4406fc142667",
            "_dom_classes": [],
            "description": "",
            "_model_name": "HTMLModel",
            "placeholder": "​",
            "_view_module": "@jupyter-widgets/controls",
            "_model_module_version": "1.5.0",
            "value": " 548M/548M [00:37&lt;00:00, 14.8MB/s]",
            "_view_count": null,
            "_view_module_version": "1.5.0",
            "description_tooltip": null,
            "_model_module": "@jupyter-widgets/controls",
            "layout": "IPY_MODEL_7c3887896503487f9cec35a23aec2478"
          }
        },
        "c779dc2dcebd4d0b9ccbeca1aadcfd8a": {
          "model_module": "@jupyter-widgets/controls",
          "model_name": "ProgressStyleModel",
          "state": {
            "_view_name": "StyleView",
            "_model_name": "ProgressStyleModel",
            "description_width": "initial",
            "_view_module": "@jupyter-widgets/base",
            "_model_module_version": "1.5.0",
            "_view_count": null,
            "_view_module_version": "1.2.0",
            "bar_color": null,
            "_model_module": "@jupyter-widgets/controls"
          }
        },
        "18e8420c17a6407c9875f5d0fc3ff7c4": {
          "model_module": "@jupyter-widgets/base",
          "model_name": "LayoutModel",
          "state": {
            "_view_name": "LayoutView",
            "grid_template_rows": null,
            "right": null,
            "justify_content": null,
            "_view_module": "@jupyter-widgets/base",
            "overflow": null,
            "_model_module_version": "1.2.0",
            "_view_count": null,
            "flex_flow": null,
            "width": null,
            "min_width": null,
            "border": null,
            "align_items": null,
            "bottom": null,
            "_model_module": "@jupyter-widgets/base",
            "top": null,
            "grid_column": null,
            "overflow_y": null,
            "overflow_x": null,
            "grid_auto_flow": null,
            "grid_area": null,
            "grid_template_columns": null,
            "flex": null,
            "_model_name": "LayoutModel",
            "justify_items": null,
            "grid_row": null,
            "max_height": null,
            "align_content": null,
            "visibility": null,
            "align_self": null,
            "height": null,
            "min_height": null,
            "padding": null,
            "grid_auto_rows": null,
            "grid_gap": null,
            "max_width": null,
            "order": null,
            "_view_module_version": "1.2.0",
            "grid_template_areas": null,
            "object_position": null,
            "object_fit": null,
            "grid_auto_columns": null,
            "margin": null,
            "display": null,
            "left": null
          }
        },
        "1398d39efcc24c26b27e4406fc142667": {
          "model_module": "@jupyter-widgets/controls",
          "model_name": "DescriptionStyleModel",
          "state": {
            "_view_name": "StyleView",
            "_model_name": "DescriptionStyleModel",
            "description_width": "",
            "_view_module": "@jupyter-widgets/base",
            "_model_module_version": "1.5.0",
            "_view_count": null,
            "_view_module_version": "1.2.0",
            "_model_module": "@jupyter-widgets/controls"
          }
        },
        "7c3887896503487f9cec35a23aec2478": {
          "model_module": "@jupyter-widgets/base",
          "model_name": "LayoutModel",
          "state": {
            "_view_name": "LayoutView",
            "grid_template_rows": null,
            "right": null,
            "justify_content": null,
            "_view_module": "@jupyter-widgets/base",
            "overflow": null,
            "_model_module_version": "1.2.0",
            "_view_count": null,
            "flex_flow": null,
            "width": null,
            "min_width": null,
            "border": null,
            "align_items": null,
            "bottom": null,
            "_model_module": "@jupyter-widgets/base",
            "top": null,
            "grid_column": null,
            "overflow_y": null,
            "overflow_x": null,
            "grid_auto_flow": null,
            "grid_area": null,
            "grid_template_columns": null,
            "flex": null,
            "_model_name": "LayoutModel",
            "justify_items": null,
            "grid_row": null,
            "max_height": null,
            "align_content": null,
            "visibility": null,
            "align_self": null,
            "height": null,
            "min_height": null,
            "padding": null,
            "grid_auto_rows": null,
            "grid_gap": null,
            "max_width": null,
            "order": null,
            "_view_module_version": "1.2.0",
            "grid_template_areas": null,
            "object_position": null,
            "object_fit": null,
            "grid_auto_columns": null,
            "margin": null,
            "display": null,
            "left": null
          }
        }
      }
    }
  },
  "cells": [
    {
      "cell_type": "code",
      "metadata": {
        "colab": {
          "base_uri": "https://localhost:8080/"
        },
        "id": "neYBE5QkknEQ",
        "outputId": "8f0097fe-50f5-4f73-d4b2-767953292f54"
      },
      "source": [
        "from google.colab import drive\n",
        "drive.mount('/content/drive')\n",
        "home_directory = '/content/drive/MyDrive/Aps360 Project/Datasets/'\n",
        "model_name = 'model_article_summaries'\n"
      ],
      "execution_count": 1,
      "outputs": [
        {
          "output_type": "stream",
          "text": [
            "Mounted at /content/drive\n"
          ],
          "name": "stdout"
        }
      ]
    },
    {
      "cell_type": "code",
      "metadata": {
        "colab": {
          "base_uri": "https://localhost:8080/"
        },
        "id": "nKB4JZOGmygE",
        "outputId": "63c194c6-64ae-4822-a3f7-42ea54f69583"
      },
      "source": [
        "!pip install transformers"
      ],
      "execution_count": 2,
      "outputs": [
        {
          "output_type": "stream",
          "text": [
            "Collecting transformers\n",
            "  Downloading transformers-4.9.0-py3-none-any.whl (2.6 MB)\n",
            "\u001b[K     |████████████████████████████████| 2.6 MB 5.2 MB/s \n",
            "\u001b[?25hRequirement already satisfied: requests in /usr/local/lib/python3.7/dist-packages (from transformers) (2.23.0)\n",
            "Requirement already satisfied: filelock in /usr/local/lib/python3.7/dist-packages (from transformers) (3.0.12)\n",
            "Requirement already satisfied: numpy>=1.17 in /usr/local/lib/python3.7/dist-packages (from transformers) (1.19.5)\n",
            "Requirement already satisfied: regex!=2019.12.17 in /usr/local/lib/python3.7/dist-packages (from transformers) (2019.12.20)\n",
            "Collecting tokenizers<0.11,>=0.10.1\n",
            "  Downloading tokenizers-0.10.3-cp37-cp37m-manylinux_2_5_x86_64.manylinux1_x86_64.manylinux_2_12_x86_64.manylinux2010_x86_64.whl (3.3 MB)\n",
            "\u001b[K     |████████████████████████████████| 3.3 MB 69.4 MB/s \n",
            "\u001b[?25hRequirement already satisfied: importlib-metadata in /usr/local/lib/python3.7/dist-packages (from transformers) (4.6.1)\n",
            "Collecting huggingface-hub==0.0.12\n",
            "  Downloading huggingface_hub-0.0.12-py3-none-any.whl (37 kB)\n",
            "Requirement already satisfied: tqdm>=4.27 in /usr/local/lib/python3.7/dist-packages (from transformers) (4.41.1)\n",
            "Requirement already satisfied: packaging in /usr/local/lib/python3.7/dist-packages (from transformers) (21.0)\n",
            "Collecting sacremoses\n",
            "  Downloading sacremoses-0.0.45-py3-none-any.whl (895 kB)\n",
            "\u001b[K     |████████████████████████████████| 895 kB 81.6 MB/s \n",
            "\u001b[?25hCollecting pyyaml>=5.1\n",
            "  Downloading PyYAML-5.4.1-cp37-cp37m-manylinux1_x86_64.whl (636 kB)\n",
            "\u001b[K     |████████████████████████████████| 636 kB 88.4 MB/s \n",
            "\u001b[?25hRequirement already satisfied: typing-extensions in /usr/local/lib/python3.7/dist-packages (from huggingface-hub==0.0.12->transformers) (3.7.4.3)\n",
            "Requirement already satisfied: pyparsing>=2.0.2 in /usr/local/lib/python3.7/dist-packages (from packaging->transformers) (2.4.7)\n",
            "Requirement already satisfied: zipp>=0.5 in /usr/local/lib/python3.7/dist-packages (from importlib-metadata->transformers) (3.5.0)\n",
            "Requirement already satisfied: certifi>=2017.4.17 in /usr/local/lib/python3.7/dist-packages (from requests->transformers) (2021.5.30)\n",
            "Requirement already satisfied: idna<3,>=2.5 in /usr/local/lib/python3.7/dist-packages (from requests->transformers) (2.10)\n",
            "Requirement already satisfied: chardet<4,>=3.0.2 in /usr/local/lib/python3.7/dist-packages (from requests->transformers) (3.0.4)\n",
            "Requirement already satisfied: urllib3!=1.25.0,!=1.25.1,<1.26,>=1.21.1 in /usr/local/lib/python3.7/dist-packages (from requests->transformers) (1.24.3)\n",
            "Requirement already satisfied: joblib in /usr/local/lib/python3.7/dist-packages (from sacremoses->transformers) (1.0.1)\n",
            "Requirement already satisfied: click in /usr/local/lib/python3.7/dist-packages (from sacremoses->transformers) (7.1.2)\n",
            "Requirement already satisfied: six in /usr/local/lib/python3.7/dist-packages (from sacremoses->transformers) (1.15.0)\n",
            "Installing collected packages: tokenizers, sacremoses, pyyaml, huggingface-hub, transformers\n",
            "  Attempting uninstall: pyyaml\n",
            "    Found existing installation: PyYAML 3.13\n",
            "    Uninstalling PyYAML-3.13:\n",
            "      Successfully uninstalled PyYAML-3.13\n",
            "Successfully installed huggingface-hub-0.0.12 pyyaml-5.4.1 sacremoses-0.0.45 tokenizers-0.10.3 transformers-4.9.0\n"
          ],
          "name": "stdout"
        }
      ]
    },
    {
      "cell_type": "code",
      "metadata": {
        "id": "ctmbSXE2m136"
      },
      "source": [
        "import numpy as np\n",
        "import pandas as pd \n",
        "\n",
        "import random\n",
        "import time\n",
        "import datetime\n",
        "import gc\n",
        "\n",
        "import torch\n",
        "from transformers import GPT2Tokenizer, GPT2LMHeadModel, GPT2Config, AdamW, get_linear_schedule_with_warmup\n",
        "from torch.utils.data import Dataset, random_split, DataLoader, RandomSampler, SequentialSampler, Subset"
      ],
      "execution_count": 3,
      "outputs": []
    },
    {
      "cell_type": "code",
      "metadata": {
        "id": "f6w9v0TmnJzI",
        "colab": {
          "base_uri": "https://localhost:8080/",
          "height": 213,
          "referenced_widgets": [
            "6bfc754898354720a1b6591343d385f2",
            "54cd0e1691684a8eabacda958d555019",
            "f8fcb2476dce4409a5ae5c48874461cf",
            "bd02bbfdb90a4effaba5ee45d839eb96",
            "30de033ebd894aff8dac39261c468023",
            "1275f10241d94d4fa493b38914db3db2",
            "b6ce60d315b24fe9be9b175219c6a985",
            "b80f1be79ee34c94bd30b5f2142809e6",
            "e87f5544d1084b12a2f182029faad42c",
            "65572c0c96fe47f4877859f8addcebe1",
            "297abe91b9bd47e1be3f7aca86f8ca7a",
            "9ed0ada2916f45498e43a99cde7f5101",
            "93502e36c7de4fe6ad2cf6fb206449fb",
            "46686f1bc90347f5a8454729dfcd0516",
            "02aa903b988c4585bbcffbc3464d1bac",
            "693209ee7df944d5925e671d0288330b",
            "2aa5287707a842b0a0f74eed2539036f",
            "d910db845d1a49a9960e92794ee563c6",
            "aa95c237632c438aafb0029587c361c5",
            "164883cd0f7241a6a79e923909c5b30e",
            "97217dcfd3664155be2984c3f4deddf0",
            "3cda0577a1694d6ca41b4cbff6ee8ad1",
            "67dad8bd23c14fadbde5f494bcd62107",
            "7e4319f95b9841ab8c7ff301068451b4",
            "d22c06adb52c4fe484a8fa9cb87b78ca",
            "e74515abbf63458e8e6757e052c8d20a",
            "0fa5590870e54bd78f0cd785bd4c77e3",
            "78ccd135e5074682a928e7c705f57fd8",
            "82f0d628cef04e95bccb771e8d11b270",
            "2aefe3a83f71485ca3b309ee27e23047",
            "6cb292435ff5461380a2e6435b98026c",
            "9a262161e4f446bc8a6fe15a8ef78c2b"
          ]
        },
        "outputId": "31a30d48-cc15-4c5f-d202-57f9f7c03ec5"
      },
      "source": [
        "tokenizer = GPT2Tokenizer.from_pretrained('gpt2')\n",
        "\n",
        "special_tokens_dict = {'bos_token': '<BOS>', 'sep_token':'<SEP>', 'eos_token': '<EOS>', 'pad_token': '<PAD>'}\n",
        "num_added_tokens = tokenizer.add_special_tokens(special_tokens_dict)"
      ],
      "execution_count": 4,
      "outputs": [
        {
          "output_type": "display_data",
          "data": {
            "application/vnd.jupyter.widget-view+json": {
              "model_id": "6bfc754898354720a1b6591343d385f2",
              "version_minor": 0,
              "version_major": 2
            },
            "text/plain": [
              "HBox(children=(FloatProgress(value=0.0, description='Downloading', max=1042301.0, style=ProgressStyle(descript…"
            ]
          },
          "metadata": {
            "tags": []
          }
        },
        {
          "output_type": "stream",
          "text": [
            "\n"
          ],
          "name": "stdout"
        },
        {
          "output_type": "display_data",
          "data": {
            "application/vnd.jupyter.widget-view+json": {
              "model_id": "e87f5544d1084b12a2f182029faad42c",
              "version_minor": 0,
              "version_major": 2
            },
            "text/plain": [
              "HBox(children=(FloatProgress(value=0.0, description='Downloading', max=456318.0, style=ProgressStyle(descripti…"
            ]
          },
          "metadata": {
            "tags": []
          }
        },
        {
          "output_type": "stream",
          "text": [
            "\n"
          ],
          "name": "stdout"
        },
        {
          "output_type": "display_data",
          "data": {
            "application/vnd.jupyter.widget-view+json": {
              "model_id": "2aa5287707a842b0a0f74eed2539036f",
              "version_minor": 0,
              "version_major": 2
            },
            "text/plain": [
              "HBox(children=(FloatProgress(value=0.0, description='Downloading', max=1355256.0, style=ProgressStyle(descript…"
            ]
          },
          "metadata": {
            "tags": []
          }
        },
        {
          "output_type": "stream",
          "text": [
            "\n"
          ],
          "name": "stdout"
        },
        {
          "output_type": "display_data",
          "data": {
            "application/vnd.jupyter.widget-view+json": {
              "model_id": "d22c06adb52c4fe484a8fa9cb87b78ca",
              "version_minor": 0,
              "version_major": 2
            },
            "text/plain": [
              "HBox(children=(FloatProgress(value=0.0, description='Downloading', max=665.0, style=ProgressStyle(description_…"
            ]
          },
          "metadata": {
            "tags": []
          }
        },
        {
          "output_type": "stream",
          "text": [
            "\n"
          ],
          "name": "stdout"
        }
      ]
    },
    {
      "cell_type": "code",
      "metadata": {
        "id": "lqpZX4K92GH5"
      },
      "source": [
        "RANDOM_SEED = 73\n",
        "BATCH_SIZE = 20\n",
        "EPOCHS = 5\n",
        "MAX_LEN = 200"
      ],
      "execution_count": 5,
      "outputs": []
    },
    {
      "cell_type": "code",
      "metadata": {
        "id": "tpb3uYlYWxD2"
      },
      "source": [
        "class PoemWithSummaryDataset(Dataset):\n",
        "    \n",
        "    def __init__(self, input, target, tokenizer, gpt2_type='gpt2', max_length=MAX_LEN):\n",
        "        self.tokenizer = tokenizer\n",
        "        self.data = []\n",
        "        self.attn_masks = []\n",
        "        \n",
        "        for i in range(len(input)):\n",
        "          \n",
        "          encodings_dict = tokenizer(input[i] + '<SEP>' + target[i],\n",
        "                                    truncation=True,\n",
        "                                    max_length=max_length,\n",
        "                                    padding='max_length'\n",
        "                                  )\n",
        "          \"\"\"\n",
        "          #for checking how long the inputs are in terms of tokens to determine the max_length\n",
        "          encodings_dict_input = tokenizer('<BOS>' + input[i] + '<EOS>')\n",
        "          encodings_dict_target = tokenizer('<BOS>' + target[i] + '<EOS>')\n",
        "          \"\"\"\n",
        "          self.data.append(torch.tensor(encodings_dict['input_ids']))\n",
        "          self.attn_masks.append(torch.tensor(encodings_dict['attention_mask']))\n",
        "\n",
        "    def __len__(self):\n",
        "        \n",
        "        return len(self.data)\n",
        "    \n",
        "    def __getitem__(self, idx):\n",
        "        \n",
        "        return self.data[idx], self.attn_masks[idx]\n",
        "        "
      ],
      "execution_count": 6,
      "outputs": []
    },
    {
      "cell_type": "code",
      "metadata": {
        "id": "6a433iTh65iE"
      },
      "source": [
        "#Helper functions\n",
        "def get_train_val_size(split, dataset):\n",
        "    train_size = int(split * len(dataset))\n",
        "    val_size = len(dataset) - train_size\n",
        "    return train_size, val_size\n",
        "def format_time(elapsed):\n",
        "    return str(datetime.timedelta(seconds=int(round((elapsed)))))"
      ],
      "execution_count": 7,
      "outputs": []
    },
    {
      "cell_type": "code",
      "metadata": {
        "id": "pn8MewR7Z5mF"
      },
      "source": [
        "def train(poem_model,learning_rate=1e-4,eps=1e-8,warmup_steps=50,starting_epoch=0):\n",
        "  optimizer = AdamW(poem_model.parameters(), lr=learning_rate, eps=eps)\n",
        "  total_steps = len(poem_train_dataloader) * EPOCHS\n",
        "  scheduler = get_linear_schedule_with_warmup(optimizer,\n",
        "                                              num_warmup_steps=warmup_steps,\n",
        "                                              num_training_steps=total_steps)\n",
        "  start_time = time.time()\n",
        "  train_loss = []\n",
        "  val_loss = []\n",
        "  for epoch_i in range(starting_epoch, EPOCHS):\n",
        "      print(f'Epoch {epoch_i + 1} of {EPOCHS}')\n",
        "      t0 = time.time()\n",
        "\n",
        "      #Train the model\n",
        "      total_train_loss = 0\n",
        "      poem_model.train()\n",
        "      for step, batch in enumerate(poem_train_dataloader):\n",
        "\n",
        "          #Note that the labels are the same as the input. This is because the \n",
        "          #GPT2LMHeadModel That we are using shifts the labels by 1 meaning that \n",
        "          #the label for each input token is the next input token. This is desired \n",
        "          #when building a language model because we want the predicted output to\n",
        "          #be the next most likely word in the sentence. \n",
        "          b_input_ids = batch[0].to(device)\n",
        "          b_masks = batch[1].to(device)\n",
        "\n",
        "          poem_model.zero_grad()        \n",
        "          outputs = poem_model(b_input_ids,\n",
        "                                      labels=b_input_ids,\n",
        "                                      attention_mask=b_masks,\n",
        "                                      token_type_ids=None)\n",
        "          loss = outputs[0]  \n",
        "          batch_loss = loss.item()\n",
        "          total_train_loss += batch_loss\n",
        "\n",
        "          loss.backward()\n",
        "          optimizer.step()\n",
        "          scheduler.step()\n",
        "\n",
        "      avg_train_loss = total_train_loss / len(poem_train_dataloader)       \n",
        "      training_time = format_time(time.time() - t0)\n",
        "      print(f'Average Training Loss: {avg_train_loss}. Epoch Training Time: {training_time}')\n",
        "      \n",
        "      t0 = time.time()\n",
        "\n",
        "      #Evaluate the model\n",
        "      poem_model.eval()\n",
        "      total_eval_loss = 0\n",
        "      nb_eval_steps = 0\n",
        "      for batch in poem_val_dataloader:\n",
        "          b_input_ids = batch[0].to(device)\n",
        "          b_masks = batch[1].to(device)\n",
        "\n",
        "          with torch.no_grad():        \n",
        "              outputs  = poem_model(b_input_ids,\n",
        "                                          attention_mask=b_masks,\n",
        "                                          labels=b_input_ids)\n",
        "              loss = outputs[0]  \n",
        "\n",
        "          batch_loss = loss.item()\n",
        "          total_eval_loss += batch_loss        \n",
        "\n",
        "      avg_val_loss = total_eval_loss / len(poem_val_dataloader)\n",
        "\n",
        "      train_loss.append(avg_train_loss)\n",
        "      val_loss.append(avg_val_loss)\n",
        "      torch.save(poem_model.state_dict(), \"{}/{}\".format(\n",
        "              home_directory,model_name))\n",
        "      print(f'Average Validation Loss: {avg_val_loss}')\n",
        "\n",
        "  np.savetxt(\"{}/{}_train_loss.csv\".format(home_directory, model_name), train_loss)\n",
        "  np.savetxt(\"{}/{}_val_loss.csv\".format(home_directory, model_name), val_loss)\n",
        "  print(f'Total Training Time: {format_time(time.time()-start_time)}')\n"
      ],
      "execution_count": 8,
      "outputs": []
    },
    {
      "cell_type": "markdown",
      "metadata": {
        "id": "glXP8HYKFdte"
      },
      "source": [
        "##Loading the data"
      ]
    },
    {
      "cell_type": "code",
      "metadata": {
        "id": "54Napcvu7LMa"
      },
      "source": [
        "#Load them poems we want to train our model with\n",
        "#poem_df = pd.read_csv(home_directory + 'poe_poems_with_summary_and_title.csv')\n",
        "poem_df = pd.read_csv(home_directory + 'InshortsCleanedData.csv')\n",
        "\n",
        "#inputs = poem_df['Summary']\n",
        "#targets = poem_df['Poem']\n",
        "inputs = poem_df['Headline']\n",
        "targets = poem_df['Short']\n",
        "\n",
        "inputs = inputs.values#[0:1000]\n",
        "targets = targets.values#[0:1000]\n",
        "\n",
        "\n",
        "#Load the GPT2 tokenizer that will be used by PoemDataset to encode the poems. Add the \n",
        "#BOS,EOS and PAD tokens to the tokenized dictionary so that when we put these \n",
        "#Tokens around our poems to separate them, the tokenizer will know what to do with them.\n",
        "tokenizer = GPT2Tokenizer.from_pretrained('gpt2')\n",
        "special_tokens_dict = {'bos_token': '<BOS>', 'eos_token': '<EOS>', 'sep_token':'<SEP>', 'pad_token': '<PAD>'}\n",
        "tokenizer.add_special_tokens(special_tokens_dict)\n",
        "\n",
        "#create an object of the PoemWithSummaryDataset class\n",
        "#that will hold an ordered list of the tokenized version of each poem and its summary\n",
        "poem_dataset = PoemWithSummaryDataset(inputs, targets, tokenizer)\n",
        "\n"
      ],
      "execution_count": 9,
      "outputs": []
    },
    {
      "cell_type": "code",
      "metadata": {
        "id": "vXkxGyuYq53L"
      },
      "source": [
        "#Split the poem dataset into a training set and a validation set.\n",
        "poem_train_size, poem_val_size = get_train_val_size(split=0.8, dataset=poem_dataset)\n",
        "\n",
        "#FOR TESTING\n",
        "\"\"\"\n",
        "poem_train_size = 800\n",
        "poem_val_size = 200\n",
        "poem_train_dataset = Subset(poem_dataset,range(0,800))\n",
        "poem_val_dataset = Subset(poem_dataset,range(800,1000))\n",
        "\"\"\"\n",
        "poem_train_dataset, poem_val_dataset = random_split(poem_dataset, [poem_train_size, poem_val_size])\n",
        "poem_train_dataloader = DataLoader(poem_train_dataset,\n",
        "                              sampler=RandomSampler(poem_train_dataset),\n",
        "                              batch_size=BATCH_SIZE)\n",
        "poem_val_dataloader = DataLoader(poem_val_dataset,\n",
        "                            sampler=SequentialSampler(poem_val_dataset),\n",
        "                            batch_size=BATCH_SIZE)"
      ],
      "execution_count": 10,
      "outputs": []
    },
    {
      "cell_type": "code",
      "metadata": {
        "colab": {
          "base_uri": "https://localhost:8080/",
          "height": 52
        },
        "id": "T6kHwY45iZko",
        "outputId": "a7732a2e-b635-40b9-85b0-fa145235a840"
      },
      "source": [
        "\"\"\"\n",
        "#checking how large the encodings should be\n",
        "num_over = 0\n",
        "total = len(poem_dataset.targets)\n",
        "for target in poem_dataset.targets:\n",
        "  if len(target) > 150:\n",
        "    num_over+=1\n",
        "print(num_over)\n",
        "print(total)\n",
        "\"\"\""
      ],
      "execution_count": 11,
      "outputs": [
        {
          "output_type": "execute_result",
          "data": {
            "application/vnd.google.colaboratory.intrinsic+json": {
              "type": "string"
            },
            "text/plain": [
              "'\\n#checking how large the encodings should be\\nnum_over = 0\\ntotal = len(poem_dataset.targets)\\nfor target in poem_dataset.targets:\\n  if len(target) > 150:\\n    num_over+=1\\nprint(num_over)\\nprint(total)\\n'"
            ]
          },
          "metadata": {
            "tags": []
          },
          "execution_count": 11
        }
      ]
    },
    {
      "cell_type": "markdown",
      "metadata": {
        "id": "WgE2SugSFixX"
      },
      "source": [
        "##Setup the model"
      ]
    },
    {
      "cell_type": "code",
      "metadata": {
        "id": "bH6kHnm3Lv44",
        "colab": {
          "base_uri": "https://localhost:8080/",
          "height": 66,
          "referenced_widgets": [
            "9fe0becb2dcc4ebb820c0668eebda8c0",
            "376a4854f21d48feb61f6cf5ad7b91d4",
            "17de0f4814a04b57885f9c40e6697beb",
            "47412c1631974a2a808233cb3eac20bd",
            "c779dc2dcebd4d0b9ccbeca1aadcfd8a",
            "18e8420c17a6407c9875f5d0fc3ff7c4",
            "1398d39efcc24c26b27e4406fc142667",
            "7c3887896503487f9cec35a23aec2478"
          ]
        },
        "outputId": "4997a132-5440-4d6d-a625-359d4dd74cf1"
      },
      "source": [
        "torch.cuda.manual_seed_all(RANDOM_SEED)\n",
        "random.seed(RANDOM_SEED)\n",
        "np.random.seed(RANDOM_SEED)\n",
        "torch.manual_seed(RANDOM_SEED)\n",
        "device = torch.device('cuda')\n",
        "\n",
        "gc.collect()\n",
        "torch.cuda.empty_cache() \n",
        "\n",
        "#If you are only evaluating the model and don't want to train it again,\n",
        "#set training_desired to false. Otherwise set it to true and choose the \n",
        "#epoch you left off at last time to start Training from (0 if you haven't).\n",
        "load_previous_state_dict = True\n",
        "previous_state_dict_location = \"model_article_summaries\"#\"model_summary_poe_epoch_7\"\n",
        "\n",
        "\n",
        "#Setup the pretrained GPT2 model\n",
        "configuration = GPT2Config(vocab_size=len(tokenizer), n_positions=MAX_LEN).from_pretrained('gpt2', output_hidden_states=True)\n",
        "poem_model = GPT2LMHeadModel.from_pretrained('gpt2', config=configuration)\n",
        "poem_model.resize_token_embeddings(len(tokenizer))\n",
        "\n",
        "if load_previous_state_dict:\n",
        "  poem_model.load_state_dict(torch.load(\"{}/{}\".format(home_directory,previous_state_dict_location)))\n",
        "\n",
        "poem_model.cuda()\n",
        "poem_model = poem_model.to(device)"
      ],
      "execution_count": 12,
      "outputs": [
        {
          "output_type": "display_data",
          "data": {
            "application/vnd.jupyter.widget-view+json": {
              "model_id": "9fe0becb2dcc4ebb820c0668eebda8c0",
              "version_minor": 0,
              "version_major": 2
            },
            "text/plain": [
              "HBox(children=(FloatProgress(value=0.0, description='Downloading', max=548118077.0, style=ProgressStyle(descri…"
            ]
          },
          "metadata": {
            "tags": []
          }
        },
        {
          "output_type": "stream",
          "text": [
            "\n"
          ],
          "name": "stdout"
        }
      ]
    },
    {
      "cell_type": "markdown",
      "metadata": {
        "id": "eS7nXGLPGin2"
      },
      "source": [
        "##Train the model if desired"
      ]
    },
    {
      "cell_type": "code",
      "metadata": {
        "colab": {
          "base_uri": "https://localhost:8080/"
        },
        "id": "qJhHeyz4b_6e",
        "outputId": "26df95ea-76a2-4fdf-d4a6-f4cdb485f74f"
      },
      "source": [
        "!nvidia-smi"
      ],
      "execution_count": 13,
      "outputs": [
        {
          "output_type": "stream",
          "text": [
            "Sat Jul 24 17:10:40 2021       \n",
            "+-----------------------------------------------------------------------------+\n",
            "| NVIDIA-SMI 470.42.01    Driver Version: 460.32.03    CUDA Version: 11.2     |\n",
            "|-------------------------------+----------------------+----------------------+\n",
            "| GPU  Name        Persistence-M| Bus-Id        Disp.A | Volatile Uncorr. ECC |\n",
            "| Fan  Temp  Perf  Pwr:Usage/Cap|         Memory-Usage | GPU-Util  Compute M. |\n",
            "|                               |                      |               MIG M. |\n",
            "|===============================+======================+======================|\n",
            "|   0  Tesla P100-PCIE...  Off  | 00000000:00:04.0 Off |                    0 |\n",
            "| N/A   35C    P0    32W / 250W |   1451MiB / 16280MiB |     20%      Default |\n",
            "|                               |                      |                  N/A |\n",
            "+-------------------------------+----------------------+----------------------+\n",
            "                                                                               \n",
            "+-----------------------------------------------------------------------------+\n",
            "| Processes:                                                                  |\n",
            "|  GPU   GI   CI        PID   Type   Process name                  GPU Memory |\n",
            "|        ID   ID                                                   Usage      |\n",
            "|=============================================================================|\n",
            "|  No running processes found                                                 |\n",
            "+-----------------------------------------------------------------------------+\n"
          ],
          "name": "stdout"
        }
      ]
    },
    {
      "cell_type": "code",
      "metadata": {
        "id": "iMVMqbBfGlij"
      },
      "source": [
        "training_desired = False\n",
        "\n",
        "#If training_desired is set to true, choose the epoch you left off at last time\n",
        "#to continue training from there (put it as 0 if you haven't yet)\n",
        "starting_epoch = 0\n",
        "\n",
        "# hyperparameters\n",
        "learning_rate = 1e-4\n",
        "eps = 1e-8\n",
        "warmup_steps = 50\n",
        "if training_desired:\n",
        "  train(poem_model,learning_rate,eps,warmup_steps,starting_epoch)\n"
      ],
      "execution_count": 14,
      "outputs": []
    },
    {
      "cell_type": "markdown",
      "metadata": {
        "id": "Yq9wXu8xHp0l"
      },
      "source": [
        "##Use the model to generate poems"
      ]
    },
    {
      "cell_type": "code",
      "metadata": {
        "id": "P3wnIMn9HpFF"
      },
      "source": [
        "# create text generation seed prompt\n",
        "prompts = [\"Supreme Court to go paperless in 6 months: CJI<SEP>\", \n",
        "           \"Governer demands for more vaccines<SEP>\",\n",
        "           \"Scientists say chocolate is good for you<SEP>\",\n",
        "           \"Aus Open: Serena, Sharapova progress to round 3\"]\n"
      ],
      "execution_count": 15,
      "outputs": []
    },
    {
      "cell_type": "code",
      "metadata": {
        "id": "HjrJKVfNHvbg",
        "colab": {
          "base_uri": "https://localhost:8080/"
        },
        "outputId": "dfd31e58-c587-4b96-d908-08f9fbc1e74c"
      },
      "source": [
        "poem_model.eval()\n",
        "           \n",
        "for prompt in prompts:\n",
        "  encoded = torch.tensor(tokenizer.encode(prompt)).unsqueeze(0)\n",
        "  generated = encoded.to(device)\n",
        "  sample_outputs = poem_model.generate(\n",
        "                                  generated, \n",
        "                                  do_sample=True,   \n",
        "                                  top_k=50, \n",
        "                                  max_length=MAX_LEN,\n",
        "                                  top_p=0.95, \n",
        "                                  num_return_sequences=3\n",
        "                                  )\n",
        "  print(\"\\nPrompt: \", prompt, \"\\n Generated:\\n\")\n",
        "\n",
        "  for i, sample_output in enumerate(sample_outputs):\n",
        "      print(\"{}: {}\\n\".format(i, tokenizer.decode(sample_output, skip_special_tokens=True)))\n",
        "  "
      ],
      "execution_count": 16,
      "outputs": [
        {
          "output_type": "stream",
          "text": [
            "Setting `pad_token_id` to `eos_token_id`:50256 for open-end generation.\n",
            "Setting `pad_token_id` to `eos_token_id`:50256 for open-end generation.\n"
          ],
          "name": "stderr"
        },
        {
          "output_type": "stream",
          "text": [
            "\n",
            "Prompt:  Supreme Court to go paperless in 6 months: CJI<SEP> \n",
            " Generated:\n",
            "\n",
            "0: Supreme Court to go paperless in 6 months: CJIThe Supreme Court will go paperless in two months from now, said CJI Arup Rane. &#34;We will have to take up the problem of paperless notes with the states and have them made using the digital medium,&#34; he added. Currently, the Centre is on the verge of imposing the demonetisation policy if such an order are not carried out in time, he added.\\n\\n\\n    \\n\\n\\n\\n\\n\\n\\n\\n\\n\\n\\n     \\n\\n\\n\\n\\n     \\n\\n\\n\\n\\n\\n\\n\\n\\n\\n\\n\\n\\n\\n\\n\\n\\n\\n\n",
            "\n",
            "1: Supreme Court to go paperless in 6 months: CJIThe Supreme Court on Saturday told the Delhi High Court that it was working on the proposed Uniform Civil Code. The Law Ministry has said that the proposal for the Uniform Civil Code is being finalised in July and the government will submit the draft to the Delhi High Court within six months.A petition was filed by the Opposition in the Supreme Court demanding the government to &#34;paperless&#34; the law.\\n\\n\\n\\n\\n\\n\\n\\n\\n\\n\\n\\n\\n    \\n\\n\\n\\n\\n\\n\\n  \\n\\n\\n\\n\\n\\n\\n \\n\\n\\n\\n\\n\\\n",
            "\n",
            "2: Supreme Court to go paperless in 6 months: CJIJustice Markandey Katju on Tuesday said that the Centre has decided to go paperless in six months but will not be able to give details on which departments or departments are impacted. He added that the Centre has taken the initiative to ensure that the Aadhaar-linked details are sent to all agencies simultaneously. Notably, in December, the government announced a new law to provide PAN numbers to all employees of the central government through electronic services.                                                                     \\n\n",
            "\n"
          ],
          "name": "stdout"
        },
        {
          "output_type": "stream",
          "text": [
            "Setting `pad_token_id` to `eos_token_id`:50256 for open-end generation.\n"
          ],
          "name": "stderr"
        },
        {
          "output_type": "stream",
          "text": [
            "\n",
            "Prompt:  Governer demands for more vaccines<SEP> \n",
            " Generated:\n",
            "\n",
            "0: Governer demands for more vaccinesThe Centre on Monday requested the Centre for a total of ₹400 crore for the promotion of the safety of the vaccines. The response letter came following the National Vaccine Board recommendations which were found to be in violation of the Right to Life Act. Notably, India has now launched 23 vaccine-based drugs in the last five years.The Centre has asked all states, territories, union territories and union territories to provide every patient with ‘universal…virus-free’ vaccine.  \\n\\n\\n\\nThe government has directed all governments and Union Territories to provide the same. \\n\\n\\n\\n\\n\\n\\n\\n    \\n\\n\\n\\n\\n  \\\n",
            "\n",
            "1: Governer demands for more vaccinesUnion Health Minister JP Nadda on Tuesday demanded that all new vaccines be put on an &#34;urgent&#34; list, calling for speedy screening of the entire country following the recent terror attack on India. He also said in the Parliament the government was not ready to accept the demands made by the NDA-led government. Notably, nearly 1.9 lakh people have died due to immunisation failures in the country since November 2014.\\n\\nOn August 26, 2015, a Pakistani soldier was killed in an encounter at the LoC.   \\n\\n\\n\\n \\n\\n\\n\\n\\n\\n\\n\\n\\n\\n&#34\n",
            "\n",
            "2: Governer demands for more vaccinesThe Governor of Punjab, Dr Amarinder Singh on Tuesday demanded a &#34;larger, faster, and more comprehensive national vaccination programme&#34; across India. Adding that a &#34;pregnant woman&#34; cannot be deprived of &#34;life support&#34; as her child needs a life-saving vaccine, Singh demanded a two-state solution for the shortage of vaccines. Currently, the government provides 3,000-5,000 vaccines a year.The Supreme Court on Monday said that the “prudential need” of vaccines has not been raised.                                         \n",
            "\n"
          ],
          "name": "stdout"
        },
        {
          "output_type": "stream",
          "text": [
            "Setting `pad_token_id` to `eos_token_id`:50256 for open-end generation.\n"
          ],
          "name": "stderr"
        },
        {
          "output_type": "stream",
          "text": [
            "\n",
            "Prompt:  Scientists say chocolate is good for you<SEP> \n",
            " Generated:\n",
            "\n",
            "0: Scientists say chocolate is good for youA Canadian research has suggested that chocolate may have an &#39;increased anti-aging&#39; activity. Further, scientists concluded that chocolate might increase heart health by promoting muscle-building and reducing the body&#39;s own cortisol production. Additionally, researchers found that chocolate-infused tea, which stimulates the production of hormones like cortisol, promotes heart health.The chocolate-flavoured beverage &#39;Chocolate Bar&#39; was first marketed by American coffee giant Starbucks in 2004. \\n \\n \\n                  \\n\\n           \\n           \\n      \\n  \\n \\n  \\n \\n \\n\n",
            "\n",
            "1: Scientists say chocolate is good for youIn an editorial published in the Indian Express, scientists have claimed that chocolate&#39;s beneficial properties in reducing cholesterol, cholesterol-lowering hormone and appetite have been scientifically proven. In one study, researchers tested 200 men over five years who were given chocolate for 30 days for two years on various cholesterol measures and found an 80% reduction in the risk of coronary heart disease.\\n\\n\\n\\n\\n\\n\\n\\n\\n\\n\\n\\n\\n\\n\\n\\n\\n\\n\\n\\n\\n\\n\\n\\n\\n\\n\\n\\n\\n\\n\\n\\n\\n\\n\\n\\n\\n\\n\\n\\n\\n\\n\\n\\n\\n\\n\\n\\n\\n\\n\\n\\n\\\n",
            "\n",
            "2: Scientists say chocolate is good for youAccording to a recent study, cocoa beans have been shown to be a powerful antioxidant, helping to combat diseases such as type 2 diabetes and Parkinson&#39;s, which are the leading cause of blindness. The cocoa bean contains essential vitamin A, magnesium, potassium and zinc and has an almost two-thirds natural antioxidant capacity. The study further revealed that cocoa beans were responsible for regulating cell activity and cell death at the cell membrane. \\n\\n\\n\\n\\n       \\n\\n\\n \\n\\n\\n\\n\\n\\n\\n \\n\\n\\n\\n  \\n\\n\\n\\n \\n\\n\\n\\n\\n\\n\\n\\n\\n\\n\\n\\n\\n\\n\\\n",
            "\n",
            "\n",
            "Prompt:  Aus Open: Serena, Sharapova progress to round 3 \n",
            " Generated:\n",
            "\n",
            "0: Aus Open: Serena, Sharapova progress to round 3American sprinter and Australian Open champion Serena Williams defeated Romania&#39;s Novak Djokovic on Friday to move up to the third round of the third round of the Australian Open. Williams will now face Britain&#39;s Andy Murray in the third round of the tournament. The Australian Open is scheduled to begin on April 7 in Melbourne, Australia.\\n#34;A&#39; woman and Australian Open champion, the 19-year-old Australian Open finalist will face defending champion Roger Federer in the fifth round of the tournament.\\n\\nThe Australian Open&#39;s second round of ten-over matches will be held on March 7. \\n\\n\\n\\n\\n\\n\n",
            "\n",
            "1: Aus Open: Serena, Sharapova progress to round 3In the second round of the Australian Open men&#39;s doubles, Venus Williams, Serena Williams and PV Sindhu progressed to the final of the Australian Open. The duo defeated Japan&#39;s Shikiko Okuhara 7-6, 6-3, 5-6, 6-3, 6-4 to win the overall​ $75,000 (approximately ₹1.2 lakh) cash prize. This is Serena&#39;s second time in the doubles after her third round victory in the US Open last month. Australian Open has featured four women in the tournament, with the first woman to win an Australian Open title in her career.        The Australian Open is scheduled to take place on December 19. \n",
            "\n",
            "2: Aus Open: Serena, Sharapova progress to round 3Following her recent win over world number one Serena Williams, 21-year-old Australian Open winner, Michael Symonds became the first Australian woman to defeat a world number one. The 6-2, 320-pounder is now set to play a final in Rio on November 19, with Sharapova set to play the final in London on December 4. Australian Open is set to conclude on December 4.    The Australian women&#39;s singles badminton tournament saw Russia&#39;s Elena Vesnina defeating Bulgaria&#39;s Elena Vesnina 6-2, 6-1.  Russian tennis player Maria Sharapova defeated Thailand&#39;s Leander Paes 5-2, 6-0, 6-0 to progress to round three\n",
            "\n"
          ],
          "name": "stdout"
        }
      ]
    }
  ]
}