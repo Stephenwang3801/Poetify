{
  "nbformat": 4,
  "nbformat_minor": 5,
  "metadata": {
    "kernelspec": {
      "display_name": "Python 3",
      "language": "python",
      "name": "python3"
    },
    "language_info": {
      "codemirror_mode": {
        "name": "ipython",
        "version": 3
      },
      "file_extension": ".py",
      "mimetype": "text/x-python",
      "name": "python",
      "nbconvert_exporter": "python",
      "pygments_lexer": "ipython3",
      "version": "3.9.4"
    },
    "colab": {
      "name": "Review_sentiment_analysis_character_RNN.ipynb",
      "provenance": [],
      "collapsed_sections": []
    },
    "accelerator": "TPU"
  },
  "cells": [
    {
      "cell_type": "code",
      "metadata": {
        "colab": {
          "base_uri": "https://localhost:8080/"
        },
        "id": "8b19bf5b",
        "outputId": "e042692e-e7ba-4d55-8d5d-2aeacb9a1d9a"
      },
      "source": [
        "print(\"Hello World\")\n",
        "import torch\n",
        "import torch.nn as nn\n",
        "import torch.nn.functional as F\n",
        "import torch.optim as optim\n",
        "import numpy as np"
      ],
      "id": "8b19bf5b",
      "execution_count": 3,
      "outputs": [
        {
          "output_type": "stream",
          "text": [
            "Hello World\n"
          ],
          "name": "stdout"
        }
      ]
    },
    {
      "cell_type": "code",
      "metadata": {
        "colab": {
          "base_uri": "https://localhost:8080/"
        },
        "id": "yZ2MN8DAASa6",
        "outputId": "625f8507-b886-44d5-91d6-9b1c143e2040"
      },
      "source": [
        "from google.colab import drive\n",
        "drive.mount('/content/drive')"
      ],
      "id": "yZ2MN8DAASa6",
      "execution_count": 4,
      "outputs": [
        {
          "output_type": "stream",
          "text": [
            "Drive already mounted at /content/drive; to attempt to forcibly remount, call drive.mount(\"/content/drive\", force_remount=True).\n"
          ],
          "name": "stdout"
        }
      ]
    },
    {
      "cell_type": "code",
      "metadata": {
        "colab": {
          "base_uri": "https://localhost:8080/"
        },
        "id": "t7IV9EqiB8hH",
        "outputId": "4643f0bb-81f3-49c4-bf89-436452b581f9"
      },
      "source": [
        "lines = []\n",
        "for line in open('/content/drive/MyDrive/Aps360 Project/Datasets/train_sentiment.csv'):\n",
        "    lines.append(line)\n",
        "\n",
        "for i in range(10):\n",
        "  print(lines[i])\n"
      ],
      "id": "t7IV9EqiB8hH",
      "execution_count": 5,
      "outputs": [
        {
          "output_type": "stream",
          "text": [
            "\"1\",\"Unfortunately, the frustration of being Dr. Goldberg's patient is a repeat of the experience I've had with so many other doctors in NYC -- good doctor, terrible staff.  It seems that his staff simply never answers the phone.  It usually takes 2 hours of repeated calling to get an answer.  Who has time for that or wants to deal with it?  I have run into this problem with many other doctors and I just don't get it.  You have office workers, you have patients with medical needs, why isn't anyone answering the phone?  It's incomprehensible and not work the aggravation.  It's with regret that I feel that I have to give Dr. Goldberg 2 stars.\"\n",
            "\n",
            "\"2\",\"Been going to Dr. Goldberg for over 10 years. I think I was one of his 1st patients when he started at MHMG. He's been great over the years and is really all about the big picture. It is because of him, not my now former gyn Dr. Markoff, that I found out I have fibroids. He explores all options with you and is very patient and understanding. He doesn't judge and asks all the right questions. Very thorough and wants to be kept in the loop on every aspect of your medical health and your life.\"\n",
            "\n",
            "\"1\",\"I don't know what Dr. Goldberg was like before  moving to Arizona, but let me tell you, STAY AWAY from this doctor and this office. I was going to Dr. Johnson before he left and Goldberg took over when Johnson left. He is not a caring doctor. He is only interested in the co-pay and having you come in for medication refills every month. He will not give refills and could less about patients's financial situations. Trying to get your 90 days mail away pharmacy prescriptions through this guy is a joke. And to make matters even worse, his office staff is incompetent. 90% of the time when you call the office, they'll put you through to a voice mail, that NO ONE ever answers or returns your call. Both my adult children and husband have decided to leave this practice after experiencing such frustration. The entire office has an attitude like they are doing you a favor. Give me a break! Stay away from this doc and the practice. You deserve better and they will not be there when you really need them. I have never felt compelled to write a bad review about anyone until I met this pathetic excuse for a doctor who is all about the money.\"\n",
            "\n",
            "\"1\",\"I'm writing this review to give you a heads up before you see this Doctor. The office staff and administration are very unprofessional. I left a message with multiple people regarding my bill, and no one ever called me back. I had to hound them to get an answer about my bill. \\n\\nSecond, and most important, make sure your insurance is going to cover Dr. Goldberg's visits and blood work. He recommended to me that I get a physical, and he knew I was a student because I told him. I got the physical done. Later, I found out my health insurance doesn't pay for preventative visits. I received an $800.00 bill for the blood work. I can't pay for my bill because I'm a student and don't have any cash flow at this current time. I can't believe the Doctor wouldn't give me a heads up to make sure my insurance would cover work that wasn't necessary and was strictly preventative. The office can't do anything to help me cover the bill. In addition, the office staff said the onus is on me to make sure my insurance covers visits. Frustrating situation!\"\n",
            "\n",
            "\"2\",\"All the food is great here. But the best thing they have is their wings. Their wings are simply fantastic!!  The \\\"\"Wet Cajun\\\"\" are by the best & most popular.  I also like the seasoned salt wings.  Wing Night is Monday & Wednesday night, $0.75 whole wings!\\n\\nThe dining area is nice. Very family friendly! The bar is very nice is well.  This place is truly a Yinzer's dream!!  \\\"\"Pittsburgh Dad\\\"\" would love this place n'at!!\"\n",
            "\n",
            "\"1\",\"Wing sauce is like water. Pretty much a lot of butter and some hot sauce (franks red hot maybe).  The whole wings are good size and crispy, but for $1 a wing the sauce could be better. The hot and extra hot are about the same flavor/heat.  The fish sandwich is good and is a large portion, sides are decent.\"\n",
            "\n",
            "\"1\",\"Owning a driving range inside the city limits is like a license to print money.  I don't think I ask much out of a driving range.  Decent mats, clean balls and accessible hours.  Hell you need even less people now with the advent of the machine that doles out the balls.  This place has none of them.  It is april and there are no grass tees yet.  BTW they opened for the season this week although it has been golfing weather for a month.  The mats look like the carpet at my 107 year old aunt Irene's house.  Worn and thread bare.  Let's talk about the hours.  This place is equipped with lights yet they only sell buckets of balls until 730.  It is still light out.  Finally lets you have the pit to hit into.  When I arrived I wasn't sure if this was a driving range or an excavation site for a mastodon or a strip mining operation.  There is no grass on the range. Just mud.  Makes it a good tool to figure out how far you actually are hitting the ball.  Oh, they are cash only also.\\n\\nBottom line, this place sucks.  The best hope is that the owner sells it to someone that actually wants to make money and service golfers in Pittsburgh.\"\n",
            "\n",
            "\"1\",\"This place is absolute garbage...  Half of the tees are not available, including all the grass tees.  It is cash only, and they sell the last bucket at 8, despite having lights.  And if you finish even a minute after 8, don't plan on getting a drink.  The vending machines are sold out (of course) and they sell drinks inside, but close the drawers at 8 on the dot.  There are weeds grown all over the place.  I noticed some sort of batting cage, but it looks like those are out of order as well.  Someone should buy this place and turn it into what it should be.\"\n",
            "\n",
            "\"2\",\"Before I finally made it over to this range I heard the same thing from most people - it's just fine to go work on your swing. I had such a low expectation I was pleasantly surprised. \\n\\nIt's a fairly big range - if you are familiar with Scally's in Moon, it seems like it has almost as many tees, though its not nearly as nice a facility. \\n\\nThe guys in the pro shop were two of the friendlier guys I've come across at ranges or at courses. Yards were indeed marked and there are some targets to aim for, and even some hazards to aim away from. \\n\\nA big red flag to me was the extra charge ($3) to hit off the grass. I am no range expert, but this is the 4th one I've been to and the first I've seen of that sort of nickel and diming....\\n\\nPrice for the golf balls was reasonable and I do plan to be back every week until they close up in October for the season. Hopefully, since its for sale, it will reopen as a golf facility again.\"\n",
            "\n",
            "\"2\",\"I drove by yesterday to get a sneak peak.  It re-opens on July 14th and I can't wait to take my kids.  The new range looks amazing.  The entire range appears to be turf, which may or many not help your game, but it looks really nice.  The tee boxes look state of the art and the club house looks like something you'll see on a newer course.  Can't wait to experience it!\"\n",
            "\n"
          ],
          "name": "stdout"
        }
      ]
    },
    {
      "cell_type": "code",
      "metadata": {
        "colab": {
          "base_uri": "https://localhost:8080/"
        },
        "id": "T6UL74LuATKn",
        "outputId": "b941f7f8-2c94-4ac8-f75e-9e6081f0a697"
      },
      "source": [
        "lines = []\n",
        "total=0\n",
        "positive=0\n",
        "negative=0\n",
        "for line in open('/content/drive/MyDrive/Aps360 Project/Datasets/train_sentiment.csv'):\n",
        "    label,message = line.split(\",\",1)\n",
        "    if label == '\\\"1\\\"':\n",
        "      negative += 1\n",
        "    if label == '\\\"2\\\"':\n",
        "      positive += 1\n",
        "    total += 1\n",
        "print(\"positive: \",positive)\n",
        "print(\"negative: \",negative)\n",
        "print(\"total: \",total)"
      ],
      "id": "T6UL74LuATKn",
      "execution_count": 6,
      "outputs": [
        {
          "output_type": "stream",
          "text": [
            "positive:  280000\n",
            "negative:  280000\n",
            "total:  560000\n"
          ],
          "name": "stdout"
        }
      ]
    },
    {
      "cell_type": "code",
      "metadata": {
        "id": "UqiwEx5_EaUq"
      },
      "source": [
        "import torchtext.legacy as torchtext\n",
        "import random\n",
        "\n",
        "text_field = torchtext.data.Field(sequential=True,      # text sequence\n",
        "                                  tokenize=lambda x: x, # because are building a character-RNN\n",
        "                                  include_lengths=True, # to track the length of sequences, for batching\n",
        "                                  batch_first=True,\n",
        "                                  use_vocab=True)       # to turn each character into an integer index\n",
        "label_field = torchtext.data.Field(sequential=False,    # not a sequence\n",
        "                                   use_vocab=False,     # don't need to track vocabulary\n",
        "                                   is_target=True,      \n",
        "                                   batch_first=True,\n",
        "                                   preprocessing=lambda x: int(x == '2')) # convert text to 0 and 1\n",
        "\n",
        "fields = [('label', label_field), ('review', text_field)]\n",
        "\n",
        "train_dataPath = \"/content/drive/MyDrive/Aps360 Project/Datasets/train_sentiment.csv\"\n",
        "test_dataPath = \"/content/drive/MyDrive/Aps360 Project/Datasets/test_sentiment.csv\"\n",
        "\n",
        "train_dataset = torchtext.data.TabularDataset(train_dataPath, # name of the file\n",
        "                                        \"csv\",               # fields are separated by a comma\n",
        "                                        fields)\n",
        "\n",
        "train,val = train_dataset.split([0.8,0.2],True,'label',random.getstate())\n",
        "test = torchtext.data.TabularDataset(test_dataPath, # name of the file\n",
        "                                        \"csv\",               # fields are separated by a comma\n",
        "                                        fields)\n",
        "train, remaining_train = train.split([0.01,0.99],True,'label',random.getstate())\n",
        "val, remaining_val = val.split([0.02,0.98],True,'label',random.getstate())\n",
        "test, remaining_test = test.split([0.03,0.97],True,'label',random.getstate())"
      ],
      "id": "UqiwEx5_EaUq",
      "execution_count": 7,
      "outputs": []
    },
    {
      "cell_type": "code",
      "metadata": {
        "colab": {
          "base_uri": "https://localhost:8080/"
        },
        "id": "gNNIg9uRMVFY",
        "outputId": "ee0d417b-4773-4ec5-b4bd-cc392dde8606"
      },
      "source": [
        "\n",
        "lines = []\n",
        "total=0\n",
        "positive=0\n",
        "negative=0\n",
        "for line in train:\n",
        "  if line.label == 0:\n",
        "    negative += 1\n",
        "  if line.label == 1:\n",
        "    positive += 1\n",
        "  total += 1\n",
        "print(\"positive training: \",positive)\n",
        "print(\"negative training : \",negative)\n",
        "print(\"total training: \",total)\n",
        "\n",
        "\n",
        "lines = []\n",
        "total=0\n",
        "positive=0\n",
        "negative=0\n",
        "for line in val:\n",
        "  if line.label == 0:\n",
        "    negative += 1\n",
        "  if line.label == 1:\n",
        "    positive += 1\n",
        "  total += 1\n",
        "print(\"\\npositive validation: \",positive)\n",
        "print(\"negative validation : \",negative)\n",
        "print(\"total validation: \",total)\n",
        "\n",
        "lines = []\n",
        "total=0\n",
        "positive=0\n",
        "negative=0\n",
        "for line in test:\n",
        "  if line.label == 0:\n",
        "    negative += 1\n",
        "  if line.label == 1:\n",
        "    positive += 1\n",
        "  total += 1\n",
        "print(\"\\npositive test: \",positive)\n",
        "print(\"negative test : \",negative)\n",
        "print(\"total test: \",total)"
      ],
      "id": "gNNIg9uRMVFY",
      "execution_count": 8,
      "outputs": [
        {
          "output_type": "stream",
          "text": [
            "positive training:  2240\n",
            "negative training :  2240\n",
            "total training:  4480\n",
            "\n",
            "positive validation:  1120\n",
            "negative validation :  1120\n",
            "total validation:  2240\n",
            "\n",
            "positive test:  570\n",
            "negative test :  570\n",
            "total test:  1140\n"
          ],
          "name": "stdout"
        }
      ]
    },
    {
      "cell_type": "code",
      "metadata": {
        "colab": {
          "base_uri": "https://localhost:8080/"
        },
        "id": "_Do1PbUMNOgO",
        "outputId": "7dd6b229-840d-42cf-abf3-b0461ba7f3c2"
      },
      "source": [
        "import builtins\n",
        "text_field.build_vocab(train)\n",
        "all_values = text_field.vocab.stoi.values()\n",
        "print(all_values)\n",
        "max_value = builtins.max(all_values)\n",
        "print(max_value)"
      ],
      "id": "_Do1PbUMNOgO",
      "execution_count": 9,
      "outputs": [
        {
          "output_type": "stream",
          "text": [
            "dict_values([0, 1, 2, 3, 4, 5, 6, 7, 8, 9, 10, 11, 12, 13, 14, 15, 16, 17, 18, 19, 20, 21, 22, 23, 24, 25, 26, 27, 28, 29, 30, 31, 32, 33, 34, 35, 36, 37, 38, 39, 40, 41, 42, 43, 44, 45, 46, 47, 48, 49, 50, 51, 52, 53, 54, 55, 56, 57, 58, 59, 60, 61, 62, 63, 64, 65, 66, 67, 68, 69, 70, 71, 72, 73, 74, 75, 76, 77, 78, 79, 80, 81, 82, 83, 84, 85, 86, 87, 88, 89, 90, 91, 92, 93, 94])\n",
            "94\n"
          ],
          "name": "stdout"
        }
      ]
    },
    {
      "cell_type": "code",
      "metadata": {
        "colab": {
          "base_uri": "https://localhost:8080/"
        },
        "id": "NP-jbB0FNr3t",
        "outputId": "44742fd3-010f-4370-cfcc-9d2f42a6b559"
      },
      "source": [
        "print(text_field.vocab.itos)\n",
        "print(text_field.vocab.stoi)"
      ],
      "id": "NP-jbB0FNr3t",
      "execution_count": 10,
      "outputs": [
        {
          "output_type": "stream",
          "text": [
            "['<unk>', '<pad>', ' ', 'e', 't', 'a', 'o', 'n', 'i', 's', 'r', 'h', 'd', 'l', 'u', 'c', 'w', 'y', 'm', 'f', 'g', 'p', '.', 'b', 'v', 'k', 'I', ',', '\\\\', 'T', \"'\", '!', 'S', 'A', 'x', 'W', '-', '0', 'O', 'M', 'z', 'j', 'E', 'B', 'C', 'N', '\"', 'H', ')', '(', 'L', 'F', 'P', 'R', '1', 'D', 'q', 'G', '2', '5', 'V', '?', 'Y', '$', '3', ':', '4', '/', 'U', '9', 'K', 'J', '&', '8', '6', '*', '7', ';', 'Q', 'Z', '=', '%', '+', '#', 'X', '_', '~', '@', '^', ']', '[', '`', '{', '|', '}']\n",
            "defaultdict(<bound method Vocab._default_unk_index of <torchtext.legacy.vocab.Vocab object at 0x7fab5197ac90>>, {'<unk>': 0, '<pad>': 1, ' ': 2, 'e': 3, 't': 4, 'a': 5, 'o': 6, 'n': 7, 'i': 8, 's': 9, 'r': 10, 'h': 11, 'd': 12, 'l': 13, 'u': 14, 'c': 15, 'w': 16, 'y': 17, 'm': 18, 'f': 19, 'g': 20, 'p': 21, '.': 22, 'b': 23, 'v': 24, 'k': 25, 'I': 26, ',': 27, '\\\\': 28, 'T': 29, \"'\": 30, '!': 31, 'S': 32, 'A': 33, 'x': 34, 'W': 35, '-': 36, '0': 37, 'O': 38, 'M': 39, 'z': 40, 'j': 41, 'E': 42, 'B': 43, 'C': 44, 'N': 45, '\"': 46, 'H': 47, ')': 48, '(': 49, 'L': 50, 'F': 51, 'P': 52, 'R': 53, '1': 54, 'D': 55, 'q': 56, 'G': 57, '2': 58, '5': 59, 'V': 60, '?': 61, 'Y': 62, '$': 63, '3': 64, ':': 65, '4': 66, '/': 67, 'U': 68, '9': 69, 'K': 70, 'J': 71, '&': 72, '8': 73, '6': 74, '*': 75, '7': 76, ';': 77, 'Q': 78, 'Z': 79, '=': 80, '%': 81, '+': 82, '#': 83, 'X': 84, '_': 85, '~': 86, '@': 87, '^': 88, ']': 89, '[': 90, '`': 91, '{': 92, '|': 93, '}': 94})\n"
          ],
          "name": "stdout"
        }
      ]
    },
    {
      "cell_type": "code",
      "metadata": {
        "id": "zF2skLUtOKJh"
      },
      "source": [
        "train_iter = torchtext.data.BucketIterator(train,\n",
        "                                           batch_size=16,\n",
        "                                           sort_key=lambda x: len(x.review), # to minimize padding\n",
        "                                           sort_within_batch=True,        # sort within each batch\n",
        "                                           repeat=False)                  # repeat the iterator for many epochs\n",
        "val_iter = torchtext.data.BucketIterator(val,\n",
        "                                           batch_size=16,\n",
        "                                           sort_key=lambda x: len(x.review), # to minimize padding\n",
        "                                           sort_within_batch=True,        # sort within each batch\n",
        "                                           repeat=False)                  # repeat the iterator for many epochs\n",
        "test_iter = torchtext.data.BucketIterator(test,\n",
        "                                           batch_size=16,\n",
        "                                           sort_key=lambda x: len(x.review), # to minimize padding\n",
        "                                           sort_within_batch=True,        # sort within each batch\n",
        "                                           repeat=False)                  # repeat the iterator for many epochs                                          \n",
        "                                     "
      ],
      "id": "zF2skLUtOKJh",
      "execution_count": 11,
      "outputs": []
    },
    {
      "cell_type": "code",
      "metadata": {
        "colab": {
          "base_uri": "https://localhost:8080/"
        },
        "id": "jK-UH4xHPWXl",
        "outputId": "c1ca17c5-921a-449f-c023-2af714e892e9"
      },
      "source": [
        "i=0\n",
        "for batch in train_iter:\n",
        "  max_val = batch.review[1][0]\n",
        "  print(\"Length of longest review: \", max_val.item())\n",
        "  print(\"Pads used: \", max_val.item()*len(batch.review[1]) - batch.review[1].sum().item())\n",
        "  i+=1\n",
        "  if i>=10:\n",
        "    break"
      ],
      "id": "jK-UH4xHPWXl",
      "execution_count": 12,
      "outputs": [
        {
          "output_type": "stream",
          "text": [
            "Length of longest review:  703\n",
            "Pads used:  105\n",
            "Length of longest review:  1177\n",
            "Pads used:  298\n",
            "Length of longest review:  342\n",
            "Pads used:  64\n",
            "Length of longest review:  249\n",
            "Pads used:  73\n",
            "Length of longest review:  1009\n",
            "Pads used:  170\n",
            "Length of longest review:  1477\n",
            "Pads used:  386\n",
            "Length of longest review:  278\n",
            "Pads used:  52\n",
            "Length of longest review:  979\n",
            "Pads used:  359\n",
            "Length of longest review:  332\n",
            "Pads used:  96\n",
            "Length of longest review:  543\n",
            "Pads used:  117\n"
          ],
          "name": "stdout"
        }
      ]
    },
    {
      "cell_type": "code",
      "metadata": {
        "colab": {
          "base_uri": "https://localhost:8080/"
        },
        "id": "_61kJbWKQGay",
        "outputId": "4eca308d-b272-487a-fdab-f32b7b916951"
      },
      "source": [
        "#Demonstration of how eye() works.\n",
        "ident = torch.eye(10)\n",
        "print(ident[0]) # one-hot vector\n",
        "print(ident[1]) # one-hot vector\n",
        "x = torch.tensor([[1, 2], [3, 4]])\n",
        "print(ident[x]) # one-hot vectors"
      ],
      "id": "_61kJbWKQGay",
      "execution_count": 13,
      "outputs": [
        {
          "output_type": "stream",
          "text": [
            "tensor([1., 0., 0., 0., 0., 0., 0., 0., 0., 0.])\n",
            "tensor([0., 1., 0., 0., 0., 0., 0., 0., 0., 0.])\n",
            "tensor([[[0., 1., 0., 0., 0., 0., 0., 0., 0., 0.],\n",
            "         [0., 0., 1., 0., 0., 0., 0., 0., 0., 0.]],\n",
            "\n",
            "        [[0., 0., 0., 1., 0., 0., 0., 0., 0., 0.],\n",
            "         [0., 0., 0., 0., 1., 0., 0., 0., 0., 0.]]])\n"
          ],
          "name": "stdout"
        }
      ]
    },
    {
      "cell_type": "code",
      "metadata": {
        "id": "oRYSewRRQTNE"
      },
      "source": [
        "import builtins\n",
        "\n",
        "def getOneHotBatch(batch_review):\n",
        "  ident = torch.eye(builtins.max(text_field.vocab.stoi.values())+1)\n",
        "  return ident[batch_review]"
      ],
      "id": "oRYSewRRQTNE",
      "execution_count": 14,
      "outputs": []
    },
    {
      "cell_type": "code",
      "metadata": {
        "id": "67DeU9ztQZk7"
      },
      "source": [
        "class ReviewRNN(nn.Module):\n",
        "    def __init__(self, input_size, hidden_size, num_classes):\n",
        "        super(ReviewRNN, self).__init__()\n",
        "        self.hidden_size = hidden_size\n",
        "        self.rnn = nn.RNN(input_size, hidden_size, batch_first=True)\n",
        "        self.fc = nn.Linear(hidden_size, num_classes)\n",
        "    \n",
        "    def forward(self, x):\n",
        "        # Look up the embedding\n",
        "        # Set an initial hidden state\n",
        "        h0 = torch.zeros(1, x.size(0), self.hidden_size)\n",
        "        # Forward propagate the RNN\n",
        "        out, _ = self.rnn(x, h0)\n",
        "        # Pass the output of the last time step to the classifier\n",
        "        out = self.fc(out[:, -1, :])\n",
        "        return out"
      ],
      "id": "67DeU9ztQZk7",
      "execution_count": 15,
      "outputs": []
    },
    {
      "cell_type": "code",
      "metadata": {
        "id": "GMfZkfrbQkR7"
      },
      "source": [
        "def get_accuracy(model, iter):\n",
        "    \"\"\" Compute the accuracy of the `model` across a dataset `data`\n",
        "    \n",
        "    Example usage:\n",
        "    \n",
        "    >>> model = MyRNN() # to be defined\n",
        "    >>> get_accuracy(model, valid) # the variable `valid` is from above\n",
        "    \"\"\"\n",
        "    correct, total = 0, 0\n",
        "    for review_batch, labels in iter:\n",
        "        one_hot_review = getOneHotBatch(review_batch[0])\n",
        "        output = model(one_hot_review)\n",
        "        pred = output.max(1, keepdim=True)[1]\n",
        "        correct += pred.eq(labels.view_as(pred)).sum().item()\n",
        "        total += labels.shape[0]\n",
        "    return correct / total"
      ],
      "id": "GMfZkfrbQkR7",
      "execution_count": 16,
      "outputs": []
    },
    {
      "cell_type": "code",
      "metadata": {
        "id": "Dp_b1fYWRmnb"
      },
      "source": [
        "def get_model_name(name, hidden_size, batch_size, learning_rate, epoch):\n",
        "    \"\"\" Generate a name for the model consisting of all the hyperparameter values\n",
        "\n",
        "    Args:\n",
        "        config: Configuration object containing the hyperparameters\n",
        "    Returns:\n",
        "        path: A string with the hyperparameter name and value concatenated\n",
        "    \"\"\"\n",
        "    path = \"model_{0}_{1}_bs{2}_lr{3}_epoch{4}\".format(name,hidden_size,\n",
        "                                                   batch_size,\n",
        "                                                   learning_rate,\n",
        "                                                   epoch)\n",
        "    return path"
      ],
      "id": "Dp_b1fYWRmnb",
      "execution_count": 17,
      "outputs": []
    },
    {
      "cell_type": "code",
      "metadata": {
        "id": "0rv45JxgSbUD"
      },
      "source": [
        "def plot_training_curve(path):\n",
        "    \"\"\" Plots the training curve for a model run, given the csv files\n",
        "    containing the train/validation error/loss.\n",
        "\n",
        "    Args:\n",
        "        path: The base path of the csv files produced during training\n",
        "    \"\"\"\n",
        "    import matplotlib.pyplot as plt\n",
        "    train_accuracy = np.loadtxt(\"{}_train_accuracy.csv\".format(path))\n",
        "    val_accuracy = np.loadtxt(\"{}_val_accuracy.csv\".format(path))\n",
        "    train_loss = np.loadtxt(\"{}_train_loss.csv\".format(path))\n",
        "\n",
        "    plt.title(\"Train vs Validation Accuracy\")\n",
        "    n = len(train_accuracy) # number of epochs\n",
        "    plt.plot(range(1,n+1), train_accuracy, label=\"Train\")\n",
        "    plt.plot(range(1,n+1), val_accuracy, label=\"Validation\")\n",
        "    plt.xlabel(\"Epoch\")\n",
        "    plt.ylabel(\"Accuracy\")\n",
        "    plt.legend(loc='best')\n",
        "    plt.show()\n",
        "    plt.title(\"Train Loss\")\n",
        "    plt.plot(range(1,n+1), train_loss, label=\"Train\")\n",
        "    plt.xlabel(\"Epoch\")\n",
        "    plt.ylabel(\"Loss\")\n",
        "    plt.legend(loc='best')\n",
        "    plt.show()"
      ],
      "id": "0rv45JxgSbUD",
      "execution_count": 18,
      "outputs": []
    },
    {
      "cell_type": "code",
      "metadata": {
        "id": "KngIe91AQ1oe"
      },
      "source": [
        "import matplotlib.pyplot as plt\n",
        "basePath = \"/content/drive/MyDrive/Aps360 Project/Datasets/SentimentAnalysis\"\n",
        "def train_rnn_network(model,train_iter, val_iter, num_epochs=5, learning_rate=1e-5):\n",
        "    criterion = nn.CrossEntropyLoss()\n",
        "    optimizer = torch.optim.Adam(model.parameters(), lr=learning_rate)\n",
        "    losses, train_acc, valid_acc = [], [], []\n",
        "    epochs = []\n",
        "    for epoch in range(num_epochs):\n",
        "        for review_batch, labels in train_iter:\n",
        "            optimizer.zero_grad()\n",
        "            one_hot_review = getOneHotBatch(review_batch[0])\n",
        "            pred = model(one_hot_review)\n",
        "            loss = criterion(pred, labels)\n",
        "            loss.backward()\n",
        "            optimizer.step()\n",
        "        losses.append(float(loss))\n",
        "\n",
        "        epochs.append(epoch)\n",
        "        train_acc.append(get_accuracy(model, train_iter))\n",
        "        valid_acc.append(get_accuracy(model, val_iter))\n",
        "        print(\"Epoch %d; Loss %f; Train Acc %f; Val Acc %f\" % (\n",
        "              epoch+1, loss, train_acc[-1], valid_acc[-1]))\n",
        "        \n",
        "        model_name = get_model_name(\"RNN\",model.hidden_size,train_iter.batch_size,\n",
        "                                    learning_rate,epoch)\n",
        "        torch.save(model.state_dict(), \"{}/{}\".format(basePath,model_name))\n",
        "\n",
        "    np.savetxt(\"{}/{}_train_loss.csv\".format(basePath, model_name), losses)\n",
        "    np.savetxt(\"{}/{}_train_accuracy.csv\".format(basePath, model_name), train_acc)\n",
        "    np.savetxt(\"{}/{}_val_accuracy.csv\".format(basePath, model_name), valid_acc)\n",
        "    "
      ],
      "id": "KngIe91AQ1oe",
      "execution_count": 19,
      "outputs": []
    },
    {
      "cell_type": "code",
      "metadata": {
        "colab": {
          "base_uri": "https://localhost:8080/"
        },
        "id": "KMQnDjL-VBCB",
        "outputId": "882f90e1-a66e-430a-8899-b16201f7e339"
      },
      "source": [
        "model = ReviewRNN(input_size = builtins.max(all_values) + 1, hidden_size = 150,\n",
        "                  num_classes = 2)\n",
        "train_rnn_network(model=model,train_iter=train_iter,val_iter=val_iter,\n",
        "                  num_epochs=100,learning_rate=1e-05)"
      ],
      "id": "KMQnDjL-VBCB",
      "execution_count": null,
      "outputs": [
        {
          "output_type": "stream",
          "text": [
            "Epoch 1; Loss 0.717116; Train Acc 0.500670; Val Acc 0.501339\n",
            "Epoch 2; Loss 0.695303; Train Acc 0.503348; Val Acc 0.501339\n",
            "Epoch 3; Loss 0.696738; Train Acc 0.520759; Val Acc 0.519643\n",
            "Epoch 4; Loss 0.694820; Train Acc 0.516295; Val Acc 0.512500\n",
            "Epoch 5; Loss 0.695053; Train Acc 0.517188; Val Acc 0.508929\n",
            "Epoch 6; Loss 0.691126; Train Acc 0.533705; Val Acc 0.519643\n",
            "Epoch 7; Loss 0.692062; Train Acc 0.525446; Val Acc 0.512054\n",
            "Epoch 8; Loss 0.693202; Train Acc 0.520759; Val Acc 0.523214\n",
            "Epoch 9; Loss 0.693103; Train Acc 0.527455; Val Acc 0.510714\n",
            "Epoch 10; Loss 0.688241; Train Acc 0.533482; Val Acc 0.525893\n",
            "Epoch 11; Loss 0.689493; Train Acc 0.525223; Val Acc 0.533036\n",
            "Epoch 12; Loss 0.696450; Train Acc 0.533705; Val Acc 0.517411\n",
            "Epoch 13; Loss 0.689585; Train Acc 0.530580; Val Acc 0.524554\n",
            "Epoch 14; Loss 0.691159; Train Acc 0.526339; Val Acc 0.526786\n",
            "Epoch 15; Loss 0.695244; Train Acc 0.528125; Val Acc 0.513839\n",
            "Epoch 16; Loss 0.693476; Train Acc 0.529018; Val Acc 0.527232\n",
            "Epoch 17; Loss 0.687276; Train Acc 0.539286; Val Acc 0.518750\n",
            "Epoch 18; Loss 0.698814; Train Acc 0.525000; Val Acc 0.531696\n",
            "Epoch 19; Loss 0.682940; Train Acc 0.531027; Val Acc 0.518304\n",
            "Epoch 20; Loss 0.671188; Train Acc 0.530357; Val Acc 0.527232\n",
            "Epoch 21; Loss 0.690637; Train Acc 0.530357; Val Acc 0.528125\n",
            "Epoch 22; Loss 0.668867; Train Acc 0.524554; Val Acc 0.524554\n",
            "Epoch 23; Loss 0.708461; Train Acc 0.533482; Val Acc 0.537054\n",
            "Epoch 24; Loss 0.688186; Train Acc 0.524107; Val Acc 0.529911\n",
            "Epoch 25; Loss 0.657041; Train Acc 0.539732; Val Acc 0.550893\n",
            "Epoch 26; Loss 0.702256; Train Acc 0.552009; Val Acc 0.546429\n",
            "Epoch 27; Loss 0.674118; Train Acc 0.533259; Val Acc 0.532589\n",
            "Epoch 28; Loss 0.682815; Train Acc 0.547098; Val Acc 0.533929\n",
            "Epoch 29; Loss 0.717475; Train Acc 0.545536; Val Acc 0.555804\n",
            "Epoch 30; Loss 0.737746; Train Acc 0.547098; Val Acc 0.555804\n",
            "Epoch 31; Loss 0.703534; Train Acc 0.562946; Val Acc 0.546875\n",
            "Epoch 32; Loss 0.715670; Train Acc 0.567411; Val Acc 0.565625\n",
            "Epoch 33; Loss 0.723411; Train Acc 0.578571; Val Acc 0.584821\n",
            "Epoch 34; Loss 0.726135; Train Acc 0.560491; Val Acc 0.557589\n",
            "Epoch 35; Loss 0.655171; Train Acc 0.564286; Val Acc 0.585268\n",
            "Epoch 36; Loss 0.653386; Train Acc 0.600893; Val Acc 0.587500\n",
            "Epoch 37; Loss 0.670351; Train Acc 0.604018; Val Acc 0.594643\n",
            "Epoch 38; Loss 0.684895; Train Acc 0.566741; Val Acc 0.579464\n",
            "Epoch 39; Loss 0.653952; Train Acc 0.534375; Val Acc 0.537500\n",
            "Epoch 40; Loss 0.643863; Train Acc 0.613839; Val Acc 0.603571\n",
            "Epoch 41; Loss 0.636324; Train Acc 0.570982; Val Acc 0.570982\n",
            "Epoch 42; Loss 0.620857; Train Acc 0.610268; Val Acc 0.606250\n",
            "Epoch 43; Loss 0.693492; Train Acc 0.617411; Val Acc 0.601339\n",
            "Epoch 44; Loss 0.637026; Train Acc 0.573661; Val Acc 0.579018\n",
            "Epoch 45; Loss 0.626422; Train Acc 0.606473; Val Acc 0.603571\n",
            "Epoch 46; Loss 0.631771; Train Acc 0.624554; Val Acc 0.607589\n",
            "Epoch 47; Loss 0.613101; Train Acc 0.617857; Val Acc 0.605357\n",
            "Epoch 48; Loss 0.684045; Train Acc 0.627455; Val Acc 0.620536\n",
            "Epoch 49; Loss 0.634503; Train Acc 0.637500; Val Acc 0.629911\n",
            "Epoch 50; Loss 0.741878; Train Acc 0.604688; Val Acc 0.612946\n",
            "Epoch 51; Loss 0.624403; Train Acc 0.633929; Val Acc 0.628125\n",
            "Epoch 52; Loss 0.590577; Train Acc 0.641964; Val Acc 0.630357\n",
            "Epoch 53; Loss 0.589401; Train Acc 0.635938; Val Acc 0.632589\n",
            "Epoch 54; Loss 0.649567; Train Acc 0.542188; Val Acc 0.554018\n",
            "Epoch 55; Loss 0.618270; Train Acc 0.640848; Val Acc 0.641518\n",
            "Epoch 56; Loss 0.678498; Train Acc 0.644420; Val Acc 0.644643\n",
            "Epoch 57; Loss 0.733404; Train Acc 0.636161; Val Acc 0.637054\n",
            "Epoch 58; Loss 0.748615; Train Acc 0.631473; Val Acc 0.631250\n",
            "Epoch 59; Loss 0.636524; Train Acc 0.600893; Val Acc 0.591071\n",
            "Epoch 60; Loss 0.769105; Train Acc 0.643080; Val Acc 0.640625\n",
            "Epoch 61; Loss 0.724432; Train Acc 0.635491; Val Acc 0.620982\n",
            "Epoch 62; Loss 0.593710; Train Acc 0.648438; Val Acc 0.641964\n",
            "Epoch 63; Loss 0.710760; Train Acc 0.542857; Val Acc 0.558036\n",
            "Epoch 64; Loss 0.609473; Train Acc 0.649107; Val Acc 0.635268\n",
            "Epoch 65; Loss 0.815679; Train Acc 0.503348; Val Acc 0.501786\n",
            "Epoch 66; Loss 0.684410; Train Acc 0.529911; Val Acc 0.522321\n",
            "Epoch 67; Loss 0.693913; Train Acc 0.582589; Val Acc 0.558929\n",
            "Epoch 68; Loss 0.631996; Train Acc 0.604911; Val Acc 0.581250\n"
          ],
          "name": "stdout"
        }
      ]
    },
    {
      "cell_type": "code",
      "metadata": {
        "colab": {
          "base_uri": "https://localhost:8080/",
          "height": 573
        },
        "id": "U4GPEYX0RlRK",
        "outputId": "a55c6cb2-c785-40fd-a249-237ba06bfbfc"
      },
      "source": [
        "basePath = \"/content/drive/MyDrive/Aps360 Project/Datasets/SentimentAnalysis\"\n",
        "epochs=100\n",
        "modelPath = get_model_name(\"RNN\", hidden_size=150, batch_size=16, learning_rate=1e-5, epoch=epochs-1)\n",
        "plot_training_curve(\"{}/{}\".format(basePath,modelPath))"
      ],
      "id": "U4GPEYX0RlRK",
      "execution_count": 26,
      "outputs": [
        {
          "output_type": "display_data",
          "data": {
            "image/png": "[encoded data removed]",
            "text/plain": [
              "<Figure size 432x288 with 1 Axes>"
            ]
          },
          "metadata": {
            "tags": [],
            "needs_background": "light"
          }
        },
        {
          "output_type": "display_data",
          "data": {
            "image/png": "[encoded data removed]",
            "text/plain": [
              "<Figure size 432x288 with 1 Axes>"
            ]
          },
          "metadata": {
            "tags": [],
            "needs_background": "light"
          }
        }
      ]
    }
  ]
}