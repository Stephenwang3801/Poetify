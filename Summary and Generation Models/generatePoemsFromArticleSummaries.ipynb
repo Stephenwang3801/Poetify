{
  "nbformat": 4,
  "nbformat_minor": 0,
  "metadata": {
    "accelerator": "GPU",
    "colab": {
      "name": "generatePoemsFromArticleSummaries.ipynb",
      "provenance": [],
      "collapsed_sections": [],
      "machine_shape": "hm"
    },
    "kernelspec": {
      "display_name": "Python 3",
      "name": "python3"
    },
    "language_info": {
      "name": "python"
    },
    "widgets": {
      "application/vnd.jupyter.widget-state+json": {
        "61c4869b07894342b785e6f63f9a7f24": {
          "model_module": "@jupyter-widgets/controls",
          "model_name": "HBoxModel",
          "state": {
            "_view_name": "HBoxView",
            "_dom_classes": [],
            "_model_name": "HBoxModel",
            "_view_module": "@jupyter-widgets/controls",
            "_model_module_version": "1.5.0",
            "_view_count": null,
            "_view_module_version": "1.5.0",
            "box_style": "",
            "layout": "IPY_MODEL_52438fa73386418ba69cdca859e4bd73",
            "_model_module": "@jupyter-widgets/controls",
            "children": [
              "IPY_MODEL_dcf03572c3ab4c66b519b605bfb83260",
              "IPY_MODEL_7ddb2fda18c14e4aa4b545e8979b95f2"
            ]
          }
        },
        "52438fa73386418ba69cdca859e4bd73": {
          "model_module": "@jupyter-widgets/base",
          "model_name": "LayoutModel",
          "state": {
            "_view_name": "LayoutView",
            "grid_template_rows": null,
            "right": null,
            "justify_content": null,
            "_view_module": "@jupyter-widgets/base",
            "overflow": null,
            "_model_module_version": "1.2.0",
            "_view_count": null,
            "flex_flow": null,
            "width": null,
            "min_width": null,
            "border": null,
            "align_items": null,
            "bottom": null,
            "_model_module": "@jupyter-widgets/base",
            "top": null,
            "grid_column": null,
            "overflow_y": null,
            "overflow_x": null,
            "grid_auto_flow": null,
            "grid_area": null,
            "grid_template_columns": null,
            "flex": null,
            "_model_name": "LayoutModel",
            "justify_items": null,
            "grid_row": null,
            "max_height": null,
            "align_content": null,
            "visibility": null,
            "align_self": null,
            "height": null,
            "min_height": null,
            "padding": null,
            "grid_auto_rows": null,
            "grid_gap": null,
            "max_width": null,
            "order": null,
            "_view_module_version": "1.2.0",
            "grid_template_areas": null,
            "object_position": null,
            "object_fit": null,
            "grid_auto_columns": null,
            "margin": null,
            "display": null,
            "left": null
          }
        },
        "dcf03572c3ab4c66b519b605bfb83260": {
          "model_module": "@jupyter-widgets/controls",
          "model_name": "FloatProgressModel",
          "state": {
            "_view_name": "ProgressView",
            "style": "IPY_MODEL_083f4898e083400994cc9a982662dded",
            "_dom_classes": [],
            "description": "Downloading: 100%",
            "_model_name": "FloatProgressModel",
            "bar_style": "success",
            "max": 1042301,
            "_view_module": "@jupyter-widgets/controls",
            "_model_module_version": "1.5.0",
            "value": 1042301,
            "_view_count": null,
            "_view_module_version": "1.5.0",
            "orientation": "horizontal",
            "min": 0,
            "description_tooltip": null,
            "_model_module": "@jupyter-widgets/controls",
            "layout": "IPY_MODEL_74a8c55c6a4544a498c1d5733d7166a3"
          }
        },
        "7ddb2fda18c14e4aa4b545e8979b95f2": {
          "model_module": "@jupyter-widgets/controls",
          "model_name": "HTMLModel",
          "state": {
            "_view_name": "HTMLView",
            "style": "IPY_MODEL_06c66ca1b71947da8804504e0bafe61e",
            "_dom_classes": [],
            "description": "",
            "_model_name": "HTMLModel",
            "placeholder": "​",
            "_view_module": "@jupyter-widgets/controls",
            "_model_module_version": "1.5.0",
            "value": " 1.04M/1.04M [00:03&lt;00:00, 323kB/s]",
            "_view_count": null,
            "_view_module_version": "1.5.0",
            "description_tooltip": null,
            "_model_module": "@jupyter-widgets/controls",
            "layout": "IPY_MODEL_be727e67c1cc4c3590affb42603fd5e2"
          }
        },
        "083f4898e083400994cc9a982662dded": {
          "model_module": "@jupyter-widgets/controls",
          "model_name": "ProgressStyleModel",
          "state": {
            "_view_name": "StyleView",
            "_model_name": "ProgressStyleModel",
            "description_width": "initial",
            "_view_module": "@jupyter-widgets/base",
            "_model_module_version": "1.5.0",
            "_view_count": null,
            "_view_module_version": "1.2.0",
            "bar_color": null,
            "_model_module": "@jupyter-widgets/controls"
          }
        },
        "74a8c55c6a4544a498c1d5733d7166a3": {
          "model_module": "@jupyter-widgets/base",
          "model_name": "LayoutModel",
          "state": {
            "_view_name": "LayoutView",
            "grid_template_rows": null,
            "right": null,
            "justify_content": null,
            "_view_module": "@jupyter-widgets/base",
            "overflow": null,
            "_model_module_version": "1.2.0",
            "_view_count": null,
            "flex_flow": null,
            "width": null,
            "min_width": null,
            "border": null,
            "align_items": null,
            "bottom": null,
            "_model_module": "@jupyter-widgets/base",
            "top": null,
            "grid_column": null,
            "overflow_y": null,
            "overflow_x": null,
            "grid_auto_flow": null,
            "grid_area": null,
            "grid_template_columns": null,
            "flex": null,
            "_model_name": "LayoutModel",
            "justify_items": null,
            "grid_row": null,
            "max_height": null,
            "align_content": null,
            "visibility": null,
            "align_self": null,
            "height": null,
            "min_height": null,
            "padding": null,
            "grid_auto_rows": null,
            "grid_gap": null,
            "max_width": null,
            "order": null,
            "_view_module_version": "1.2.0",
            "grid_template_areas": null,
            "object_position": null,
            "object_fit": null,
            "grid_auto_columns": null,
            "margin": null,
            "display": null,
            "left": null
          }
        },
        "06c66ca1b71947da8804504e0bafe61e": {
          "model_module": "@jupyter-widgets/controls",
          "model_name": "DescriptionStyleModel",
          "state": {
            "_view_name": "StyleView",
            "_model_name": "DescriptionStyleModel",
            "description_width": "",
            "_view_module": "@jupyter-widgets/base",
            "_model_module_version": "1.5.0",
            "_view_count": null,
            "_view_module_version": "1.2.0",
            "_model_module": "@jupyter-widgets/controls"
          }
        },
        "be727e67c1cc4c3590affb42603fd5e2": {
          "model_module": "@jupyter-widgets/base",
          "model_name": "LayoutModel",
          "state": {
            "_view_name": "LayoutView",
            "grid_template_rows": null,
            "right": null,
            "justify_content": null,
            "_view_module": "@jupyter-widgets/base",
            "overflow": null,
            "_model_module_version": "1.2.0",
            "_view_count": null,
            "flex_flow": null,
            "width": null,
            "min_width": null,
            "border": null,
            "align_items": null,
            "bottom": null,
            "_model_module": "@jupyter-widgets/base",
            "top": null,
            "grid_column": null,
            "overflow_y": null,
            "overflow_x": null,
            "grid_auto_flow": null,
            "grid_area": null,
            "grid_template_columns": null,
            "flex": null,
            "_model_name": "LayoutModel",
            "justify_items": null,
            "grid_row": null,
            "max_height": null,
            "align_content": null,
            "visibility": null,
            "align_self": null,
            "height": null,
            "min_height": null,
            "padding": null,
            "grid_auto_rows": null,
            "grid_gap": null,
            "max_width": null,
            "order": null,
            "_view_module_version": "1.2.0",
            "grid_template_areas": null,
            "object_position": null,
            "object_fit": null,
            "grid_auto_columns": null,
            "margin": null,
            "display": null,
            "left": null
          }
        },
        "ce44927540b44ed2832ec3217728deb4": {
          "model_module": "@jupyter-widgets/controls",
          "model_name": "HBoxModel",
          "state": {
            "_view_name": "HBoxView",
            "_dom_classes": [],
            "_model_name": "HBoxModel",
            "_view_module": "@jupyter-widgets/controls",
            "_model_module_version": "1.5.0",
            "_view_count": null,
            "_view_module_version": "1.5.0",
            "box_style": "",
            "layout": "IPY_MODEL_9d4e2d01e1d14b30a61f74239891c3c1",
            "_model_module": "@jupyter-widgets/controls",
            "children": [
              "IPY_MODEL_b4cfdb97c0e54ae0b71a470ee5ce9193",
              "IPY_MODEL_c67121886d5e4447b0b4d8a6cba4b273"
            ]
          }
        },
        "9d4e2d01e1d14b30a61f74239891c3c1": {
          "model_module": "@jupyter-widgets/base",
          "model_name": "LayoutModel",
          "state": {
            "_view_name": "LayoutView",
            "grid_template_rows": null,
            "right": null,
            "justify_content": null,
            "_view_module": "@jupyter-widgets/base",
            "overflow": null,
            "_model_module_version": "1.2.0",
            "_view_count": null,
            "flex_flow": null,
            "width": null,
            "min_width": null,
            "border": null,
            "align_items": null,
            "bottom": null,
            "_model_module": "@jupyter-widgets/base",
            "top": null,
            "grid_column": null,
            "overflow_y": null,
            "overflow_x": null,
            "grid_auto_flow": null,
            "grid_area": null,
            "grid_template_columns": null,
            "flex": null,
            "_model_name": "LayoutModel",
            "justify_items": null,
            "grid_row": null,
            "max_height": null,
            "align_content": null,
            "visibility": null,
            "align_self": null,
            "height": null,
            "min_height": null,
            "padding": null,
            "grid_auto_rows": null,
            "grid_gap": null,
            "max_width": null,
            "order": null,
            "_view_module_version": "1.2.0",
            "grid_template_areas": null,
            "object_position": null,
            "object_fit": null,
            "grid_auto_columns": null,
            "margin": null,
            "display": null,
            "left": null
          }
        },
        "b4cfdb97c0e54ae0b71a470ee5ce9193": {
          "model_module": "@jupyter-widgets/controls",
          "model_name": "FloatProgressModel",
          "state": {
            "_view_name": "ProgressView",
            "style": "IPY_MODEL_d907c00deced46af927839182aa7f150",
            "_dom_classes": [],
            "description": "Downloading: 100%",
            "_model_name": "FloatProgressModel",
            "bar_style": "success",
            "max": 456318,
            "_view_module": "@jupyter-widgets/controls",
            "_model_module_version": "1.5.0",
            "value": 456318,
            "_view_count": null,
            "_view_module_version": "1.5.0",
            "orientation": "horizontal",
            "min": 0,
            "description_tooltip": null,
            "_model_module": "@jupyter-widgets/controls",
            "layout": "IPY_MODEL_56ef4c02f0b24c34b12a1233186daa9e"
          }
        },
        "c67121886d5e4447b0b4d8a6cba4b273": {
          "model_module": "@jupyter-widgets/controls",
          "model_name": "HTMLModel",
          "state": {
            "_view_name": "HTMLView",
            "style": "IPY_MODEL_a41de820080c423a8abe6f52a2dbd7dc",
            "_dom_classes": [],
            "description": "",
            "_model_name": "HTMLModel",
            "placeholder": "​",
            "_view_module": "@jupyter-widgets/controls",
            "_model_module_version": "1.5.0",
            "value": " 456k/456k [00:02&lt;00:00, 204kB/s]",
            "_view_count": null,
            "_view_module_version": "1.5.0",
            "description_tooltip": null,
            "_model_module": "@jupyter-widgets/controls",
            "layout": "IPY_MODEL_d8f11a2efa114d85969e8b957c5eafad"
          }
        },
        "d907c00deced46af927839182aa7f150": {
          "model_module": "@jupyter-widgets/controls",
          "model_name": "ProgressStyleModel",
          "state": {
            "_view_name": "StyleView",
            "_model_name": "ProgressStyleModel",
            "description_width": "initial",
            "_view_module": "@jupyter-widgets/base",
            "_model_module_version": "1.5.0",
            "_view_count": null,
            "_view_module_version": "1.2.0",
            "bar_color": null,
            "_model_module": "@jupyter-widgets/controls"
          }
        },
        "56ef4c02f0b24c34b12a1233186daa9e": {
          "model_module": "@jupyter-widgets/base",
          "model_name": "LayoutModel",
          "state": {
            "_view_name": "LayoutView",
            "grid_template_rows": null,
            "right": null,
            "justify_content": null,
            "_view_module": "@jupyter-widgets/base",
            "overflow": null,
            "_model_module_version": "1.2.0",
            "_view_count": null,
            "flex_flow": null,
            "width": null,
            "min_width": null,
            "border": null,
            "align_items": null,
            "bottom": null,
            "_model_module": "@jupyter-widgets/base",
            "top": null,
            "grid_column": null,
            "overflow_y": null,
            "overflow_x": null,
            "grid_auto_flow": null,
            "grid_area": null,
            "grid_template_columns": null,
            "flex": null,
            "_model_name": "LayoutModel",
            "justify_items": null,
            "grid_row": null,
            "max_height": null,
            "align_content": null,
            "visibility": null,
            "align_self": null,
            "height": null,
            "min_height": null,
            "padding": null,
            "grid_auto_rows": null,
            "grid_gap": null,
            "max_width": null,
            "order": null,
            "_view_module_version": "1.2.0",
            "grid_template_areas": null,
            "object_position": null,
            "object_fit": null,
            "grid_auto_columns": null,
            "margin": null,
            "display": null,
            "left": null
          }
        },
        "a41de820080c423a8abe6f52a2dbd7dc": {
          "model_module": "@jupyter-widgets/controls",
          "model_name": "DescriptionStyleModel",
          "state": {
            "_view_name": "StyleView",
            "_model_name": "DescriptionStyleModel",
            "description_width": "",
            "_view_module": "@jupyter-widgets/base",
            "_model_module_version": "1.5.0",
            "_view_count": null,
            "_view_module_version": "1.2.0",
            "_model_module": "@jupyter-widgets/controls"
          }
        },
        "d8f11a2efa114d85969e8b957c5eafad": {
          "model_module": "@jupyter-widgets/base",
          "model_name": "LayoutModel",
          "state": {
            "_view_name": "LayoutView",
            "grid_template_rows": null,
            "right": null,
            "justify_content": null,
            "_view_module": "@jupyter-widgets/base",
            "overflow": null,
            "_model_module_version": "1.2.0",
            "_view_count": null,
            "flex_flow": null,
            "width": null,
            "min_width": null,
            "border": null,
            "align_items": null,
            "bottom": null,
            "_model_module": "@jupyter-widgets/base",
            "top": null,
            "grid_column": null,
            "overflow_y": null,
            "overflow_x": null,
            "grid_auto_flow": null,
            "grid_area": null,
            "grid_template_columns": null,
            "flex": null,
            "_model_name": "LayoutModel",
            "justify_items": null,
            "grid_row": null,
            "max_height": null,
            "align_content": null,
            "visibility": null,
            "align_self": null,
            "height": null,
            "min_height": null,
            "padding": null,
            "grid_auto_rows": null,
            "grid_gap": null,
            "max_width": null,
            "order": null,
            "_view_module_version": "1.2.0",
            "grid_template_areas": null,
            "object_position": null,
            "object_fit": null,
            "grid_auto_columns": null,
            "margin": null,
            "display": null,
            "left": null
          }
        },
        "48eb0ccfb12644c8948a84034ac73a3d": {
          "model_module": "@jupyter-widgets/controls",
          "model_name": "HBoxModel",
          "state": {
            "_view_name": "HBoxView",
            "_dom_classes": [],
            "_model_name": "HBoxModel",
            "_view_module": "@jupyter-widgets/controls",
            "_model_module_version": "1.5.0",
            "_view_count": null,
            "_view_module_version": "1.5.0",
            "box_style": "",
            "layout": "IPY_MODEL_77cb64dc94dd45ffb7aa2bd3af3dd776",
            "_model_module": "@jupyter-widgets/controls",
            "children": [
              "IPY_MODEL_d9bf4ecb78684a9486bdc4bef9ff89c7",
              "IPY_MODEL_f4089bcad50446148c7a73f211c9e154"
            ]
          }
        },
        "77cb64dc94dd45ffb7aa2bd3af3dd776": {
          "model_module": "@jupyter-widgets/base",
          "model_name": "LayoutModel",
          "state": {
            "_view_name": "LayoutView",
            "grid_template_rows": null,
            "right": null,
            "justify_content": null,
            "_view_module": "@jupyter-widgets/base",
            "overflow": null,
            "_model_module_version": "1.2.0",
            "_view_count": null,
            "flex_flow": null,
            "width": null,
            "min_width": null,
            "border": null,
            "align_items": null,
            "bottom": null,
            "_model_module": "@jupyter-widgets/base",
            "top": null,
            "grid_column": null,
            "overflow_y": null,
            "overflow_x": null,
            "grid_auto_flow": null,
            "grid_area": null,
            "grid_template_columns": null,
            "flex": null,
            "_model_name": "LayoutModel",
            "justify_items": null,
            "grid_row": null,
            "max_height": null,
            "align_content": null,
            "visibility": null,
            "align_self": null,
            "height": null,
            "min_height": null,
            "padding": null,
            "grid_auto_rows": null,
            "grid_gap": null,
            "max_width": null,
            "order": null,
            "_view_module_version": "1.2.0",
            "grid_template_areas": null,
            "object_position": null,
            "object_fit": null,
            "grid_auto_columns": null,
            "margin": null,
            "display": null,
            "left": null
          }
        },
        "d9bf4ecb78684a9486bdc4bef9ff89c7": {
          "model_module": "@jupyter-widgets/controls",
          "model_name": "FloatProgressModel",
          "state": {
            "_view_name": "ProgressView",
            "style": "IPY_MODEL_ddc3ce0d3ecb4ab2a2d5c2887b40daeb",
            "_dom_classes": [],
            "description": "Downloading: 100%",
            "_model_name": "FloatProgressModel",
            "bar_style": "success",
            "max": 1355256,
            "_view_module": "@jupyter-widgets/controls",
            "_model_module_version": "1.5.0",
            "value": 1355256,
            "_view_count": null,
            "_view_module_version": "1.5.0",
            "orientation": "horizontal",
            "min": 0,
            "description_tooltip": null,
            "_model_module": "@jupyter-widgets/controls",
            "layout": "IPY_MODEL_d15575724ce6430cbe3be30d84b4a30d"
          }
        },
        "f4089bcad50446148c7a73f211c9e154": {
          "model_module": "@jupyter-widgets/controls",
          "model_name": "HTMLModel",
          "state": {
            "_view_name": "HTMLView",
            "style": "IPY_MODEL_1af5e32b07b3416a9ff2eab856b997e1",
            "_dom_classes": [],
            "description": "",
            "_model_name": "HTMLModel",
            "placeholder": "​",
            "_view_module": "@jupyter-widgets/controls",
            "_model_module_version": "1.5.0",
            "value": " 1.36M/1.36M [00:00&lt;00:00, 4.21MB/s]",
            "_view_count": null,
            "_view_module_version": "1.5.0",
            "description_tooltip": null,
            "_model_module": "@jupyter-widgets/controls",
            "layout": "IPY_MODEL_da26ec9a5a4849a386e53bfbc001059e"
          }
        },
        "ddc3ce0d3ecb4ab2a2d5c2887b40daeb": {
          "model_module": "@jupyter-widgets/controls",
          "model_name": "ProgressStyleModel",
          "state": {
            "_view_name": "StyleView",
            "_model_name": "ProgressStyleModel",
            "description_width": "initial",
            "_view_module": "@jupyter-widgets/base",
            "_model_module_version": "1.5.0",
            "_view_count": null,
            "_view_module_version": "1.2.0",
            "bar_color": null,
            "_model_module": "@jupyter-widgets/controls"
          }
        },
        "d15575724ce6430cbe3be30d84b4a30d": {
          "model_module": "@jupyter-widgets/base",
          "model_name": "LayoutModel",
          "state": {
            "_view_name": "LayoutView",
            "grid_template_rows": null,
            "right": null,
            "justify_content": null,
            "_view_module": "@jupyter-widgets/base",
            "overflow": null,
            "_model_module_version": "1.2.0",
            "_view_count": null,
            "flex_flow": null,
            "width": null,
            "min_width": null,
            "border": null,
            "align_items": null,
            "bottom": null,
            "_model_module": "@jupyter-widgets/base",
            "top": null,
            "grid_column": null,
            "overflow_y": null,
            "overflow_x": null,
            "grid_auto_flow": null,
            "grid_area": null,
            "grid_template_columns": null,
            "flex": null,
            "_model_name": "LayoutModel",
            "justify_items": null,
            "grid_row": null,
            "max_height": null,
            "align_content": null,
            "visibility": null,
            "align_self": null,
            "height": null,
            "min_height": null,
            "padding": null,
            "grid_auto_rows": null,
            "grid_gap": null,
            "max_width": null,
            "order": null,
            "_view_module_version": "1.2.0",
            "grid_template_areas": null,
            "object_position": null,
            "object_fit": null,
            "grid_auto_columns": null,
            "margin": null,
            "display": null,
            "left": null
          }
        },
        "1af5e32b07b3416a9ff2eab856b997e1": {
          "model_module": "@jupyter-widgets/controls",
          "model_name": "DescriptionStyleModel",
          "state": {
            "_view_name": "StyleView",
            "_model_name": "DescriptionStyleModel",
            "description_width": "",
            "_view_module": "@jupyter-widgets/base",
            "_model_module_version": "1.5.0",
            "_view_count": null,
            "_view_module_version": "1.2.0",
            "_model_module": "@jupyter-widgets/controls"
          }
        },
        "da26ec9a5a4849a386e53bfbc001059e": {
          "model_module": "@jupyter-widgets/base",
          "model_name": "LayoutModel",
          "state": {
            "_view_name": "LayoutView",
            "grid_template_rows": null,
            "right": null,
            "justify_content": null,
            "_view_module": "@jupyter-widgets/base",
            "overflow": null,
            "_model_module_version": "1.2.0",
            "_view_count": null,
            "flex_flow": null,
            "width": null,
            "min_width": null,
            "border": null,
            "align_items": null,
            "bottom": null,
            "_model_module": "@jupyter-widgets/base",
            "top": null,
            "grid_column": null,
            "overflow_y": null,
            "overflow_x": null,
            "grid_auto_flow": null,
            "grid_area": null,
            "grid_template_columns": null,
            "flex": null,
            "_model_name": "LayoutModel",
            "justify_items": null,
            "grid_row": null,
            "max_height": null,
            "align_content": null,
            "visibility": null,
            "align_self": null,
            "height": null,
            "min_height": null,
            "padding": null,
            "grid_auto_rows": null,
            "grid_gap": null,
            "max_width": null,
            "order": null,
            "_view_module_version": "1.2.0",
            "grid_template_areas": null,
            "object_position": null,
            "object_fit": null,
            "grid_auto_columns": null,
            "margin": null,
            "display": null,
            "left": null
          }
        },
        "6d892baae77c4b47889e5f907ff81792": {
          "model_module": "@jupyter-widgets/controls",
          "model_name": "HBoxModel",
          "state": {
            "_view_name": "HBoxView",
            "_dom_classes": [],
            "_model_name": "HBoxModel",
            "_view_module": "@jupyter-widgets/controls",
            "_model_module_version": "1.5.0",
            "_view_count": null,
            "_view_module_version": "1.5.0",
            "box_style": "",
            "layout": "IPY_MODEL_1d4db5bbb17748f4a3943f3bdf0f728f",
            "_model_module": "@jupyter-widgets/controls",
            "children": [
              "IPY_MODEL_87fee89b0960496cbc0db4117f83d75a",
              "IPY_MODEL_ea6acadb45634f409104662e269f7d67"
            ]
          }
        },
        "1d4db5bbb17748f4a3943f3bdf0f728f": {
          "model_module": "@jupyter-widgets/base",
          "model_name": "LayoutModel",
          "state": {
            "_view_name": "LayoutView",
            "grid_template_rows": null,
            "right": null,
            "justify_content": null,
            "_view_module": "@jupyter-widgets/base",
            "overflow": null,
            "_model_module_version": "1.2.0",
            "_view_count": null,
            "flex_flow": null,
            "width": null,
            "min_width": null,
            "border": null,
            "align_items": null,
            "bottom": null,
            "_model_module": "@jupyter-widgets/base",
            "top": null,
            "grid_column": null,
            "overflow_y": null,
            "overflow_x": null,
            "grid_auto_flow": null,
            "grid_area": null,
            "grid_template_columns": null,
            "flex": null,
            "_model_name": "LayoutModel",
            "justify_items": null,
            "grid_row": null,
            "max_height": null,
            "align_content": null,
            "visibility": null,
            "align_self": null,
            "height": null,
            "min_height": null,
            "padding": null,
            "grid_auto_rows": null,
            "grid_gap": null,
            "max_width": null,
            "order": null,
            "_view_module_version": "1.2.0",
            "grid_template_areas": null,
            "object_position": null,
            "object_fit": null,
            "grid_auto_columns": null,
            "margin": null,
            "display": null,
            "left": null
          }
        },
        "87fee89b0960496cbc0db4117f83d75a": {
          "model_module": "@jupyter-widgets/controls",
          "model_name": "FloatProgressModel",
          "state": {
            "_view_name": "ProgressView",
            "style": "IPY_MODEL_9f0762710d044a1090de8ea849c136de",
            "_dom_classes": [],
            "description": "Downloading: 100%",
            "_model_name": "FloatProgressModel",
            "bar_style": "success",
            "max": 665,
            "_view_module": "@jupyter-widgets/controls",
            "_model_module_version": "1.5.0",
            "value": 665,
            "_view_count": null,
            "_view_module_version": "1.5.0",
            "orientation": "horizontal",
            "min": 0,
            "description_tooltip": null,
            "_model_module": "@jupyter-widgets/controls",
            "layout": "IPY_MODEL_ef65dfdc418142f1bb9235f3d022e5ea"
          }
        },
        "ea6acadb45634f409104662e269f7d67": {
          "model_module": "@jupyter-widgets/controls",
          "model_name": "HTMLModel",
          "state": {
            "_view_name": "HTMLView",
            "style": "IPY_MODEL_f75bf2963b5b434f860ac3f7577590cd",
            "_dom_classes": [],
            "description": "",
            "_model_name": "HTMLModel",
            "placeholder": "​",
            "_view_module": "@jupyter-widgets/controls",
            "_model_module_version": "1.5.0",
            "value": " 665/665 [00:00&lt;00:00, 21.0kB/s]",
            "_view_count": null,
            "_view_module_version": "1.5.0",
            "description_tooltip": null,
            "_model_module": "@jupyter-widgets/controls",
            "layout": "IPY_MODEL_c89b2551b2394672883113e5a319e8f2"
          }
        },
        "9f0762710d044a1090de8ea849c136de": {
          "model_module": "@jupyter-widgets/controls",
          "model_name": "ProgressStyleModel",
          "state": {
            "_view_name": "StyleView",
            "_model_name": "ProgressStyleModel",
            "description_width": "initial",
            "_view_module": "@jupyter-widgets/base",
            "_model_module_version": "1.5.0",
            "_view_count": null,
            "_view_module_version": "1.2.0",
            "bar_color": null,
            "_model_module": "@jupyter-widgets/controls"
          }
        },
        "ef65dfdc418142f1bb9235f3d022e5ea": {
          "model_module": "@jupyter-widgets/base",
          "model_name": "LayoutModel",
          "state": {
            "_view_name": "LayoutView",
            "grid_template_rows": null,
            "right": null,
            "justify_content": null,
            "_view_module": "@jupyter-widgets/base",
            "overflow": null,
            "_model_module_version": "1.2.0",
            "_view_count": null,
            "flex_flow": null,
            "width": null,
            "min_width": null,
            "border": null,
            "align_items": null,
            "bottom": null,
            "_model_module": "@jupyter-widgets/base",
            "top": null,
            "grid_column": null,
            "overflow_y": null,
            "overflow_x": null,
            "grid_auto_flow": null,
            "grid_area": null,
            "grid_template_columns": null,
            "flex": null,
            "_model_name": "LayoutModel",
            "justify_items": null,
            "grid_row": null,
            "max_height": null,
            "align_content": null,
            "visibility": null,
            "align_self": null,
            "height": null,
            "min_height": null,
            "padding": null,
            "grid_auto_rows": null,
            "grid_gap": null,
            "max_width": null,
            "order": null,
            "_view_module_version": "1.2.0",
            "grid_template_areas": null,
            "object_position": null,
            "object_fit": null,
            "grid_auto_columns": null,
            "margin": null,
            "display": null,
            "left": null
          }
        },
        "f75bf2963b5b434f860ac3f7577590cd": {
          "model_module": "@jupyter-widgets/controls",
          "model_name": "DescriptionStyleModel",
          "state": {
            "_view_name": "StyleView",
            "_model_name": "DescriptionStyleModel",
            "description_width": "",
            "_view_module": "@jupyter-widgets/base",
            "_model_module_version": "1.5.0",
            "_view_count": null,
            "_view_module_version": "1.2.0",
            "_model_module": "@jupyter-widgets/controls"
          }
        },
        "c89b2551b2394672883113e5a319e8f2": {
          "model_module": "@jupyter-widgets/base",
          "model_name": "LayoutModel",
          "state": {
            "_view_name": "LayoutView",
            "grid_template_rows": null,
            "right": null,
            "justify_content": null,
            "_view_module": "@jupyter-widgets/base",
            "overflow": null,
            "_model_module_version": "1.2.0",
            "_view_count": null,
            "flex_flow": null,
            "width": null,
            "min_width": null,
            "border": null,
            "align_items": null,
            "bottom": null,
            "_model_module": "@jupyter-widgets/base",
            "top": null,
            "grid_column": null,
            "overflow_y": null,
            "overflow_x": null,
            "grid_auto_flow": null,
            "grid_area": null,
            "grid_template_columns": null,
            "flex": null,
            "_model_name": "LayoutModel",
            "justify_items": null,
            "grid_row": null,
            "max_height": null,
            "align_content": null,
            "visibility": null,
            "align_self": null,
            "height": null,
            "min_height": null,
            "padding": null,
            "grid_auto_rows": null,
            "grid_gap": null,
            "max_width": null,
            "order": null,
            "_view_module_version": "1.2.0",
            "grid_template_areas": null,
            "object_position": null,
            "object_fit": null,
            "grid_auto_columns": null,
            "margin": null,
            "display": null,
            "left": null
          }
        },
        "c8a48365242d4d56ab168c2ea52b112d": {
          "model_module": "@jupyter-widgets/controls",
          "model_name": "HBoxModel",
          "state": {
            "_view_name": "HBoxView",
            "_dom_classes": [],
            "_model_name": "HBoxModel",
            "_view_module": "@jupyter-widgets/controls",
            "_model_module_version": "1.5.0",
            "_view_count": null,
            "_view_module_version": "1.5.0",
            "box_style": "",
            "layout": "IPY_MODEL_84b9e0fabe0d40beb94892133399dd5a",
            "_model_module": "@jupyter-widgets/controls",
            "children": [
              "IPY_MODEL_6e1f7ee21ccf435aaf51862ae6df02c5",
              "IPY_MODEL_f51e594159ab4668a41f8d1d2a84a0e9"
            ]
          }
        },
        "84b9e0fabe0d40beb94892133399dd5a": {
          "model_module": "@jupyter-widgets/base",
          "model_name": "LayoutModel",
          "state": {
            "_view_name": "LayoutView",
            "grid_template_rows": null,
            "right": null,
            "justify_content": null,
            "_view_module": "@jupyter-widgets/base",
            "overflow": null,
            "_model_module_version": "1.2.0",
            "_view_count": null,
            "flex_flow": null,
            "width": null,
            "min_width": null,
            "border": null,
            "align_items": null,
            "bottom": null,
            "_model_module": "@jupyter-widgets/base",
            "top": null,
            "grid_column": null,
            "overflow_y": null,
            "overflow_x": null,
            "grid_auto_flow": null,
            "grid_area": null,
            "grid_template_columns": null,
            "flex": null,
            "_model_name": "LayoutModel",
            "justify_items": null,
            "grid_row": null,
            "max_height": null,
            "align_content": null,
            "visibility": null,
            "align_self": null,
            "height": null,
            "min_height": null,
            "padding": null,
            "grid_auto_rows": null,
            "grid_gap": null,
            "max_width": null,
            "order": null,
            "_view_module_version": "1.2.0",
            "grid_template_areas": null,
            "object_position": null,
            "object_fit": null,
            "grid_auto_columns": null,
            "margin": null,
            "display": null,
            "left": null
          }
        },
        "6e1f7ee21ccf435aaf51862ae6df02c5": {
          "model_module": "@jupyter-widgets/controls",
          "model_name": "FloatProgressModel",
          "state": {
            "_view_name": "ProgressView",
            "style": "IPY_MODEL_757f7ea1787a4ceeb6046c33b52e3a62",
            "_dom_classes": [],
            "description": "Downloading: 100%",
            "_model_name": "FloatProgressModel",
            "bar_style": "success",
            "max": 548118077,
            "_view_module": "@jupyter-widgets/controls",
            "_model_module_version": "1.5.0",
            "value": 548118077,
            "_view_count": null,
            "_view_module_version": "1.5.0",
            "orientation": "horizontal",
            "min": 0,
            "description_tooltip": null,
            "_model_module": "@jupyter-widgets/controls",
            "layout": "IPY_MODEL_86ce1bdcfce446c3a204f5009003ed24"
          }
        },
        "f51e594159ab4668a41f8d1d2a84a0e9": {
          "model_module": "@jupyter-widgets/controls",
          "model_name": "HTMLModel",
          "state": {
            "_view_name": "HTMLView",
            "style": "IPY_MODEL_576dd34917864d9f9595bf6c286e6697",
            "_dom_classes": [],
            "description": "",
            "_model_name": "HTMLModel",
            "placeholder": "​",
            "_view_module": "@jupyter-widgets/controls",
            "_model_module_version": "1.5.0",
            "value": " 548M/548M [01:40&lt;00:00, 5.48MB/s]",
            "_view_count": null,
            "_view_module_version": "1.5.0",
            "description_tooltip": null,
            "_model_module": "@jupyter-widgets/controls",
            "layout": "IPY_MODEL_6a419e6fe6904a1ea0ac67349ef6617e"
          }
        },
        "757f7ea1787a4ceeb6046c33b52e3a62": {
          "model_module": "@jupyter-widgets/controls",
          "model_name": "ProgressStyleModel",
          "state": {
            "_view_name": "StyleView",
            "_model_name": "ProgressStyleModel",
            "description_width": "initial",
            "_view_module": "@jupyter-widgets/base",
            "_model_module_version": "1.5.0",
            "_view_count": null,
            "_view_module_version": "1.2.0",
            "bar_color": null,
            "_model_module": "@jupyter-widgets/controls"
          }
        },
        "86ce1bdcfce446c3a204f5009003ed24": {
          "model_module": "@jupyter-widgets/base",
          "model_name": "LayoutModel",
          "state": {
            "_view_name": "LayoutView",
            "grid_template_rows": null,
            "right": null,
            "justify_content": null,
            "_view_module": "@jupyter-widgets/base",
            "overflow": null,
            "_model_module_version": "1.2.0",
            "_view_count": null,
            "flex_flow": null,
            "width": null,
            "min_width": null,
            "border": null,
            "align_items": null,
            "bottom": null,
            "_model_module": "@jupyter-widgets/base",
            "top": null,
            "grid_column": null,
            "overflow_y": null,
            "overflow_x": null,
            "grid_auto_flow": null,
            "grid_area": null,
            "grid_template_columns": null,
            "flex": null,
            "_model_name": "LayoutModel",
            "justify_items": null,
            "grid_row": null,
            "max_height": null,
            "align_content": null,
            "visibility": null,
            "align_self": null,
            "height": null,
            "min_height": null,
            "padding": null,
            "grid_auto_rows": null,
            "grid_gap": null,
            "max_width": null,
            "order": null,
            "_view_module_version": "1.2.0",
            "grid_template_areas": null,
            "object_position": null,
            "object_fit": null,
            "grid_auto_columns": null,
            "margin": null,
            "display": null,
            "left": null
          }
        },
        "576dd34917864d9f9595bf6c286e6697": {
          "model_module": "@jupyter-widgets/controls",
          "model_name": "DescriptionStyleModel",
          "state": {
            "_view_name": "StyleView",
            "_model_name": "DescriptionStyleModel",
            "description_width": "",
            "_view_module": "@jupyter-widgets/base",
            "_model_module_version": "1.5.0",
            "_view_count": null,
            "_view_module_version": "1.2.0",
            "_model_module": "@jupyter-widgets/controls"
          }
        },
        "6a419e6fe6904a1ea0ac67349ef6617e": {
          "model_module": "@jupyter-widgets/base",
          "model_name": "LayoutModel",
          "state": {
            "_view_name": "LayoutView",
            "grid_template_rows": null,
            "right": null,
            "justify_content": null,
            "_view_module": "@jupyter-widgets/base",
            "overflow": null,
            "_model_module_version": "1.2.0",
            "_view_count": null,
            "flex_flow": null,
            "width": null,
            "min_width": null,
            "border": null,
            "align_items": null,
            "bottom": null,
            "_model_module": "@jupyter-widgets/base",
            "top": null,
            "grid_column": null,
            "overflow_y": null,
            "overflow_x": null,
            "grid_auto_flow": null,
            "grid_area": null,
            "grid_template_columns": null,
            "flex": null,
            "_model_name": "LayoutModel",
            "justify_items": null,
            "grid_row": null,
            "max_height": null,
            "align_content": null,
            "visibility": null,
            "align_self": null,
            "height": null,
            "min_height": null,
            "padding": null,
            "grid_auto_rows": null,
            "grid_gap": null,
            "max_width": null,
            "order": null,
            "_view_module_version": "1.2.0",
            "grid_template_areas": null,
            "object_position": null,
            "object_fit": null,
            "grid_auto_columns": null,
            "margin": null,
            "display": null,
            "left": null
          }
        }
      }
    }
  },
  "cells": [
    {
      "cell_type": "code",
      "metadata": {
        "colab": {
          "base_uri": "https://localhost:8080/"
        },
        "id": "neYBE5QkknEQ",
        "outputId": "f9b9ee38-f8e3-4ce2-f20b-793b29c711c1"
      },
      "source": [
        "from google.colab import drive\n",
        "drive.mount('/content/drive')\n",
        "home_directory = '/content/drive/MyDrive/Aps360 Project/Datasets/'\n",
        "model_name = 'model_article_summary_to_poem_200_32'\n"
      ],
      "execution_count": 1,
      "outputs": [
        {
          "output_type": "stream",
          "text": [
            "Mounted at /content/drive\n"
          ],
          "name": "stdout"
        }
      ]
    },
    {
      "cell_type": "code",
      "metadata": {
        "colab": {
          "base_uri": "https://localhost:8080/"
        },
        "id": "nKB4JZOGmygE",
        "outputId": "a64fa8ac-cf4b-4a3a-95e3-9ab1183c6dc9"
      },
      "source": [
        "!pip install transformers"
      ],
      "execution_count": 2,
      "outputs": [
        {
          "output_type": "stream",
          "text": [
            "Collecting transformers\n",
            "  Downloading transformers-4.9.1-py3-none-any.whl (2.6 MB)\n",
            "\u001b[K     |████████████████████████████████| 2.6 MB 14.6 MB/s \n",
            "\u001b[?25hRequirement already satisfied: importlib-metadata in /usr/local/lib/python3.7/dist-packages (from transformers) (4.6.1)\n",
            "Requirement already satisfied: numpy>=1.17 in /usr/local/lib/python3.7/dist-packages (from transformers) (1.19.5)\n",
            "Requirement already satisfied: filelock in /usr/local/lib/python3.7/dist-packages (from transformers) (3.0.12)\n",
            "Requirement already satisfied: packaging in /usr/local/lib/python3.7/dist-packages (from transformers) (21.0)\n",
            "Collecting sacremoses\n",
            "  Downloading sacremoses-0.0.45-py3-none-any.whl (895 kB)\n",
            "\u001b[K     |████████████████████████████████| 895 kB 59.6 MB/s \n",
            "\u001b[?25hRequirement already satisfied: tqdm>=4.27 in /usr/local/lib/python3.7/dist-packages (from transformers) (4.41.1)\n",
            "Collecting tokenizers<0.11,>=0.10.1\n",
            "  Downloading tokenizers-0.10.3-cp37-cp37m-manylinux_2_5_x86_64.manylinux1_x86_64.manylinux_2_12_x86_64.manylinux2010_x86_64.whl (3.3 MB)\n",
            "\u001b[K     |████████████████████████████████| 3.3 MB 44.2 MB/s \n",
            "\u001b[?25hRequirement already satisfied: regex!=2019.12.17 in /usr/local/lib/python3.7/dist-packages (from transformers) (2019.12.20)\n",
            "Collecting pyyaml>=5.1\n",
            "  Downloading PyYAML-5.4.1-cp37-cp37m-manylinux1_x86_64.whl (636 kB)\n",
            "\u001b[K     |████████████████████████████████| 636 kB 71.1 MB/s \n",
            "\u001b[?25hCollecting huggingface-hub==0.0.12\n",
            "  Downloading huggingface_hub-0.0.12-py3-none-any.whl (37 kB)\n",
            "Requirement already satisfied: requests in /usr/local/lib/python3.7/dist-packages (from transformers) (2.23.0)\n",
            "Requirement already satisfied: typing-extensions in /usr/local/lib/python3.7/dist-packages (from huggingface-hub==0.0.12->transformers) (3.7.4.3)\n",
            "Requirement already satisfied: pyparsing>=2.0.2 in /usr/local/lib/python3.7/dist-packages (from packaging->transformers) (2.4.7)\n",
            "Requirement already satisfied: zipp>=0.5 in /usr/local/lib/python3.7/dist-packages (from importlib-metadata->transformers) (3.5.0)\n",
            "Requirement already satisfied: idna<3,>=2.5 in /usr/local/lib/python3.7/dist-packages (from requests->transformers) (2.10)\n",
            "Requirement already satisfied: urllib3!=1.25.0,!=1.25.1,<1.26,>=1.21.1 in /usr/local/lib/python3.7/dist-packages (from requests->transformers) (1.24.3)\n",
            "Requirement already satisfied: chardet<4,>=3.0.2 in /usr/local/lib/python3.7/dist-packages (from requests->transformers) (3.0.4)\n",
            "Requirement already satisfied: certifi>=2017.4.17 in /usr/local/lib/python3.7/dist-packages (from requests->transformers) (2021.5.30)\n",
            "Requirement already satisfied: joblib in /usr/local/lib/python3.7/dist-packages (from sacremoses->transformers) (1.0.1)\n",
            "Requirement already satisfied: click in /usr/local/lib/python3.7/dist-packages (from sacremoses->transformers) (7.1.2)\n",
            "Requirement already satisfied: six in /usr/local/lib/python3.7/dist-packages (from sacremoses->transformers) (1.15.0)\n",
            "Installing collected packages: tokenizers, sacremoses, pyyaml, huggingface-hub, transformers\n",
            "  Attempting uninstall: pyyaml\n",
            "    Found existing installation: PyYAML 3.13\n",
            "    Uninstalling PyYAML-3.13:\n",
            "      Successfully uninstalled PyYAML-3.13\n",
            "Successfully installed huggingface-hub-0.0.12 pyyaml-5.4.1 sacremoses-0.0.45 tokenizers-0.10.3 transformers-4.9.1\n"
          ],
          "name": "stdout"
        }
      ]
    },
    {
      "cell_type": "code",
      "metadata": {
        "id": "ctmbSXE2m136"
      },
      "source": [
        "import numpy as np\n",
        "import pandas as pd \n",
        "\n",
        "import random\n",
        "import time\n",
        "import datetime\n",
        "import gc\n",
        "\n",
        "import torch\n",
        "from transformers import GPT2Tokenizer, GPT2LMHeadModel, GPT2Config, AdamW, get_linear_schedule_with_warmup\n",
        "from torch.utils.data import Dataset, random_split, DataLoader, RandomSampler, SequentialSampler, Subset"
      ],
      "execution_count": 3,
      "outputs": []
    },
    {
      "cell_type": "code",
      "metadata": {
        "id": "f6w9v0TmnJzI",
        "colab": {
          "base_uri": "https://localhost:8080/",
          "height": 213,
          "referenced_widgets": [
            "61c4869b07894342b785e6f63f9a7f24",
            "52438fa73386418ba69cdca859e4bd73",
            "dcf03572c3ab4c66b519b605bfb83260",
            "7ddb2fda18c14e4aa4b545e8979b95f2",
            "083f4898e083400994cc9a982662dded",
            "74a8c55c6a4544a498c1d5733d7166a3",
            "06c66ca1b71947da8804504e0bafe61e",
            "be727e67c1cc4c3590affb42603fd5e2",
            "ce44927540b44ed2832ec3217728deb4",
            "9d4e2d01e1d14b30a61f74239891c3c1",
            "b4cfdb97c0e54ae0b71a470ee5ce9193",
            "c67121886d5e4447b0b4d8a6cba4b273",
            "d907c00deced46af927839182aa7f150",
            "56ef4c02f0b24c34b12a1233186daa9e",
            "a41de820080c423a8abe6f52a2dbd7dc",
            "d8f11a2efa114d85969e8b957c5eafad",
            "48eb0ccfb12644c8948a84034ac73a3d",
            "77cb64dc94dd45ffb7aa2bd3af3dd776",
            "d9bf4ecb78684a9486bdc4bef9ff89c7",
            "f4089bcad50446148c7a73f211c9e154",
            "ddc3ce0d3ecb4ab2a2d5c2887b40daeb",
            "d15575724ce6430cbe3be30d84b4a30d",
            "1af5e32b07b3416a9ff2eab856b997e1",
            "da26ec9a5a4849a386e53bfbc001059e",
            "6d892baae77c4b47889e5f907ff81792",
            "1d4db5bbb17748f4a3943f3bdf0f728f",
            "87fee89b0960496cbc0db4117f83d75a",
            "ea6acadb45634f409104662e269f7d67",
            "9f0762710d044a1090de8ea849c136de",
            "ef65dfdc418142f1bb9235f3d022e5ea",
            "f75bf2963b5b434f860ac3f7577590cd",
            "c89b2551b2394672883113e5a319e8f2"
          ]
        },
        "outputId": "37c67255-c6c8-4a45-c7bb-e8d7f17bfb3e"
      },
      "source": [
        "tokenizer = GPT2Tokenizer.from_pretrained('gpt2')\n",
        "\n",
        "special_tokens_dict = {'bos_token': '<BOS>', 'sep_token':'<SEP>', 'eos_token': '<EOS>', 'pad_token': '<PAD>'}\n",
        "num_added_tokens = tokenizer.add_special_tokens(special_tokens_dict)"
      ],
      "execution_count": 4,
      "outputs": [
        {
          "output_type": "display_data",
          "data": {
            "application/vnd.jupyter.widget-view+json": {
              "model_id": "61c4869b07894342b785e6f63f9a7f24",
              "version_minor": 0,
              "version_major": 2
            },
            "text/plain": [
              "HBox(children=(FloatProgress(value=0.0, description='Downloading', max=1042301.0, style=ProgressStyle(descript…"
            ]
          },
          "metadata": {
            "tags": []
          }
        },
        {
          "output_type": "stream",
          "text": [
            "\n"
          ],
          "name": "stdout"
        },
        {
          "output_type": "display_data",
          "data": {
            "application/vnd.jupyter.widget-view+json": {
              "model_id": "ce44927540b44ed2832ec3217728deb4",
              "version_minor": 0,
              "version_major": 2
            },
            "text/plain": [
              "HBox(children=(FloatProgress(value=0.0, description='Downloading', max=456318.0, style=ProgressStyle(descripti…"
            ]
          },
          "metadata": {
            "tags": []
          }
        },
        {
          "output_type": "stream",
          "text": [
            "\n"
          ],
          "name": "stdout"
        },
        {
          "output_type": "display_data",
          "data": {
            "application/vnd.jupyter.widget-view+json": {
              "model_id": "48eb0ccfb12644c8948a84034ac73a3d",
              "version_minor": 0,
              "version_major": 2
            },
            "text/plain": [
              "HBox(children=(FloatProgress(value=0.0, description='Downloading', max=1355256.0, style=ProgressStyle(descript…"
            ]
          },
          "metadata": {
            "tags": []
          }
        },
        {
          "output_type": "stream",
          "text": [
            "\n"
          ],
          "name": "stdout"
        },
        {
          "output_type": "display_data",
          "data": {
            "application/vnd.jupyter.widget-view+json": {
              "model_id": "6d892baae77c4b47889e5f907ff81792",
              "version_minor": 0,
              "version_major": 2
            },
            "text/plain": [
              "HBox(children=(FloatProgress(value=0.0, description='Downloading', max=665.0, style=ProgressStyle(description_…"
            ]
          },
          "metadata": {
            "tags": []
          }
        },
        {
          "output_type": "stream",
          "text": [
            "\n"
          ],
          "name": "stdout"
        }
      ]
    },
    {
      "cell_type": "code",
      "metadata": {
        "id": "lqpZX4K92GH5"
      },
      "source": [
        "RANDOM_SEED = 73\n",
        "BATCH_SIZE = 20\n",
        "EPOCHS = 5\n",
        "MAX_LEN = 200"
      ],
      "execution_count": 5,
      "outputs": []
    },
    {
      "cell_type": "code",
      "metadata": {
        "id": "tpb3uYlYWxD2"
      },
      "source": [
        "class PoemWithSummaryDataset(Dataset):\n",
        "    \n",
        "    def __init__(self, input, target, tokenizer, gpt2_type='gpt2', max_length=MAX_LEN):\n",
        "        self.tokenizer = tokenizer\n",
        "        self.data = []\n",
        "        self.attn_masks = []\n",
        "        \n",
        "        for i in range(len(input)):\n",
        "          \n",
        "          \n",
        "          encodings_dict = tokenizer(input[i] + '<SEP>' + target[i],\n",
        "                                    truncation=True,\n",
        "                                    max_length=max_length,\n",
        "                                    padding='max_length'\n",
        "                                  )\n",
        "          \"\"\"\n",
        "          #For checking how long the data is\n",
        "          encodings_dict = tokenizer(input[i] + '<SEP>' + target[i]) \n",
        "          \"\"\"\n",
        "          \n",
        "          self.data.append(torch.tensor(encodings_dict['input_ids']))\n",
        "          self.attn_masks.append(torch.tensor(encodings_dict['attention_mask']))\n",
        "\n",
        "    def __len__(self):\n",
        "        \n",
        "        return len(self.data)\n",
        "    \n",
        "    def __getitem__(self, idx):\n",
        "        \n",
        "        return self.data[idx], self.attn_masks[idx]\n",
        "        "
      ],
      "execution_count": 6,
      "outputs": []
    },
    {
      "cell_type": "code",
      "metadata": {
        "id": "6a433iTh65iE"
      },
      "source": [
        "#Helper functions\n",
        "def get_train_val_size(split, dataset):\n",
        "    train_size = int(split * len(dataset))\n",
        "    val_size = len(dataset) - train_size\n",
        "    return train_size, val_size\n",
        "def format_time(elapsed):\n",
        "    return str(datetime.timedelta(seconds=int(round((elapsed)))))"
      ],
      "execution_count": 7,
      "outputs": []
    },
    {
      "cell_type": "code",
      "metadata": {
        "id": "pn8MewR7Z5mF"
      },
      "source": [
        "def train(poem_model,learning_rate=1e-4,eps=1e-8,warmup_steps=50,starting_epoch=0):\n",
        "  optimizer = AdamW(poem_model.parameters(), lr=learning_rate, eps=eps)\n",
        "  total_steps = len(poem_train_dataloader) * EPOCHS\n",
        "  scheduler = get_linear_schedule_with_warmup(optimizer,\n",
        "                                              num_warmup_steps=warmup_steps,\n",
        "                                              num_training_steps=total_steps)\n",
        "  start_time = time.time()\n",
        "  train_loss = []\n",
        "  val_loss = []\n",
        "  for epoch_i in range(starting_epoch, EPOCHS):\n",
        "      print(f'Epoch {epoch_i + 1} of {EPOCHS}')\n",
        "      t0 = time.time()\n",
        "\n",
        "      #Train the model\n",
        "      total_train_loss = 0\n",
        "      poem_model.train()\n",
        "      for step, batch in enumerate(poem_train_dataloader):\n",
        "\n",
        "          #Note that the labels are the same as the input. This is because the \n",
        "          #GPT2LMHeadModel That we are using shifts the labels by 1 meaning that \n",
        "          #the label for each input token is the next input token. This is desired \n",
        "          #when building a language model because we want the predicted output to\n",
        "          #be the next most likely word in the sentence. \n",
        "          b_input_ids = batch[0].to(device)\n",
        "          b_masks = batch[1].to(device)\n",
        "\n",
        "          poem_model.zero_grad()        \n",
        "          outputs = poem_model(b_input_ids,\n",
        "                                      labels=b_input_ids,\n",
        "                                      attention_mask=b_masks,\n",
        "                                      token_type_ids=None)\n",
        "          loss = outputs[0]  \n",
        "          batch_loss = loss.item()\n",
        "          total_train_loss += batch_loss\n",
        "\n",
        "          loss.backward()\n",
        "          optimizer.step()\n",
        "          scheduler.step()\n",
        "\n",
        "      avg_train_loss = total_train_loss / len(poem_train_dataloader)       \n",
        "      training_time = format_time(time.time() - t0)\n",
        "      print(f'Average Training Loss: {avg_train_loss}. Epoch Training Time: {training_time}')\n",
        "      \n",
        "      t0 = time.time()\n",
        "\n",
        "      #Evaluate the model\n",
        "      poem_model.eval()\n",
        "      total_eval_loss = 0\n",
        "      nb_eval_steps = 0\n",
        "      for batch in poem_val_dataloader:\n",
        "          b_input_ids = batch[0].to(device)\n",
        "          b_masks = batch[1].to(device)\n",
        "\n",
        "          with torch.no_grad():        \n",
        "              outputs  = poem_model(b_input_ids,\n",
        "                                          attention_mask=b_masks,\n",
        "                                          labels=b_input_ids)\n",
        "              loss = outputs[0]  \n",
        "\n",
        "          batch_loss = loss.item()\n",
        "          total_eval_loss += batch_loss        \n",
        "\n",
        "      avg_val_loss = total_eval_loss / len(poem_val_dataloader)\n",
        "\n",
        "      train_loss.append(avg_train_loss)\n",
        "      val_loss.append(avg_val_loss)\n",
        "      torch.save(poem_model.state_dict(), \"{}/{}\".format(\n",
        "              home_directory,model_name))\n",
        "      print(f'Average Validation Loss: {avg_val_loss}')\n",
        "\n",
        "  np.savetxt(\"{}/{}_train_loss.csv\".format(home_directory, model_name), train_loss)\n",
        "  np.savetxt(\"{}/{}_val_loss.csv\".format(home_directory, model_name), val_loss)\n",
        "  print(f'Total Training Time: {format_time(time.time()-start_time)}')\n"
      ],
      "execution_count": 8,
      "outputs": []
    },
    {
      "cell_type": "markdown",
      "metadata": {
        "id": "glXP8HYKFdte"
      },
      "source": [
        "##Loading the data"
      ]
    },
    {
      "cell_type": "code",
      "metadata": {
        "id": "54Napcvu7LMa"
      },
      "source": [
        "#Load them poems we want to train our model with\n",
        "#poem_df = pd.read_csv(home_directory + 'poe_poems_with_summary_and_title.csv')\n",
        "#poem_df = pd.read_csv(home_directory + 'InshortsCleanedData.csv')\n",
        "poem_df = pd.read_csv(home_directory + 'kaggle_poem_dataset.csv')\n",
        "\n",
        "#inputs = poem_df['Summary']\n",
        "#targets = poem_df['Poem']\n",
        "#inputs = poem_df['Headline']\n",
        "#targets = poem_df['Short']\n",
        "inputs = poem_df['Title']\n",
        "targets = poem_df['Content']\n",
        "\n",
        "inputs = inputs.values\n",
        "targets = targets.values\n",
        "\n",
        "\n",
        "#Load the GPT2 tokenizer that will be used by PoemDataset to encode the poems. Add the \n",
        "#BOS,EOS and PAD tokens to the tokenized dictionary so that when we put these \n",
        "#Tokens around our poems to separate them, the tokenizer will know what to do with them.\n",
        "tokenizer = GPT2Tokenizer.from_pretrained('gpt2')\n",
        "special_tokens_dict = {'bos_token': '<BOS>', 'eos_token': '<EOS>', 'sep_token':'<SEP>', 'pad_token': '<PAD>'}\n",
        "tokenizer.add_special_tokens(special_tokens_dict)\n",
        "\n",
        "#create an object of the PoemWithSummaryDataset class\n",
        "#that will hold an ordered list of the tokenized version of each poem and its summary\n",
        "poem_dataset = PoemWithSummaryDataset(inputs, targets, tokenizer)\n",
        "\n"
      ],
      "execution_count": 9,
      "outputs": []
    },
    {
      "cell_type": "code",
      "metadata": {
        "id": "vXkxGyuYq53L"
      },
      "source": [
        "#Split the poem dataset into a training set and a validation set.\n",
        "poem_train_size, poem_val_size = get_train_val_size(split=0.8, dataset=poem_dataset)\n",
        "\n",
        "#FOR TESTING\n",
        "\"\"\"\n",
        "poem_train_size = 800\n",
        "poem_val_size = 200\n",
        "poem_train_dataset = Subset(poem_dataset,range(0,800))\n",
        "poem_val_dataset = Subset(poem_dataset,range(800,1000))\n",
        "\"\"\"\n",
        "poem_train_dataset, poem_val_dataset = random_split(poem_dataset, [poem_train_size, poem_val_size])\n",
        "poem_train_dataloader = DataLoader(poem_train_dataset,\n",
        "                              sampler=RandomSampler(poem_train_dataset),\n",
        "                              batch_size=BATCH_SIZE)\n",
        "poem_val_dataloader = DataLoader(poem_val_dataset,\n",
        "                            sampler=SequentialSampler(poem_val_dataset),\n",
        "                            batch_size=BATCH_SIZE)"
      ],
      "execution_count": 10,
      "outputs": []
    },
    {
      "cell_type": "code",
      "metadata": {
        "colab": {
          "base_uri": "https://localhost:8080/",
          "height": 52
        },
        "id": "T6kHwY45iZko",
        "outputId": "af68f731-70b7-4152-aa8a-fef43ece2213"
      },
      "source": [
        "\"\"\"\n",
        "#checking how large the encodings should be\n",
        "num_over = 0\n",
        "total = len(poem_dataset.data)\n",
        "for target in poem_dataset.data:\n",
        "  if len(target) > 200:\n",
        "    num_over+=1\n",
        "print(num_over)\n",
        "print(total)\n",
        "\"\"\""
      ],
      "execution_count": 11,
      "outputs": [
        {
          "output_type": "execute_result",
          "data": {
            "application/vnd.google.colaboratory.intrinsic+json": {
              "type": "string"
            },
            "text/plain": [
              "'\\n#checking how large the encodings should be\\nnum_over = 0\\ntotal = len(poem_dataset.data)\\nfor target in poem_dataset.data:\\n  if len(target) > 200:\\n    num_over+=1\\nprint(num_over)\\nprint(total)\\n'"
            ]
          },
          "metadata": {
            "tags": []
          },
          "execution_count": 11
        }
      ]
    },
    {
      "cell_type": "markdown",
      "metadata": {
        "id": "WgE2SugSFixX"
      },
      "source": [
        "##Setup the model"
      ]
    },
    {
      "cell_type": "code",
      "metadata": {
        "id": "bH6kHnm3Lv44",
        "colab": {
          "base_uri": "https://localhost:8080/",
          "height": 66,
          "referenced_widgets": [
            "c8a48365242d4d56ab168c2ea52b112d",
            "84b9e0fabe0d40beb94892133399dd5a",
            "6e1f7ee21ccf435aaf51862ae6df02c5",
            "f51e594159ab4668a41f8d1d2a84a0e9",
            "757f7ea1787a4ceeb6046c33b52e3a62",
            "86ce1bdcfce446c3a204f5009003ed24",
            "576dd34917864d9f9595bf6c286e6697",
            "6a419e6fe6904a1ea0ac67349ef6617e"
          ]
        },
        "outputId": "2d9169b0-ab51-4ce4-f983-b44afa122223"
      },
      "source": [
        "torch.cuda.manual_seed_all(RANDOM_SEED)\n",
        "random.seed(RANDOM_SEED)\n",
        "np.random.seed(RANDOM_SEED)\n",
        "torch.manual_seed(RANDOM_SEED)\n",
        "device = torch.device('cuda')\n",
        "\n",
        "gc.collect()\n",
        "torch.cuda.empty_cache() \n",
        "\n",
        "#If you are only evaluating the model and don't want to train it again,\n",
        "#set training_desired to false. Otherwise set it to true and choose the \n",
        "#epoch you left off at last time to start Training from (0 if you haven't).\n",
        "load_previous_state_dict = True\n",
        "previous_state_dict_location = \"model_article_summaries\"#\"model_summary_poe_epoch_7\"\n",
        "\n",
        "\n",
        "#Setup the pretrained GPT2 model\n",
        "configuration = GPT2Config(vocab_size=len(tokenizer), n_positions=MAX_LEN).from_pretrained('gpt2', output_hidden_states=True)\n",
        "poem_model = GPT2LMHeadModel.from_pretrained('gpt2', config=configuration)\n",
        "poem_model.resize_token_embeddings(len(tokenizer))\n",
        "\n",
        "if load_previous_state_dict:\n",
        "  poem_model.load_state_dict(torch.load(\"{}/{}\".format(home_directory,previous_state_dict_location)))\n",
        "\n",
        "poem_model.cuda()\n",
        "poem_model = poem_model.to(device)"
      ],
      "execution_count": 12,
      "outputs": [
        {
          "output_type": "display_data",
          "data": {
            "application/vnd.jupyter.widget-view+json": {
              "model_id": "c8a48365242d4d56ab168c2ea52b112d",
              "version_minor": 0,
              "version_major": 2
            },
            "text/plain": [
              "HBox(children=(FloatProgress(value=0.0, description='Downloading', max=548118077.0, style=ProgressStyle(descri…"
            ]
          },
          "metadata": {
            "tags": []
          }
        },
        {
          "output_type": "stream",
          "text": [
            "\n"
          ],
          "name": "stdout"
        }
      ]
    },
    {
      "cell_type": "markdown",
      "metadata": {
        "id": "eS7nXGLPGin2"
      },
      "source": [
        "##Train the model if desired"
      ]
    },
    {
      "cell_type": "code",
      "metadata": {
        "colab": {
          "base_uri": "https://localhost:8080/"
        },
        "id": "qJhHeyz4b_6e",
        "outputId": "40d79768-e3b8-4666-f0df-528759ef089f"
      },
      "source": [
        "!nvidia-smi"
      ],
      "execution_count": 13,
      "outputs": [
        {
          "output_type": "stream",
          "text": [
            "Tue Jul 27 14:16:30 2021       \n",
            "+-----------------------------------------------------------------------------+\n",
            "| NVIDIA-SMI 470.42.01    Driver Version: 460.32.03    CUDA Version: 11.2     |\n",
            "|-------------------------------+----------------------+----------------------+\n",
            "| GPU  Name        Persistence-M| Bus-Id        Disp.A | Volatile Uncorr. ECC |\n",
            "| Fan  Temp  Perf  Pwr:Usage/Cap|         Memory-Usage | GPU-Util  Compute M. |\n",
            "|                               |                      |               MIG M. |\n",
            "|===============================+======================+======================|\n",
            "|   0  Tesla V100-SXM2...  Off  | 00000000:00:04.0 Off |                    0 |\n",
            "| N/A   43C    P0    41W / 300W |   1883MiB / 16160MiB |     19%      Default |\n",
            "|                               |                      |                  N/A |\n",
            "+-------------------------------+----------------------+----------------------+\n",
            "                                                                               \n",
            "+-----------------------------------------------------------------------------+\n",
            "| Processes:                                                                  |\n",
            "|  GPU   GI   CI        PID   Type   Process name                  GPU Memory |\n",
            "|        ID   ID                                                   Usage      |\n",
            "|=============================================================================|\n",
            "|  No running processes found                                                 |\n",
            "+-----------------------------------------------------------------------------+\n"
          ],
          "name": "stdout"
        }
      ]
    },
    {
      "cell_type": "code",
      "metadata": {
        "colab": {
          "base_uri": "https://localhost:8080/"
        },
        "id": "iMVMqbBfGlij",
        "outputId": "ac9ef3ce-abb0-4c3a-ea53-365670a7b9b6"
      },
      "source": [
        "training_desired = True\n",
        "\n",
        "#If training_desired is set to true, choose the epoch you left off at last time\n",
        "#to continue training from there (put it as 0 if you haven't yet)\n",
        "starting_epoch = 0\n",
        "\n",
        "# hyperparameters\n",
        "learning_rate = 1e-4\n",
        "eps = 1e-8\n",
        "warmup_steps = 50\n",
        "if training_desired:\n",
        "  train(poem_model,learning_rate,eps,warmup_steps,starting_epoch)\n"
      ],
      "execution_count": 14,
      "outputs": [
        {
          "output_type": "stream",
          "text": [
            "Epoch 1 of 5\n",
            "Average Training Loss: 3.7276202807205907. Epoch Training Time: 0:03:31\n",
            "Average Validation Loss: 3.4661634940250665\n",
            "Epoch 2 of 5\n",
            "Average Training Loss: 3.489180924599631. Epoch Training Time: 0:03:31\n",
            "Average Validation Loss: 3.4249660148742094\n",
            "Epoch 3 of 5\n",
            "Average Training Loss: 3.402632172598223. Epoch Training Time: 0:03:32\n",
            "Average Validation Loss: 3.4075057476189485\n",
            "Epoch 4 of 5\n",
            "Average Training Loss: 3.3392478355000086. Epoch Training Time: 0:03:32\n",
            "Average Validation Loss: 3.4021612762645552\n",
            "Epoch 5 of 5\n",
            "Average Training Loss: 3.2972707292109584. Epoch Training Time: 0:03:32\n",
            "Average Validation Loss: 3.400982768672287\n",
            "Total Training Time: 0:19:12\n"
          ],
          "name": "stdout"
        }
      ]
    },
    {
      "cell_type": "markdown",
      "metadata": {
        "id": "Yq9wXu8xHp0l"
      },
      "source": [
        "##Use the model to generate poems"
      ]
    },
    {
      "cell_type": "code",
      "metadata": {
        "id": "P3wnIMn9HpFF"
      },
      "source": [
        "# create text generation seed prompt\n",
        "prompts = [\"Supreme Court to go paperless in 6 months: CJI<SEP>\", \n",
        "           \"Governer demands for more vaccines<SEP>\",\n",
        "           \"Scientists say chocolate is good for you<SEP>\",\n",
        "           \"Aus Open: Serena, Sharapova progress to round 3\"]\n"
      ],
      "execution_count": 15,
      "outputs": []
    },
    {
      "cell_type": "code",
      "metadata": {
        "id": "HjrJKVfNHvbg",
        "colab": {
          "base_uri": "https://localhost:8080/"
        },
        "outputId": "001a67ff-377d-4e90-a853-e872af7a0f04"
      },
      "source": [
        "poem_model.eval()\n",
        "           \n",
        "for prompt in prompts:\n",
        "  encoded = torch.tensor(tokenizer.encode(prompt)).unsqueeze(0)\n",
        "  generated = encoded.to(device)\n",
        "  sample_outputs = poem_model.generate(\n",
        "                                  generated, \n",
        "                                  do_sample=True,   \n",
        "                                  top_k=50, \n",
        "                                  max_length=MAX_LEN,\n",
        "                                  top_p=0.95, \n",
        "                                  num_return_sequences=3\n",
        "                                  )\n",
        "  print(\"\\nPrompt: \", prompt, \"\\n Generated:\\n\")\n",
        "\n",
        "  for i, sample_output in enumerate(sample_outputs):\n",
        "      print(\"{}: {}\\n\".format(i, tokenizer.decode(sample_output, skip_special_tokens=True)))\n",
        "  "
      ],
      "execution_count": 16,
      "outputs": [
        {
          "output_type": "stream",
          "text": [
            "Setting `pad_token_id` to `eos_token_id`:50256 for open-end generation.\n",
            "Setting `pad_token_id` to `eos_token_id`:50256 for open-end generation.\n"
          ],
          "name": "stderr"
        },
        {
          "output_type": "stream",
          "text": [
            "\n",
            "Prompt:  Supreme Court to go paperless in 6 months: CJI<SEP> \n",
            " Generated:\n",
            "\n",
            "0: Supreme Court to go paperless in 6 months: CJISupreme Court will not be back to its post-earthquake years, as all too often its lawyers have gone to Courtrooms and won, instead they have taken their seats in the high courts. They will be busy with matters of governance, the law of the land, and civil rights. This is not to say that this Court will not be the last to look after the public in ways that harm the well-being of the community. However, it is likely that there will be other cases that are in line with the will of the government. \n",
            " \n",
            "  \n",
            "  \n",
            "   Launch Audio in a New WindowIt is a privilege to be a lawyer. I was not a lawyer before the end of the world. This day will never be the same, which is why the President-elect campaigned on this important issue. We have to trust that you and I will work together to solve\n",
            "\n",
            "1: Supreme Court to go paperless in 6 months: CJII am going to do it all day, to the point of almost uselessness.\n",
            "\n",
            "I will be on the telephone with you, I will be on the radio with you,\n",
            "I will be on the radio in New York, but what will I be doing?\n",
            "\n",
            "There will be meetings to discuss a motion to stay the order of December.\n",
            "\n",
            "At the very least, I hope you will accept this. I hope you will not.\n",
            "\n",
            "I am going to sit and read. I am going to watch your phone call, and you might want to call your secretary.\n",
            "\n",
            "The way you are now is all you have to do\n",
            "to live the life of the lawyer with you at your command. You will have to sit, watch TV or listen to music.\n",
            "\n",
            "I am going to give you a good night’s rest, I am going to give you a good bed.\n",
            "\n",
            "2: Supreme Court to go paperless in 6 months: CJISupreme Court to go paperless in 6 months:\n",
            "Supreme Court\n",
            " \n",
            " \n",
            "  \n",
            "   Launch Audio in a New WindowI\n",
            "Am a lawyer, my father said.\n",
            "\n",
            "I can run my day in my office\n",
            "\n",
            "and get on with my life.\n",
            "\n",
            "And I can get on with my life, my mother\n",
            "said, “I believe in the power of the free\n",
            "\n",
            "or at the cost of that, the freedom that the lawyer\n",
            "\n",
            "might want” if he could.\n",
            "\n",
            "II\n",
            "\n",
            "I’ve got a lot to lose.\n",
            "\n",
            "I’ve got a lot to gain\n",
            "\n",
            "And it’s hard to tell if a lawyer can hold his or her own\n",
            "\n",
            "against a legal challenge\n",
            "that could put him or her in jail for a month.\n",
            "\n",
            "III\n",
            "\n",
            "Like the lawyer, I am\n",
            "\n"
          ],
          "name": "stdout"
        },
        {
          "output_type": "stream",
          "text": [
            "Setting `pad_token_id` to `eos_token_id`:50256 for open-end generation.\n"
          ],
          "name": "stderr"
        },
        {
          "output_type": "stream",
          "text": [
            "\n",
            "Prompt:  Governer demands for more vaccines<SEP> \n",
            " Generated:\n",
            "\n",
            "0: Governer demands for more vaccinesI can’t answer what he’s saying.\n",
            "It’s possible he’s trying to get to the point.\n",
            "He’s not. I’m almost certain\n",
            "that the other doctors are going to give him more.\n",
            "His daughter, she tells me, isn’t ready.\n",
            "She told him earlier to keep it hidden.\n",
            "His daughter asked how long ago she got sick\n",
            "and why she had not yet been tested.\n",
            "The doctor told her to put it on hold.\n",
            "I can’t believe she was told that.\n",
            "I don’t know what he’s thinking.\n",
            "If a boy had more than one wife,\n",
            "they’d have more than one child.\n",
            "\n",
            "He doesn’t think it, they’re wrong:\n",
            "they’ve just told a whole different story\n",
            "when they gave him his shots,\n",
            "\n",
            "\n",
            "1: Governer demands for more vaccinesHe wants a more secure world\n",
            "with more children; I say, &amp; I am\n",
            "still a skeptic. My father says\n",
            "it isn’t hard, doesn’t take much\n",
            "to get started\n",
            "with. I say, but this isn’t\n",
            "easy—there’s always blood,\n",
            "a few chemicals and chemicals.\n",
            "And I say, &amp; I am still a skeptic.\n",
            "\n",
            "Here on the moon\n",
            "it’s very different—the moon\n",
            "is beautiful, not a black and white\n",
            "haze. It’s like this\n",
            "for my mother, who\n",
            "still insists on making a new face\n",
            "of herself and who\n",
            "is afraid of becoming more crazy.\n",
            "And it’s really a good thing\n",
            "that she isn’t afraid, but she isn’t\n",
            "crazy. My mother\n",
            "and I, at our wedding,\n",
            "have a\n",
            "\n",
            "2: Governer demands for more vaccinesThe Governor demands a vaccine to make our children safe,\n",
            "to stop the spread of diseases, that we all work hard together.\n",
            "He would also like to hear about our other children and make them better\n",
            "\n",
            "and would like to hear their voices be heard when the state asks for a new plan\n",
            "for the children. He would also like to know that if any of the children have received a new shot\n",
            "\n",
            "they would be safe to go and that if any other children have received shots in the past\n",
            "they would also be safe. He would also like to hear about the children’s lives and health.\n",
            "\n",
            "He would also like to hear about the future we should live in and what will happen\n",
            "when the kids are sick again. He would also like to ask them to share stories from childhood\n",
            "\n",
            "when they were little. He would also like to see how the people of this state\n",
            "are doing this to educate their children. It\n",
            "\n"
          ],
          "name": "stdout"
        },
        {
          "output_type": "stream",
          "text": [
            "Setting `pad_token_id` to `eos_token_id`:50256 for open-end generation.\n"
          ],
          "name": "stderr"
        },
        {
          "output_type": "stream",
          "text": [
            "\n",
            "Prompt:  Scientists say chocolate is good for you<SEP> \n",
            " Generated:\n",
            "\n",
            "0: Scientists say chocolate is good for youfor Carolyn L.\n",
            "One of my childhood friends told me\n",
            "\n",
            "that chocolate is good for you.\n",
            "\n",
            "You go with your nose and your chin\n",
            "on a leash as you dance,\n",
            "but you know exactly what you are doing\n",
            "\n",
            "and it makes the whole family happier.\n",
            "\n",
            "When he got up, he said I looked\n",
            "out of the window and he was sitting\n",
            "\n",
            "in his chair, the little cake,\n",
            "his feet folded over his back.\n",
            "\n",
            "It is the same after that. The whole family\n",
            "\n",
            "will enjoy chocolate.\n",
            "\n",
            "He said he was going to buy a car\n",
            "\n",
            "but I said, don’t buy a car\n",
            "so that I can finish it.\n",
            "\n",
            "I asked him why he thought it\n",
            "silly, he said, and he said it doesn’t matter\n",
            "\n",
            "if I can’t finish the cake.\n",
            "\n",
            "He said I can finish it,\n",
            "\n",
            "1: Scientists say chocolate is good for youFor a century\n",
            "the cocoa bean is believed to cure all sorts of ailments.\n",
            "It can help your children get up in the morning\n",
            "and get up early in the evening,\n",
            "not just in the middle of the night.\n",
            "It can help to get a mother off the couch,\n",
            "and get rid of her fear of waking up\n",
            "with her hands in her lap,\n",
            "and the smell of the cocoa bean\n",
            "in the back of your mouth.\n",
            "I love how the chocolate is good for you,\n",
            "you and your children.\n",
            "I love how it is a favorite,\n",
            "you and your children,\n",
            "who never dreamed of going to war\n",
            "with the enemy.I loved you\n",
            "and I knew it would be good for you,\n",
            "if you didn’t mind.\n",
            "I love it for you,\n",
            "but I wouldn’t go along with that,\n",
            "because I wouldn’t have\n",
            "\n",
            "2: Scientists say chocolate is good for youThere are lots of people out there who make love with\n",
            "cigarettes, or candy bars, and aren't happy with what they get,\n",
            "the way the French say the cat keeps going in his cage.\n",
            "It's really hard to get them to love you, even if\n",
            "they do. The same goes for your dog, for example. The same for me. I keep\n",
            "my dog’s heart in the box, even though I can’t\n",
            "get the dog to stop. That’s not what I get from chocolate.\n",
            "You know how you’re supposed to love someone.\n",
            "You can make a man love something you don’t. It’s\n",
            "like making a girl hate a woman.\n",
            "You have to be willing to do what it takes.\n",
            "\n",
            "You have to trust what you get. I know some people\n",
            "don’t want their chocolate. They want it for a\n",
            "\n",
            "\n",
            "Prompt:  Aus Open: Serena, Sharapova progress to round 3 \n",
            " Generated:\n",
            "\n",
            "0: Aus Open: Serena, Sharapova progress to round 3Oly on the day of the Australian Open, Serena Williams’s unseeded career ended early,\n",
            "the Spaniard was on the ropes but soon reeled off to win her fourth career round.\n",
            "Seventeen months later, after seven weeks of decline, she’s back at number one.\n",
            "Three-time Grand Slam winner and Serena’s third Grand Slam champion, Maria Sharapova has been placed eighth.\n",
            "She’s up there with Maria Sharapova, who had been placed fourth, with nine, ten, fifteen, and seventeen wins, a record which has held for ten.\n",
            "Fourteen minutes into the match, she moves to seven, with Sharapova scoring her sixth.\n",
            "When the rain stops, as expected, Serena Williams is ready,\n",
            "but the rain’s too heavy in the paddock, where she faces two French Open\n",
            "\n",
            "1: Aus Open: Serena, Sharapova progress to round 3This is Serena, who took the final bout with Sharapova in an hour and a half\n",
            "at the Ultimate Fighting Championship in Miami Beach on Sunday. I wanted\n",
            "the shot in place of a bad hand, so I tried it and couldn't.\n",
            "The shot was in place of bad knees, so I thought I was shooting it well,\n",
            "and when I pressed hard, it was as good as it got.\n",
            "In retrospect, I wish I had the legs to hold the shot,\n",
            "even when it needed to be aimed. The best part of this fight, though, is\n",
            "the difference I made: the way I threw it against her,\n",
            "her left leg to the side, just enough to hold me back, so tight\n",
            "it took the long legs of a bad hand a while to get it right.\n",
            "\n",
            "On the other hand, I was a little hesitant, thinking\n",
            "a bad\n",
            "\n",
            "2: Aus Open: Serena, Sharapova progress to round 3The second round, Serena Williams moves from the last set to the ninth, to face world number 1 Sania Mirza. With a score of 3-1, Serena won the match 4-2, 4-3, 4-2\n",
            "and was one minute in, 5 minutes out of the second round. In the round 2, the world number one won with an 11-21, 7-4, 6-3 win, to Serena’s best finish of 13th place in the tournament, clinching the trophy. In the round 3, the world number one won with a 7-3, 7-4 win, 2-1. This is Serena winning her third consecutive championship. The winner of this match will face Serena at the end of the quarterfinal tomorrow.Aus Open: Serena Williams advances to round 3, clocked\n",
            "\n"
          ],
          "name": "stdout"
        }
      ]
    }
  ]
}